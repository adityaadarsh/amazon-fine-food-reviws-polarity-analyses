{
 "cells": [
  {
   "cell_type": "markdown",
   "metadata": {},
   "source": [
    "# [1]. Reading Data"
   ]
  },
  {
   "cell_type": "markdown",
   "metadata": {},
   "source": [
    "# Amazon Fine Food Reviews Analysis\n",
    "\n",
    "\n",
    "Data Source: https://www.kaggle.com/snap/amazon-fine-food-reviews <br>\n",
    "\n",
    "EDA: https://nycdatascience.com/blog/student-works/amazon-fine-foods-visualization/\n",
    "\n",
    "\n",
    "The Amazon Fine Food Reviews dataset consists of reviews of fine foods from Amazon.<br>\n",
    "\n",
    "Number of reviews: 568,454<br>\n",
    "Number of users: 256,059<br>\n",
    "Number of products: 74,258<br>\n",
    "Timespan: Oct 1999 - Oct 2012<br>\n",
    "Number of Attributes/Columns in data: 10 \n",
    "\n",
    "Attribute Information:\n",
    "\n",
    "1. Id\n",
    "2. ProductId - unique identifier for the product\n",
    "3. UserId - unqiue identifier for the user\n",
    "4. ProfileName\n",
    "5. HelpfulnessNumerator - number of users who found the review helpful\n",
    "6. HelpfulnessDenominator - number of users who indicated whether they found the review helpful or not\n",
    "7. Score - rating between 1 and 5\n",
    "8. Time - timestamp for the review\n",
    "9. Summary - brief summary of the review\n",
    "10. Text - text of the review\n",
    "\n",
    "\n",
    "#### Objective:\n",
    "Given a review, determine whether the review is positive (rating of 4 or 5) or negative (rating of 1 or 2).\n",
    "\n",
    "<br>\n",
    "[Q] How to determine if a review is positive or negative?<br>\n",
    "<br> \n",
    "[Ans] We could use Score/Rating. A rating of 4 or 5 can be cosnidered as a positive review. A rating of 1 or 2 can be considered as negative one. A review of rating 3 is considered nuetral and such reviews are ignored from our analysis. This is an approximate and proxy way of determining the polarity (positivity/negativity) of a review.\n",
    "\n",
    "\n"
   ]
  },
  {
   "cell_type": "markdown",
   "metadata": {},
   "source": [
    "## [1.1] Loading the data\n",
    "\n",
    "The dataset is available in two forms\n",
    "1. .csv file\n",
    "2. SQLite Database\n",
    "\n",
    "In order to load the data, We have used the CSV dataset <br> \n",
    "\n",
    "Here as we only want to get the global sentiment of the recommendations (positive or negative), we will purposefully ignore all Scores equal to 3. If the score is above 3, then the recommendation wil be set to \"positive\". Otherwise, it will be set to \"negative\"."
   ]
  },
  {
   "cell_type": "code",
   "execution_count": 1,
   "metadata": {},
   "outputs": [
    {
     "name": "stderr",
     "output_type": "stream",
     "text": [
      "C:\\Users\\Adarsh\\Anaconda3\\lib\\site-packages\\gensim\\utils.py:1212: UserWarning: detected Windows; aliasing chunkize to chunkize_serial\n",
      "  warnings.warn(\"detected Windows; aliasing chunkize to chunkize_serial\")\n"
     ]
    }
   ],
   "source": [
    "%matplotlib inline\n",
    "import warnings\n",
    "warnings.filterwarnings(\"ignore\")\n",
    "\n",
    "\n",
    "import sqlite3\n",
    "import pandas as pd\n",
    "import numpy as np\n",
    "import nltk\n",
    "import string\n",
    "import matplotlib.pyplot as plt\n",
    "import seaborn as sns\n",
    "from sklearn.feature_extraction.text import TfidfTransformer\n",
    "from sklearn.feature_extraction.text import TfidfVectorizer\n",
    "\n",
    "from sklearn.metrics import accuracy_score\n",
    "import seaborn as sn\n",
    "from sklearn.metrics import classification_report\n",
    "\n",
    "from sklearn.feature_extraction.text import CountVectorizer\n",
    "from sklearn.metrics import confusion_matrix\n",
    "from sklearn import metrics\n",
    "from sklearn.metrics import roc_curve, auc\n",
    "from nltk.stem.porter import PorterStemmer\n",
    "\n",
    "from sklearn.neighbors import KNeighborsClassifier\n",
    "from sklearn.metrics import roc_auc_score\n",
    "import matplotlib.pyplot as plt\n",
    "from sklearn.model_selection import validation_curve\n",
    "\n",
    "import re\n",
    "# Tutorial about Python regular expressions: https://pymotw.com/2/re/\n",
    "import string\n",
    "from nltk.corpus import stopwords\n",
    "from nltk.stem import PorterStemmer\n",
    "from nltk.stem.wordnet import WordNetLemmatizer\n",
    "\n",
    "from gensim.models import Word2Vec\n",
    "from gensim.models import KeyedVectors\n",
    "import pickle\n",
    "\n",
    "from tqdm import tqdm\n",
    "import os"
   ]
  },
  {
   "cell_type": "code",
   "execution_count": 2,
   "metadata": {},
   "outputs": [],
   "source": [
    "#loading train and test and validation dataset\n",
    "\n",
    "file=open(\"x_train.pkl\",\"rb\")\n",
    "x_train=pickle.load(file) # loading 'train' dataset\n",
    "\n",
    "file=open(\"x_cv.pkl\",'rb')\n",
    "x_cv=pickle.load(file) # loading 'validation' dataset\n",
    "\n",
    "file=open(\"x_test.pkl\",'rb')\n",
    "x_test=pickle.load(file) # loading 'test' dataset\n",
    "\n",
    "file=open(\"y_train.pkl\",\"rb\")\n",
    "y_train=pickle.load(file) # loading 'train' dataset\n",
    "\n",
    "file=open(\"y_cv.pkl\",'rb')\n",
    "y_cv=pickle.load(file) # loading 'validation' dataset\n",
    "\n",
    "file=open(\"y_test.pkl\",'rb')\n",
    "y_test=pickle.load(file) # loading 'test' dataset\n",
    "\n",
    "#loading train_bow and test _bow\n",
    "file=open('x_train_bow.pkl','rb')\n",
    "x_train_bow=pickle.load(file)\n",
    "\n",
    "file=open('x_test_bow.pkl','rb')\n",
    "x_test_bow=pickle.load(file)\n",
    "\n",
    "file=open('x_cv_bow.pkl','rb')\n",
    "x_cv_bow=pickle.load(file)\n",
    "\n",
    "#loading train_tf_idf and test_tf_idf\n",
    "file=open('train_tf_idf.pkl','rb')\n",
    "train_tf_idf=pickle.load(file)\n",
    "\n",
    "file=open('cv_tf_idf.pkl','rb')\n",
    "cv_tf_idf=pickle.load(file)\n",
    "\n",
    "file=open('test_tf_idf.pkl','rb')\n",
    "test_tf_idf=pickle.load(file)\n",
    "\n",
    "#loading train_w2v and test_w2v\n",
    "file=open('train_w2v.pkl','rb')\n",
    "train_w2v=pickle.load(file)\n",
    "\n",
    "file=open('cv_w2v.pkl','rb')\n",
    "cv_w2v=pickle.load(file)\n",
    "\n",
    "file=open('test_w2v.pkl','rb')\n",
    "test_w2v=pickle.load(file)\n",
    "\n",
    "#loading train_tf_idf_w2v and test_tf_idf_w2v\n",
    "file=open('train_tf_idf_w2v.pkl','rb')\n",
    "train_tf_idf_w2v=pickle.load(file)\n",
    "\n",
    "file=open('cv_tf_idf_w2v.pkl','rb')\n",
    "cv_tf_idf_w2v=pickle.load(file)\n",
    "\n",
    "file=open('test_tf_idf_w2v.pkl','rb')\n",
    "test_tf_idf_w2v=pickle.load(file)"
   ]
  },
  {
   "cell_type": "code",
   "execution_count": 7,
   "metadata": {},
   "outputs": [
    {
     "name": "stdout",
     "output_type": "stream",
     "text": [
      "(568454, 10)\n"
     ]
    },
    {
     "data": {
      "text/html": [
       "<div>\n",
       "<style scoped>\n",
       "    .dataframe tbody tr th:only-of-type {\n",
       "        vertical-align: middle;\n",
       "    }\n",
       "\n",
       "    .dataframe tbody tr th {\n",
       "        vertical-align: top;\n",
       "    }\n",
       "\n",
       "    .dataframe thead th {\n",
       "        text-align: right;\n",
       "    }\n",
       "</style>\n",
       "<table border=\"1\" class=\"dataframe\">\n",
       "  <thead>\n",
       "    <tr style=\"text-align: right;\">\n",
       "      <th></th>\n",
       "      <th>Id</th>\n",
       "      <th>ProductId</th>\n",
       "      <th>UserId</th>\n",
       "      <th>ProfileName</th>\n",
       "      <th>HelpfulnessNumerator</th>\n",
       "      <th>HelpfulnessDenominator</th>\n",
       "      <th>Score</th>\n",
       "      <th>Time</th>\n",
       "      <th>Summary</th>\n",
       "      <th>Text</th>\n",
       "    </tr>\n",
       "  </thead>\n",
       "  <tbody>\n",
       "    <tr>\n",
       "      <th>0</th>\n",
       "      <td>1</td>\n",
       "      <td>B001E4KFG0</td>\n",
       "      <td>A3SGXH7AUHU8GW</td>\n",
       "      <td>delmartian</td>\n",
       "      <td>1</td>\n",
       "      <td>1</td>\n",
       "      <td>5</td>\n",
       "      <td>1303862400</td>\n",
       "      <td>Good Quality Dog Food</td>\n",
       "      <td>I have bought several of the Vitality canned d...</td>\n",
       "    </tr>\n",
       "    <tr>\n",
       "      <th>1</th>\n",
       "      <td>2</td>\n",
       "      <td>B00813GRG4</td>\n",
       "      <td>A1D87F6ZCVE5NK</td>\n",
       "      <td>dll pa</td>\n",
       "      <td>0</td>\n",
       "      <td>0</td>\n",
       "      <td>1</td>\n",
       "      <td>1346976000</td>\n",
       "      <td>Not as Advertised</td>\n",
       "      <td>Product arrived labeled as Jumbo Salted Peanut...</td>\n",
       "    </tr>\n",
       "    <tr>\n",
       "      <th>2</th>\n",
       "      <td>3</td>\n",
       "      <td>B000LQOCH0</td>\n",
       "      <td>ABXLMWJIXXAIN</td>\n",
       "      <td>Natalia Corres \"Natalia Corres\"</td>\n",
       "      <td>1</td>\n",
       "      <td>1</td>\n",
       "      <td>4</td>\n",
       "      <td>1219017600</td>\n",
       "      <td>\"Delight\" says it all</td>\n",
       "      <td>This is a confection that has been around a fe...</td>\n",
       "    </tr>\n",
       "  </tbody>\n",
       "</table>\n",
       "</div>"
      ],
      "text/plain": [
       "   Id   ProductId          UserId                      ProfileName  \\\n",
       "0   1  B001E4KFG0  A3SGXH7AUHU8GW                       delmartian   \n",
       "1   2  B00813GRG4  A1D87F6ZCVE5NK                           dll pa   \n",
       "2   3  B000LQOCH0   ABXLMWJIXXAIN  Natalia Corres \"Natalia Corres\"   \n",
       "\n",
       "   HelpfulnessNumerator  HelpfulnessDenominator  Score        Time  \\\n",
       "0                     1                       1      5  1303862400   \n",
       "1                     0                       0      1  1346976000   \n",
       "2                     1                       1      4  1219017600   \n",
       "\n",
       "                 Summary                                               Text  \n",
       "0  Good Quality Dog Food  I have bought several of the Vitality canned d...  \n",
       "1      Not as Advertised  Product arrived labeled as Jumbo Salted Peanut...  \n",
       "2  \"Delight\" says it all  This is a confection that has been around a fe...  "
      ]
     },
     "execution_count": 7,
     "metadata": {},
     "output_type": "execute_result"
    }
   ],
   "source": [
    "# using csv Table to read data.\n",
    "\n",
    "dataset=pd.read_csv(\"Reviews.csv\") \n",
    "\n",
    "print(dataset.shape)\n",
    "dataset.head(3)\n",
    "\n"
   ]
  },
  {
   "cell_type": "code",
   "execution_count": 8,
   "metadata": {},
   "outputs": [
    {
     "name": "stdout",
     "output_type": "stream",
     "text": [
      "Number of data points in our data (525814, 10)\n"
     ]
    },
    {
     "data": {
      "text/html": [
       "<div>\n",
       "<style scoped>\n",
       "    .dataframe tbody tr th:only-of-type {\n",
       "        vertical-align: middle;\n",
       "    }\n",
       "\n",
       "    .dataframe tbody tr th {\n",
       "        vertical-align: top;\n",
       "    }\n",
       "\n",
       "    .dataframe thead th {\n",
       "        text-align: right;\n",
       "    }\n",
       "</style>\n",
       "<table border=\"1\" class=\"dataframe\">\n",
       "  <thead>\n",
       "    <tr style=\"text-align: right;\">\n",
       "      <th></th>\n",
       "      <th>Id</th>\n",
       "      <th>ProductId</th>\n",
       "      <th>UserId</th>\n",
       "      <th>ProfileName</th>\n",
       "      <th>HelpfulnessNumerator</th>\n",
       "      <th>HelpfulnessDenominator</th>\n",
       "      <th>Score</th>\n",
       "      <th>Time</th>\n",
       "      <th>Summary</th>\n",
       "      <th>Text</th>\n",
       "    </tr>\n",
       "  </thead>\n",
       "  <tbody>\n",
       "    <tr>\n",
       "      <th>0</th>\n",
       "      <td>1</td>\n",
       "      <td>B001E4KFG0</td>\n",
       "      <td>A3SGXH7AUHU8GW</td>\n",
       "      <td>delmartian</td>\n",
       "      <td>1</td>\n",
       "      <td>1</td>\n",
       "      <td>1</td>\n",
       "      <td>1303862400</td>\n",
       "      <td>Good Quality Dog Food</td>\n",
       "      <td>I have bought several of the Vitality canned d...</td>\n",
       "    </tr>\n",
       "    <tr>\n",
       "      <th>1</th>\n",
       "      <td>2</td>\n",
       "      <td>B00813GRG4</td>\n",
       "      <td>A1D87F6ZCVE5NK</td>\n",
       "      <td>dll pa</td>\n",
       "      <td>0</td>\n",
       "      <td>0</td>\n",
       "      <td>0</td>\n",
       "      <td>1346976000</td>\n",
       "      <td>Not as Advertised</td>\n",
       "      <td>Product arrived labeled as Jumbo Salted Peanut...</td>\n",
       "    </tr>\n",
       "    <tr>\n",
       "      <th>2</th>\n",
       "      <td>3</td>\n",
       "      <td>B000LQOCH0</td>\n",
       "      <td>ABXLMWJIXXAIN</td>\n",
       "      <td>Natalia Corres \"Natalia Corres\"</td>\n",
       "      <td>1</td>\n",
       "      <td>1</td>\n",
       "      <td>1</td>\n",
       "      <td>1219017600</td>\n",
       "      <td>\"Delight\" says it all</td>\n",
       "      <td>This is a confection that has been around a fe...</td>\n",
       "    </tr>\n",
       "  </tbody>\n",
       "</table>\n",
       "</div>"
      ],
      "text/plain": [
       "   Id   ProductId          UserId                      ProfileName  \\\n",
       "0   1  B001E4KFG0  A3SGXH7AUHU8GW                       delmartian   \n",
       "1   2  B00813GRG4  A1D87F6ZCVE5NK                           dll pa   \n",
       "2   3  B000LQOCH0   ABXLMWJIXXAIN  Natalia Corres \"Natalia Corres\"   \n",
       "\n",
       "   HelpfulnessNumerator  HelpfulnessDenominator  Score        Time  \\\n",
       "0                     1                       1      1  1303862400   \n",
       "1                     0                       0      0  1346976000   \n",
       "2                     1                       1      1  1219017600   \n",
       "\n",
       "                 Summary                                               Text  \n",
       "0  Good Quality Dog Food  I have bought several of the Vitality canned d...  \n",
       "1      Not as Advertised  Product arrived labeled as Jumbo Salted Peanut...  \n",
       "2  \"Delight\" says it all  This is a confection that has been around a fe...  "
      ]
     },
     "execution_count": 8,
     "metadata": {},
     "output_type": "execute_result"
    }
   ],
   "source": [
    "# filtering only positive and negative reviews i.e. \n",
    "# not taking into consideration those reviews with Score=3\n",
    "# SELECT * FROM Reviews WHERE Score != 3 LIMIT 500000, will give top 500000 data points\n",
    "# you can change the number to any other number based on your computing power\n",
    "\n",
    "# filtered_data = pd.read_sql_query(\"\"\" SELECT * FROM Reviews WHERE Score != 3 LIMIT 500000\"\"\", con) \n",
    "\n",
    "# taking reviews whose score is not equal to 3\n",
    "filtered_dataset=dataset[dataset['Score']!=3]\n",
    "filtered_dataset.shape\n",
    "\n",
    "#creating a function to filter the reviews (if score>3 --> positive , if score<3 --> negative)\n",
    "def partition(x):\n",
    "    if x>3:\n",
    "        return 1\n",
    "    return 0\n",
    "\n",
    "#changing reviews with score less than 3 to be positive and vice-versa\n",
    "actualScore = filtered_dataset['Score']\n",
    "positiveNegative = actualScore.map(partition) \n",
    "filtered_dataset['Score'] = positiveNegative\n",
    "print(\"Number of data points in our data\", filtered_dataset.shape)\n",
    "filtered_dataset.head(3)"
   ]
  },
  {
   "cell_type": "markdown",
   "metadata": {},
   "source": [
    "#  [2] Exploratory Data Analysis"
   ]
  },
  {
   "cell_type": "markdown",
   "metadata": {},
   "source": [
    "## [2.1] Data Cleaning: Deduplication\n",
    "\n",
    "It is observed (as shown in the table below) that the reviews data had many duplicate entries. Hence it was necessary to remove duplicates in order to get unbiased results for the analysis of the data.  Following is an example:"
   ]
  },
  {
   "cell_type": "markdown",
   "metadata": {},
   "source": [
    "#### observation:\n",
    "As it can be seen above that same user has multiple reviews with same values for HelpfulnessNumerator, HelpfulnessDenominator, Score, Time, Summary and Text and on doing analysis it was found that <br>\n",
    "<br> \n",
    "ProductId=B000HDOPZG was Loacker Quadratini Vanilla Wafer Cookies, 8.82-Ounce Packages (Pack of 8)<br>\n",
    "<br> \n",
    "ProductId=B000HDL1RQ was Loacker Quadratini Lemon Wafer Cookies, 8.82-Ounce Packages (Pack of 8) and so on<br>\n",
    "\n",
    "It was inferred after analysis that reviews with same parameters other than ProductId belonged to the same product just having different flavour or quantity. Hence in order to reduce redundancy it was decided to eliminate the rows having same parameters.<br>\n",
    "\n",
    "The method used for the same was that we first sort the data according to ProductId and then just keep the first similar product review and delelte the others. for eg. in the above just the review for ProductId=B000HDL1RQ remains. This method ensures that there is only one representative for each product and deduplication without sorting would lead to possibility of different representatives still existing for the same product."
   ]
  },
  {
   "cell_type": "code",
   "execution_count": 9,
   "metadata": {
    "scrolled": false
   },
   "outputs": [
    {
     "name": "stdout",
     "output_type": "stream",
     "text": [
      "before (568454, 10)\n",
      "after removing duplicate values-->shape = (363255, 10)\n",
      "percentage of data reamin after removing duplicate values and removing reviews with neutral scores  63.90\n"
     ]
    }
   ],
   "source": [
    "# sorting the value\n",
    "sorted_data=filtered_dataset.sort_values(by='Id',inplace=True )\n",
    "#finding the dublicate values using 'df.dublicated'\n",
    "filtered_dataset[filtered_dataset.duplicated(subset={'ProfileName','HelpfulnessNumerator','HelpfulnessDenominator','Score','Time'})].shape\n",
    "#alternate way to drop dublicate values\n",
    "dataset_no_dup=filtered_dataset.drop_duplicates(subset={'ProfileName','Score','Time','Summary'},keep='first')\n",
    "print(f\"before {dataset.shape}\")\n",
    "print(f\"after removing duplicate values-->shape = {dataset_no_dup.shape}\")\n",
    "# %age of no. of review reamin in data set\n",
    "print('percentage of data reamin after removing duplicate values and removing reviews with neutral scores % .2f'\n",
    "      %((dataset_no_dup.size/dataset.size)*100))\n",
    "\n"
   ]
  },
  {
   "cell_type": "markdown",
   "metadata": {},
   "source": [
    "<b>Observation:-</b> It was also seen that in two rows given below the value of HelpfulnessNumerator is greater than HelpfulnessDenominator which is not practically possible hence these two rows too are removed from calcualtions"
   ]
  },
  {
   "cell_type": "code",
   "execution_count": 10,
   "metadata": {},
   "outputs": [],
   "source": [
    "# removing reviews where \"HelpfulnessNumerator>HelpfulnessDenominator\"\n",
    "final=dataset_no_dup[dataset_no_dup['HelpfulnessNumerator']<=dataset_no_dup['HelpfulnessDenominator']]\n"
   ]
  },
  {
   "cell_type": "code",
   "execution_count": 11,
   "metadata": {},
   "outputs": [
    {
     "name": "stdout",
     "output_type": "stream",
     "text": [
      "(363253, 10)\n"
     ]
    },
    {
     "data": {
      "text/plain": [
       "1    306222\n",
       "0     57031\n",
       "Name: Score, dtype: int64"
      ]
     },
     "execution_count": 11,
     "metadata": {},
     "output_type": "execute_result"
    }
   ],
   "source": [
    "#Before starting the next phase of preprocessing lets see the number of entries left\n",
    "print(final.shape)\n",
    "\n",
    "#How many positive and negative reviews are present in our dataset?\n",
    "final['Score'].value_counts()"
   ]
  },
  {
   "cell_type": "markdown",
   "metadata": {},
   "source": [
    "#  [3] Preprocessing"
   ]
  },
  {
   "cell_type": "markdown",
   "metadata": {},
   "source": [
    "## [3.1].  Preprocessing Review Text\n",
    "\n",
    "Now that we have finished deduplication our data requires some preprocessing before we go on further with analysis and making the prediction model.\n",
    "\n",
    "Hence in the Preprocessing phase we do the following in the order below:-\n",
    "\n",
    "1. Begin by removing the html tags\n",
    "2. Remove any punctuations or limited set of special characters like , or . or # etc.\n",
    "3. Check if the word is made up of english letters and is not alpha-numeric\n",
    "4. Check to see if the length of the word is greater than 2 (as it was researched that there is no adjective in 2-letters)\n",
    "5. Convert the word to lowercase\n",
    "6. Remove Stopwords\n",
    "7. Finally Snowball Stemming the word (it was obsereved to be better than Porter Stemming)<br>\n",
    "\n",
    "After which we collect the words used to describe positive and negative reviews"
   ]
  },
  {
   "cell_type": "code",
   "execution_count": 8,
   "metadata": {},
   "outputs": [],
   "source": [
    "# https://stackoverflow.com/questions/16206380/python-beautifulsoup-how-to-remove-all-tags-from-an-element\n",
    "from bs4 import BeautifulSoup\n",
    "\n",
    "# https://stackoverflow.com/a/47091490/4084039\n",
    "import re\n",
    "\n",
    "def decontracted(phrase):\n",
    "    # specific\n",
    "    phrase = re.sub(r\"won't\", \"will not\", phrase)\n",
    "    phrase = re.sub(r\"can\\'t\", \"can not\", phrase)\n",
    "\n",
    "    # general\n",
    "    phrase = re.sub(r\"n\\'t\", \" not\", phrase)\n",
    "    phrase = re.sub(r\"\\'re\", \" are\", phrase)\n",
    "    phrase = re.sub(r\"\\'s\", \" is\", phrase)\n",
    "    phrase = re.sub(r\"\\'d\", \" would\", phrase)\n",
    "    phrase = re.sub(r\"\\'ll\", \" will\", phrase)\n",
    "    phrase = re.sub(r\"\\'t\", \" not\", phrase)\n",
    "    phrase = re.sub(r\"\\'ve\", \" have\", phrase)\n",
    "    phrase = re.sub(r\"\\'m\", \" am\", phrase)\n",
    "    return phrase\n",
    "\n",
    "\n",
    "# https://gist.github.com/sebleier/554280\n",
    "# we are removing the words from the stop words list: 'no', 'nor', 'not'\n",
    "# <br /><br /> ==> after the above steps, we are getting \"br br\"\n",
    "# we are including them into stop words list\n",
    "# instead of <br /> if we have <br/> these tags would have revmoved in the 1st step\n",
    "\n",
    "stopwords= set(['br', 'the', 'i', 'me', 'my', 'myself', 'we', 'our', 'ours', 'ourselves', 'you', \"you're\", \"you've\",\\\n",
    "            \"you'll\", \"you'd\", 'your', 'yours', 'yourself', 'yourselves', 'he', 'him', 'his', 'himself', \\\n",
    "            'she', \"she's\", 'her', 'hers', 'herself', 'it', \"it's\", 'its', 'itself', 'they', 'them', 'their',\\\n",
    "            'theirs', 'themselves', 'what', 'which', 'who', 'whom', 'this', 'that', \"that'll\", 'these', 'those', \\\n",
    "            'am', 'is', 'are', 'was', 'were', 'be', 'been', 'being', 'have', 'has', 'had', 'having', 'do', 'does', \\\n",
    "            'did', 'doing', 'a', 'an', 'the', 'and', 'but', 'if', 'or', 'because', 'as', 'until', 'while', 'of', \\\n",
    "            'at', 'by', 'for', 'with', 'about', 'against', 'between', 'into', 'through', 'during', 'before', 'after',\\\n",
    "            'above', 'below', 'to', 'from', 'up', 'down', 'in', 'out', 'on', 'off', 'over', 'under', 'again', 'further',\\\n",
    "            'then', 'once', 'here', 'there', 'when', 'where', 'why', 'how', 'all', 'any', 'both', 'each', 'few', 'more',\\\n",
    "            'most', 'other', 'some', 'such', 'only', 'own', 'same', 'so', 'than', 'too', 'very', \\\n",
    "            's', 't', 'can', 'will', 'just', 'don', \"don't\", 'should', \"should've\", 'now', 'd', 'll', 'm', 'o', 're', \\\n",
    "            've', 'y', 'ain', 'aren', \"aren't\", 'couldn', \"couldn't\", 'didn', \"didn't\", 'doesn', \"doesn't\", 'hadn',\\\n",
    "            \"hadn't\", 'hasn', \"hasn't\", 'haven', \"haven't\", 'isn', \"isn't\", 'ma', 'mightn', \"mightn't\", 'mustn',\\\n",
    "            \"mustn't\", 'needn', \"needn't\", 'shan', \"shan't\", 'shouldn', \"shouldn't\", 'wasn', \"wasn't\", 'weren', \"weren't\", \\\n",
    "            'won', \"won't\", 'wouldn', \"wouldn't\"])"
   ]
  },
  {
   "cell_type": "code",
   "execution_count": 9,
   "metadata": {},
   "outputs": [
    {
     "name": "stderr",
     "output_type": "stream",
     "text": [
      "100%|████████████████████████████████████████████████████████████████████████| 363253/363253 [02:56<00:00, 2063.41it/s]\n"
     ]
    }
   ],
   "source": [
    "# Combining all the above stundents \n",
    "from tqdm import tqdm\n",
    "preprocessed_reviews = []\n",
    "# tqdm is for printing the status bar\n",
    "for sentance in tqdm(final['Text'].values):\n",
    "    sentance = re.sub(r\"http\\S+\", \"\", sentance)\n",
    "    sentance = BeautifulSoup(sentance, 'lxml').get_text()\n",
    "    sentance = decontracted(sentance)\n",
    "    sentance = re.sub(\"\\S*\\d\\S*\", \"\", sentance).strip()\n",
    "    sentance = re.sub('[^A-Za-z]+', ' ', sentance)\n",
    "    # https://gist.github.com/sebleier/554280\n",
    "    sentance = ' '.join(e.lower() for e in sentance.split() if e.lower() not in stopwords)\n",
    "    preprocessed_reviews.append(sentance.strip())"
   ]
  },
  {
   "cell_type": "code",
   "execution_count": 10,
   "metadata": {},
   "outputs": [
    {
     "data": {
      "text/plain": [
       "['bought several vitality canned dog food products found good quality product looks like stew processed meat smells better labrador finicky appreciates product better',\n",
       " 'product arrived labeled jumbo salted peanuts peanuts actually small sized unsalted not sure error vendor intended represent product jumbo',\n",
       " 'confection around centuries light pillowy citrus gelatin nuts case filberts cut tiny squares liberally coated powdered sugar tiny mouthful heaven not chewy flavorful highly recommend yummy treat familiar story c lewis lion witch wardrobe treat seduces edmund selling brother sisters witch',\n",
       " 'looking secret ingredient robitussin believe found got addition root beer extract ordered good made cherry soda flavor medicinal',\n",
       " 'great taffy great price wide assortment yummy taffy delivery quick taffy lover deal']"
      ]
     },
     "execution_count": 10,
     "metadata": {},
     "output_type": "execute_result"
    }
   ],
   "source": [
    "preprocessed_reviews[:5]"
   ]
  },
  {
   "cell_type": "code",
   "execution_count": 11,
   "metadata": {},
   "outputs": [],
   "source": [
    "final['preprocessed_reviews']=preprocessed_reviews"
   ]
  },
  {
   "cell_type": "code",
   "execution_count": 12,
   "metadata": {},
   "outputs": [],
   "source": [
    "# splitting the dataset in train , cv and test \n",
    "\n",
    "n=final.shape[0] #size of final dataset\n",
    "\n",
    "train=final.iloc[:round(0.60*n),:]\n",
    "cv=final.iloc[round(0.60*n):round(0.80*n),:]\n",
    "test=final.iloc[round(0.80*n):round(1.0*n),:]"
   ]
  },
  {
   "cell_type": "code",
   "execution_count": 13,
   "metadata": {},
   "outputs": [],
   "source": [
    "from sklearn.model_selection import train_test_split\n",
    "x_training,x_test,y_training,y_test=train_test_split(preprocessed_reviews,final[\"Score\"] ,test_size=0.20, random_state=42)\n",
    "x_train,x_cv,y_train,y_cv=train_test_split(x_training,y_training, test_size=0.25, random_state=42)"
   ]
  },
  {
   "cell_type": "code",
   "execution_count": 48,
   "metadata": {},
   "outputs": [
    {
     "data": {
      "text/plain": [
       "(217951, 217951, 72651, 72651, 72651, 72651)"
      ]
     },
     "execution_count": 48,
     "metadata": {},
     "output_type": "execute_result"
    }
   ],
   "source": [
    "len(x_train),len(y_train),len(x_test),len(y_test),len(x_cv),len(y_cv)"
   ]
  },
  {
   "cell_type": "code",
   "execution_count": 14,
   "metadata": {},
   "outputs": [],
   "source": [
    "# saving train and test dataset using pickle for fututre use\n",
    "\n",
    "'''file=open(\"x_train.pkl\",\"wb\")\n",
    "pickle.dump(x_train,file)\n",
    "file.close()\n",
    "\n",
    "file=open('x_cv.pkl','wb')\n",
    "pickle.dump(x_cv,file)\n",
    "file.close\n",
    "\n",
    "file=open(\"x_test.pkl\",'wb')\n",
    "pickle.dump(x_test,file)\n",
    "file.close()\n",
    "\n",
    "\n",
    "file=open(\"y_train.pkl\",\"wb\")\n",
    "pickle.dump(y_train,file)\n",
    "file.close()\n",
    "\n",
    "file=open('y_cv.pkl','wb')\n",
    "pickle.dump(y_cv,file)\n",
    "file.close\n",
    "\n",
    "file=open(\"y_test.pkl\",'wb')\n",
    "pickle.dump(y_test,file)\n",
    "file.close()\n",
    "\n",
    "'''"
   ]
  },
  {
   "cell_type": "code",
   "execution_count": 2,
   "metadata": {},
   "outputs": [],
   "source": [
    "#loading train and test and validation dataset\n",
    "\n",
    "file=open(\"x_train.pkl\",\"rb\")\n",
    "x_train=pickle.load(file) # loading 'train' dataset\n",
    "\n",
    "file=open(\"x_cv.pkl\",'rb')\n",
    "x_cv=pickle.load(file) # loading 'validation' dataset\n",
    "\n",
    "file=open(\"x_test.pkl\",'rb')\n",
    "x_test=pickle.load(file) # loading 'test' dataset\n",
    "\n",
    "file=open(\"y_train.pkl\",\"rb\")\n",
    "y_train=pickle.load(file) # loading 'train' dataset\n",
    "\n",
    "file=open(\"y_cv.pkl\",'rb')\n",
    "y_cv=pickle.load(file) # loading 'validation' dataset\n",
    "\n",
    "file=open(\"y_test.pkl\",'rb')\n",
    "y_test=pickle.load(file) # loading 'test' dataset\n"
   ]
  },
  {
   "cell_type": "markdown",
   "metadata": {},
   "source": [
    "# [4] Featurization"
   ]
  },
  {
   "cell_type": "markdown",
   "metadata": {},
   "source": [
    "## [4.1] BAG OF WORDS"
   ]
  },
  {
   "cell_type": "code",
   "execution_count": 20,
   "metadata": {},
   "outputs": [
    {
     "name": "stdout",
     "output_type": "stream",
     "text": [
      "some feature names  ['aa', 'aaa', 'aaaa', 'aaaaa', 'aaaaaa', 'aaaaaaaaaaaa', 'aaaaaaaaaaaaa', 'aaaaaaaaaaaaaa', 'aaaaaaaaaaaaaaa', 'aaaaaaaaaaaaaaaaaaaaaaaaaaaaaaaaaaaaaaaaaaaa']\n",
      "====================================================================================================\n"
     ]
    }
   ],
   "source": [
    "#BoW\n",
    "\n",
    "count_vect = CountVectorizer()#in scikit-learn\n",
    "\n",
    "x_train_bow=count_vect.fit_transform(x_train)\n",
    "print(\"some feature names \", count_vect.get_feature_names()[:10])\n",
    "print('='*100)\n",
    "\n",
    "# transform cv and test dataset\n",
    "x_cv_bow=count_vect.transform(x_cv)\n",
    "x_test_bow=count_vect.transform(x_test)"
   ]
  },
  {
   "cell_type": "code",
   "execution_count": 15,
   "metadata": {},
   "outputs": [
    {
     "data": {
      "text/plain": [
       "((217951, 90000), (72651, 90000), (72651, 90000))"
      ]
     },
     "execution_count": 15,
     "metadata": {},
     "output_type": "execute_result"
    }
   ],
   "source": [
    "x_train_bow.shape,x_test_bow.shape,x_cv_bow.shape\n"
   ]
  },
  {
   "cell_type": "code",
   "execution_count": 17,
   "metadata": {},
   "outputs": [],
   "source": [
    "# saving train_bow and test_bow dataset using pickle for future use\n",
    "\n",
    "'''file=open(\"x_train_bow.pkl\",\"wb\")\n",
    "pickle.dump(x_train_bow,file)\n",
    "file.close()\n",
    "\n",
    "file=open(\"x_test_bow.pkl\",'wb')\n",
    "pickle.dump(x_test_bow,file)\n",
    "file.close()\n",
    "\n",
    "file=open(\"x_cv_bow.pkl\",'wb')\n",
    "pickle.dump(x_cv_bow,file)\n",
    "file.close()\n",
    "'''"
   ]
  },
  {
   "cell_type": "code",
   "execution_count": 15,
   "metadata": {},
   "outputs": [],
   "source": [
    "#loading train_bow and test _bow\n",
    "file=open('x_train_bow.pkl','rb')\n",
    "x_train_bow=pickle.load(file)\n",
    "\n",
    "file=open('x_test_bow.pkl','rb')\n",
    "x_test_bow=pickle.load(file)\n",
    "\n",
    "file=open('x_cv_bow.pkl','rb')\n",
    "x_cv_bow=pickle.load(file)"
   ]
  },
  {
   "cell_type": "markdown",
   "metadata": {},
   "source": [
    "## [4.3] TF-IDF"
   ]
  },
  {
   "cell_type": "code",
   "execution_count": 68,
   "metadata": {},
   "outputs": [],
   "source": [
    "# tf-idf \"from sklearn.feature_extraction.text.TfidfVectorizer\"\n",
    "tf_idf=TfidfVectorizer()\n",
    "\n",
    "train_tf_idf=tf_idf.fit_transform(x_train)\n",
    "cv_tf_idf=tf_idf.transform(x_cv)\n",
    "test_tf_idf=tf_idf.transform(x_test)"
   ]
  },
  {
   "cell_type": "code",
   "execution_count": 71,
   "metadata": {},
   "outputs": [],
   "source": [
    "from sklearn.preprocessing import StandardScaler\n",
    "\n",
    "sc=StandardScaler(with_mean=False)\n",
    "\n",
    "train_tf_idf=sc.fit_transform(train_tf_idf)\n",
    "cv_tf_idf=sc.transform(cv_tf_idf)\n",
    "test_tf_idf=sc.transform(test_tf_idf)"
   ]
  },
  {
   "cell_type": "code",
   "execution_count": 21,
   "metadata": {},
   "outputs": [],
   "source": [
    "# saving train_tf_idf and test_tf_idf dataset using pickle for fututre use\n",
    "\n",
    "'''file=open(\"train_tf_idf.pkl\",\"wb\")\n",
    "pickle.dump(train_tf_idf,file)\n",
    "file.close()\n",
    "\n",
    "file=open(\"cv_tf_idf.pkl\",'wb')\n",
    "pickle.dump(cv_tf_idf,file)\n",
    "file.close()\n",
    "\n",
    "file=open(\"test_tf_idf.pkl\",'wb')\n",
    "pickle.dump(test_tf_idf,file)\n",
    "file.close()\n",
    "\n",
    "'''\n"
   ]
  },
  {
   "cell_type": "code",
   "execution_count": 4,
   "metadata": {},
   "outputs": [],
   "source": [
    "#loading train_tf_idf and test_tf_idf\n",
    "file=open('train_tf_idf.pkl','rb')\n",
    "train_tf_idf=pickle.load(file)\n",
    "\n",
    "file=open('cv_tf_idf.pkl','rb')\n",
    "cv_tf_idf=pickle.load(file)\n",
    "\n",
    "file=open('test_tf_idf.pkl','rb')\n",
    "test_tf_idf=pickle.load(file)"
   ]
  },
  {
   "cell_type": "markdown",
   "metadata": {},
   "source": [
    "## [4.4] Word2Vec"
   ]
  },
  {
   "cell_type": "markdown",
   "metadata": {},
   "source": [
    "## [4.4.1] Converting text into vectors using Avg W2V, TFIDF-W2V"
   ]
  },
  {
   "cell_type": "markdown",
   "metadata": {},
   "source": [
    "#### [4.4.1.1] Avg W2v"
   ]
  },
  {
   "cell_type": "code",
   "execution_count": null,
   "metadata": {},
   "outputs": [
    {
     "name": "stderr",
     "output_type": "stream",
     "text": [
      "C:\\Users\\Adarsh\\Anaconda3\\lib\\site-packages\\gensim\\models\\base_any2vec.py:743: UserWarning: C extension not loaded, training will be slow. Install a C compiler and reinstall gensim for fast training.\n",
      "  \"C extension not loaded, training will be slow. \"\n"
     ]
    }
   ],
   "source": [
    "# converting our text-->vector using w2v with 50-dim\n",
    "# more the dimension of each word = better the semantic of word\n",
    "# using lib from \"gensim.models.Word2Vec\"\n",
    "# to run w2v we need list of list of the words as w2v covert each world into number of dim\n",
    "\n",
    "\n",
    "# for train_w2v\n",
    "list_of_sent_train=[]\n",
    "for sent in x_train:\n",
    "    list_of_sent_train.append((str(sent)).split())\n",
    "w2v_model=Word2Vec(list_of_sent_train,min_count=5,size=50)\n",
    "\n",
    "# vocablary of w2v model of amazon dataset\n",
    "vocab=w2v_model.wv.vocab\n",
    "len(vocab)\n",
    "\n",
    "#-------------------------------------------------------------------------------------------------\n",
    "\n",
    "# for test_w2v\n",
    "list_of_sent_cv=[]\n",
    "for sent in x_cv:\n",
    "    list_of_sent_cv.append((str(sent)).split())\n",
    "\n",
    "#-------------------------------------------------------------------------------------------------\n",
    "\n",
    "# for test_w2v\n",
    "list_of_sent_test=[]\n",
    "for sent in x_test:\n",
    "    list_of_sent_test.append((str(sent)).split())\n"
   ]
  },
  {
   "cell_type": "code",
   "execution_count": 7,
   "metadata": {
    "scrolled": true
   },
   "outputs": [
    {
     "name": "stdout",
     "output_type": "stream",
     "text": [
      "217951\n",
      "72651\n",
      "72651\n"
     ]
    }
   ],
   "source": [
    "'''\n",
    "    -->procedure to make avg w2v of each reviews\n",
    "    1. find the w2v of each word\n",
    "    2. sum-up w2v of each word in a sentence\n",
    "    3. divide the total w2v of sentence by total no. of words in the sentence\n",
    "'''\n",
    "\n",
    "# average Word2Vec\n",
    "# compute average word2vec for each review.\n",
    "train_w2v = []; # the avg-w2v for each sentence/review in train dataset is stored in this list\n",
    "\n",
    "for sent in list_of_sent_train: # for each review/sentence\n",
    "    sent_vec = np.zeros(50) # as word vectors are of zero length\n",
    "    cnt_words =0; # num of words with a valid vector in the sentence/review\n",
    "    for word in sent: # for each word in a review/sentence\n",
    "        if word in vocab:\n",
    "            vec = w2v_model.wv[word]\n",
    "            sent_vec += vec\n",
    "            cnt_words += 1\n",
    "    if cnt_words != 0:\n",
    "        sent_vec /= cnt_words\n",
    "    train_w2v.append(sent_vec)\n",
    "\n",
    "print(len(train_w2v))\n",
    "\n",
    "#-----------------------------------------------------------------------------------\n",
    "\n",
    "cv_w2v = []; # the avg-w2v for each sentence/review in test dataset is stored in this list\n",
    "\n",
    "for sent in list_of_sent_cv: # for each review/sentence\n",
    "    sent_vec = np.zeros(50) # as word vectors are of zero length\n",
    "    cnt_words =0; # num of words with a valid vector in the sentence/review\n",
    "    for word in sent: # for each word in a review/sentence\n",
    "        if word in vocab:\n",
    "            vec = w2v_model.wv[word]\n",
    "            sent_vec += vec\n",
    "            cnt_words += 1\n",
    "    if cnt_words != 0:\n",
    "        sent_vec /= cnt_words\n",
    "    cv_w2v.append(sent_vec)\n",
    "\n",
    "print(len(cv_w2v))\n",
    "\n",
    "\n",
    "#-----------------------------------------------------------------------------------\n",
    "\n",
    "test_w2v = []; # the avg-w2v for each sentence/review in test dataset is stored in this list\n",
    "\n",
    "for sent in list_of_sent_test: # for each review/sentence\n",
    "    sent_vec = np.zeros(50) # as word vectors are of zero length\n",
    "    cnt_words =0; # num of words with a valid vector in the sentence/review\n",
    "    for word in sent: # for each word in a review/sentence\n",
    "        if word in vocab:\n",
    "            vec = w2v_model.wv[word]\n",
    "            sent_vec += vec\n",
    "            cnt_words += 1\n",
    "    if cnt_words != 0:\n",
    "        sent_vec /= cnt_words\n",
    "    test_w2v.append(sent_vec)\n",
    "\n",
    "print(len(test_w2v))"
   ]
  },
  {
   "cell_type": "code",
   "execution_count": 9,
   "metadata": {},
   "outputs": [],
   "source": [
    "from sklearn.preprocessing import StandardScaler\n",
    "sc=StandardScaler(with_mean=True)\n",
    "\n",
    "train_w2v=sc.fit_transform(train_w2v)\n",
    "cv_w2v=sc.transform(cv_w2v)\n",
    "test_w2v=sc.transform(test_w2v)"
   ]
  },
  {
   "cell_type": "code",
   "execution_count": 10,
   "metadata": {},
   "outputs": [],
   "source": [
    "# saving train_w2v and test_w2v dataset using pickle for fututre use\n",
    "\n",
    "'''file=open(\"train_w2v.pkl\",\"wb\")\n",
    "pickle.dump(train_w2v,file)\n",
    "file.close()\n",
    "\n",
    "file=open(\"cv_w2v.pkl\",'wb')\n",
    "pickle.dump(cv_w2v,file)\n",
    "file.close()\n",
    "\n",
    "file=open(\"test_w2v.pkl\",'wb')\n",
    "pickle.dump(test_w2v,file)\n",
    "file.close()\n",
    "'''\n"
   ]
  },
  {
   "cell_type": "code",
   "execution_count": 5,
   "metadata": {},
   "outputs": [],
   "source": [
    "#loading train_w2v and test_w2v\n",
    "file=open('train_w2v.pkl','rb')\n",
    "train_w2v=pickle.load(file)\n",
    "\n",
    "file=open('cv_w2v.pkl','rb')\n",
    "cv_w2v=pickle.load(file)\n",
    "\n",
    "file=open('test_w2v.pkl','rb')\n",
    "test_w2v=pickle.load(file)"
   ]
  },
  {
   "cell_type": "code",
   "execution_count": 21,
   "metadata": {},
   "outputs": [
    {
     "data": {
      "text/plain": [
       "array([-0.0080363 , -0.55650226, -2.24174777,  1.02574886,  0.12327979,\n",
       "       -0.19916425, -1.06522974,  0.89144715, -1.13231167,  2.54008377,\n",
       "        0.8032532 ,  0.3404576 ,  1.6792167 , -0.98081078,  1.08851643,\n",
       "       -0.72007858, -0.65714762, -0.56007184,  0.01985994,  2.12137305,\n",
       "       -0.09203752, -0.23671867, -1.63326771,  1.04496922,  0.45004579,\n",
       "        0.3219116 ,  0.78335079,  0.54301334, -2.4968575 ,  0.35478244,\n",
       "        1.46397278, -0.01982212, -0.1817636 ,  1.35729521, -0.61338792,\n",
       "       -1.68822842, -0.84256537, -0.59978494,  0.40587478, -0.49775708,\n",
       "        0.31289323,  0.34938107, -0.18756661, -2.25982333,  0.01440547,\n",
       "       -0.97699964, -0.10107761,  0.28043456,  1.88480264, -0.81507891])"
      ]
     },
     "execution_count": 21,
     "metadata": {},
     "output_type": "execute_result"
    }
   ],
   "source": [
    "train_w2v[0]"
   ]
  },
  {
   "cell_type": "code",
   "execution_count": 12,
   "metadata": {},
   "outputs": [
    {
     "name": "stdout",
     "output_type": "stream",
     "text": [
      "number of words that occured minimum 5 times  26749\n",
      "sample words  ['really', 'nice', 'seasoning', 'bought', 'product', 'sam', 'club', 'happy', 'able', 'purchase', 'cannot', 'get', 'anymore', 'use', 'meats', 'spaghetti', 'coffee', 'not', 'bad', 'defiantly', 'anything', 'special', 'price', 'could', 'ethical', 'fair', 'trade', 'organic', 'shade', 'grown', 'etc', 'taste', 'ok', 'stick', 'dean', 'beans', 'smooth', 'flavorful', 'medium', 'roast', 'pleasantly', 'surprised', 'k', 'cup', 'would', 'deal', 'drew', 'glad', 'dogs', 'love']\n"
     ]
    }
   ],
   "source": [
    "w2v_words = list(w2v_model.wv.vocab)\n",
    "print(\"number of words that occured minimum 5 times \",len(w2v_words))\n",
    "print(\"sample words \", w2v_words[0:50])"
   ]
  },
  {
   "cell_type": "markdown",
   "metadata": {},
   "source": [
    "#### [4.4.1.2] TFIDF weighted W2v"
   ]
  },
  {
   "cell_type": "code",
   "execution_count": null,
   "metadata": {},
   "outputs": [],
   "source": [
    "# S = [\"abc def pqr\", \"def def def abc\", \"pqr pqr def\"]\n",
    "model = TfidfVectorizer()\n",
    "tf_idf_matrix = model.fit_transform(x_train)\n",
    "# we are converting a dictionary with word as a key, and the idf as a value\n",
    "dictionary = dict(zip(model.get_feature_names(), list(model.idf_)))"
   ]
  },
  {
   "cell_type": "code",
   "execution_count": null,
   "metadata": {},
   "outputs": [],
   "source": [
    "# TF-IDF weighted Word2Vec Train\n",
    "tfidf_feat = model.get_feature_names() # tfidf words/col-names\n",
    "# final_tf_idf is the sparse matrix with row= sentence, col=word and cell_val = tfidf\n",
    "\n",
    "train_tf_idf_w2v = []; # the tfidf-w2v for each sentence/review is stored in this list\n",
    "row=0;\n",
    "\n",
    "#list_of_sentence_train=list_of_sent_train[:30000] # reducing the size of train list due to computational constrain\n",
    "\n",
    "for sent in tqdm(list_of_sent_train): # for each review/sentence \n",
    "    sent_vec = np.zeros(50) # as word vectors are of zero length\n",
    "    weight_sum =0; # num of words with a valid vector in the sentence/review\n",
    "    for word in sent: # for each word in a review/sentence\n",
    "        if word in w2v_words and word in tfidf_feat:\n",
    "            vec = w2v_model.wv[word]\n",
    "#             tf_idf = tf_idf_matrix[row, tfidf_feat.index(word)]\n",
    "            # to reduce the computation we are \n",
    "            # dictionary[word] = idf value of word in whole courpus\n",
    "            # sent.count(word) = tf valeus of word in this review\n",
    "            tf_idf = dictionary[word]*(sent.count(word)/len(sent))\n",
    "            sent_vec += (vec * tf_idf)\n",
    "            weight_sum += tf_idf\n",
    "    if weight_sum != 0:\n",
    "        sent_vec /= weight_sum\n",
    "    train_tf_idf_w2v.append(sent_vec)\n",
    "    row += 1\n",
    "    \n",
    "len(train_tf_idf_w2v)"
   ]
  },
  {
   "cell_type": "code",
   "execution_count": 15,
   "metadata": {},
   "outputs": [
    {
     "name": "stderr",
     "output_type": "stream",
     "text": [
      "100%|██████████| 20000/20000 [17:19<00:00, 19.23it/s]\n"
     ]
    },
    {
     "data": {
      "text/plain": [
       "20000"
      ]
     },
     "execution_count": 15,
     "metadata": {},
     "output_type": "execute_result"
    }
   ],
   "source": [
    "# TF-IDF weighted Word2Vec cv\n",
    "tfidf_feat = model.get_feature_names() # tfidf words/col-names\n",
    "# final_tf_idf is the sparse matrix with row= sentence, col=word and cell_val = tfidf\n",
    "\n",
    "cv_tf_idf_w2v = []; # the tfidf-w2v for each sentence/review is stored in this list\n",
    "row=0;\n",
    "\n",
    "#list_of_sentence_train=list_of_sent_train[:30000] # reducing the size of train list due to computational constrain\n",
    "\n",
    "for sent in tqdm(list_of_sent_cv[:20000]): # for each review/sentence \n",
    "    sent_vec = np.zeros(50) # as word vectors are of zero length\n",
    "    weight_sum =0; # num of words with a valid vector in the sentence/review\n",
    "    for word in sent: # for each word in a review/sentence\n",
    "        if word in w2v_words and word in tfidf_feat:\n",
    "            vec = w2v_model.wv[word]\n",
    "#             tf_idf = tf_idf_matrix[row, tfidf_feat.index(word)]\n",
    "            # to reduce the computation we are \n",
    "            # dictionary[word] = idf value of word in whole courpus\n",
    "            # sent.count(word) = tf valeus of word in this review\n",
    "            tf_idf = dictionary[word]*(sent.count(word)/len(sent))\n",
    "            sent_vec += (vec * tf_idf)\n",
    "            weight_sum += tf_idf\n",
    "    if weight_sum != 0:\n",
    "        sent_vec /= weight_sum\n",
    "    cv_tf_idf_w2v.append(sent_vec)\n",
    "    row += 1\n",
    "    \n",
    "len(cv_tf_idf_w2v)"
   ]
  },
  {
   "cell_type": "code",
   "execution_count": 16,
   "metadata": {},
   "outputs": [
    {
     "name": "stderr",
     "output_type": "stream",
     "text": [
      "100%|██████████| 20000/20000 [17:31<00:00, 19.03it/s]\n"
     ]
    },
    {
     "data": {
      "text/plain": [
       "20000"
      ]
     },
     "execution_count": 16,
     "metadata": {},
     "output_type": "execute_result"
    }
   ],
   "source": [
    "# TF-IDF weighted Word2Vec Test\n",
    "tfidf_feat = model.get_feature_names() # tfidf words/col-names\n",
    "# final_tf_idf is the sparse matrix with row= sentence, col=word and cell_val = tfidf\n",
    "\n",
    "test_tf_idf_w2v = []; # the tfidf-w2v for each sentence/review is stored in this list\n",
    "row=0;\n",
    "\n",
    "#list_of_sentence_train=list_of_sent_train[:30000] # reducing the size of train list due to computational constrain\n",
    "\n",
    "for sent in tqdm(list_of_sent_test[:20000]): # for each review/sentence \n",
    "    sent_vec = np.zeros(50) # as word vectors are of zero length\n",
    "    weight_sum =0; # num of words with a valid vector in the sentence/review\n",
    "    for word in sent: # for each word in a review/sentence\n",
    "        if word in w2v_words and word in tfidf_feat:\n",
    "            vec = w2v_model.wv[word]\n",
    "#             tf_idf = tf_idf_matrix[row, tfidf_feat.index(word)]\n",
    "            # to reduce the computation we are \n",
    "            # dictionary[word] = idf value of word in whole courpus\n",
    "            # sent.count(word) = tf valeus of word in this review\n",
    "            tf_idf = dictionary[word]*(sent.count(word)/len(sent))\n",
    "            sent_vec += (vec * tf_idf)\n",
    "            weight_sum += tf_idf\n",
    "    if weight_sum != 0:\n",
    "        sent_vec /= weight_sum\n",
    "    test_tf_idf_w2v.append(sent_vec)\n",
    "    row += 1\n",
    "    \n",
    "len(test_tf_idf_w2v)"
   ]
  },
  {
   "cell_type": "code",
   "execution_count": 15,
   "metadata": {},
   "outputs": [],
   "source": [
    "from sklearn.preprocessing import StandardScaler\n",
    "sc=StandardScaler(with_mean=True)\n",
    "\n",
    "train_tf_idf_w2v=sc.fit_transform(train_tf_idf_w2v)\n",
    "cv_tf_idf_w2v=sc.transform(cv_tf_idf_w2v)\n",
    "test_tf_idf_w2v=sc.transform(test_tf_idf_w2v)"
   ]
  },
  {
   "cell_type": "code",
   "execution_count": 16,
   "metadata": {},
   "outputs": [],
   "source": [
    "# saving train_tf_idf_w2v and test_tf_idf_w2v dataset using pickle for fututre use\n",
    "\n",
    "'''file=open(\"train_tf_idf_w2v.pkl\",\"wb\")\n",
    "pickle.dump(train_tf_idf_w2v,file)\n",
    "file.close()\n",
    "\n",
    "file=open(\"cv_tf_idf_w2v.pkl\",'wb')\n",
    "pickle.dump(cv_tf_idf_w2v,file)\n",
    "file.close()\n",
    "\n",
    "file=open(\"test_tf_idf_w2v.pkl\",'wb')\n",
    "pickle.dump(test_tf_idf_w2v,file)\n",
    "file.close()\n",
    "\n",
    "'''\n"
   ]
  },
  {
   "cell_type": "code",
   "execution_count": 6,
   "metadata": {},
   "outputs": [],
   "source": [
    "#loading train_tf_idf_w2v and test_tf_idf_w2v\n",
    "file=open('train_tf_idf_w2v.pkl','rb')\n",
    "train_tf_idf_w2v=pickle.load(file)\n",
    "\n",
    "file=open('cv_tf_idf_w2v.pkl','rb')\n",
    "cv_tf_idf_w2v=pickle.load(file)\n",
    "\n",
    "file=open('test_tf_idf_w2v.pkl','rb')\n",
    "test_tf_idf_w2v=pickle.load(file)"
   ]
  },
  {
   "cell_type": "markdown",
   "metadata": {
    "colab_type": "text",
    "id": "Kxx72u1hLPo1"
   },
   "source": [
    "# [5] Assignment 5: Apply Logistic Regression"
   ]
  },
  {
   "cell_type": "markdown",
   "metadata": {
    "colab_type": "text",
    "id": "KDR9We0oLPo2"
   },
   "source": [
    "<ol>\n",
    "    <li><strong>Apply Logistic Regression on these feature sets</strong>\n",
    "        <ul>\n",
    "            <li><font color='red'>SET 1:</font>Review text, preprocessed one converted into vectors using (BOW)</li>\n",
    "            <li><font color='red'>SET 2:</font>Review text, preprocessed one converted into vectors using (TFIDF)</li>\n",
    "            <li><font color='red'>SET 3:</font>Review text, preprocessed one converted into vectors using (AVG W2v)</li>\n",
    "            <li><font color='red'>SET 4:</font>Review text, preprocessed one converted into vectors using (TFIDF W2v)</li>\n",
    "        </ul>\n",
    "    </li>\n",
    "    <br>\n",
    "    <li><strong>Hyper paramter tuning (find best hyper parameters corresponding the algorithm that you choose)</strong>\n",
    "        <ul>\n",
    "    <li>Find the best hyper parameter which will give the maximum <a href='https://www.appliedaicourse.com/course/applied-ai-course-online/lessons/receiver-operating-characteristic-curve-roc-curve-and-auc-1/'>AUC</a> value</li>\n",
    "    <li>Find the best hyper paramter using k-fold cross validation or simple cross validation data</li>\n",
    "    <li>Use gridsearch cv or randomsearch cv or you can also write your own for loops to do this task of hyperparameter tuning</li>          \n",
    "        </ul>\n",
    "    </li>\n",
    "    <br>\n",
    "    <li><strong>Pertubation Test</strong>\n",
    "        <ul>\n",
    "    <li>Get the weights W after fit your model with the data X i.e Train data.</li>\n",
    "    <li>Add a noise to the X (X' = X + e) and get the new data set X' (if X is a sparse\n",
    "matrix, X.data+=e)</li>\n",
    "    <li>Fit the model again on data X' and get the weights W'</li>\n",
    "    <li>Add a small eps value(to eliminate the divisible by zero error) to W and W’ i.e\n",
    "W=W+10^-6 and W’ = W’+10^-6</li>\n",
    "    <li>Now find the % change between W and W' (| (W-W') / (W) |)*100)</li>\n",
    "    <li>Calculate the 0th, 10th, 20th, 30th, ...100th percentiles, and observe any sudden rise in the values of percentage_change_vector</li>\n",
    "    <li> Ex: consider your 99th percentile is 1.3 and your 100th percentiles are 34.6, there is sudden rise from 1.3 to 34.6, now calculate the 99.1, 99.2, 99.3,..., 100th percentile values and get the proper value after which there is sudden rise the values, assume it is 2.5</li>\n",
    "            <li> Print the feature names whose % change is more than a threshold x(in our example it's 2.5)</li>\n",
    "        </ul>\n",
    "    </li>\n",
    "    <br>\n",
    "    <li><strong>Sparsity</strong>\n",
    "        <ul>\n",
    "    <li>Calculate sparsity on weight vector obtained after using L1 regularization</li>\n",
    "        </ul>\n",
    "    </li>\n",
    "    <br><font color='red'>NOTE: Do sparsity and multicollinearity for any one of the vectorizers. Bow or tf-idf is recommended.</font>\n",
    "    <br>\n",
    "    <br>\n",
    "    <li><strong>Feature importance</strong>\n",
    "        <ul>\n",
    "    <li>Get top 10 important features for both positive and negative classes separately.</li>\n",
    "        </ul>\n",
    "    </li>\n",
    "    <br>\n",
    "    <li><strong>Feature engineering</strong>\n",
    "        <ul>\n",
    "    <li>To increase the performance of your model, you can also experiment with with feature engineering like :</li>\n",
    "            <ul>\n",
    "            <li>Taking length of reviews as another feature.</li>\n",
    "            <li>Considering some features from review summary as well.</li>\n",
    "        </ul>\n",
    "        </ul>\n",
    "    </li>\n",
    "    <br>\n",
    "    <li><strong>Representation of results</strong>\n",
    "        <ul>\n",
    "    <li>You need to plot the performance of model both on train data and cross validation data for each hyper parameter, like shown in the figure.\n",
    "    <img src='train_cv_auc.JPG' width=300px></li>\n",
    "    <li>Once after you found the best hyper parameter, you need to train your model with it, and find the AUC on test data and plot the ROC curve on both train and test.\n",
    "    <img src='train_test_auc.JPG' width=300px></li>\n",
    "    <li>Along with plotting ROC curve, you need to print the <a href='https://www.appliedaicourse.com/course/applied-ai-course-online/lessons/confusion-matrix-tpr-fpr-fnr-tnr-1/'>confusion matrix</a> with predicted and original labels of test data points. Please visualize your confusion matrices using <a href='https://seaborn.pydata.org/generated/seaborn.heatmap.html'>seaborn heatmaps.\n",
    "    <img src='confusion_matrix.png' width=300px></li>\n",
    "        </ul>\n",
    "    </li>\n",
    "    <br>\n",
    "    <li><strong>Conclusion</strong>\n",
    "        <ul>\n",
    "    <li>You need to summarize the results at the end of the notebook, summarize it in the table format. To print out a table please refer to this prettytable library<a href='http://zetcode.com/python/prettytable/'>  link</a> \n",
    "        <img src='summary.JPG' width=400px>\n",
    "    </li>\n",
    "        </ul>\n",
    "</ol>"
   ]
  },
  {
   "cell_type": "markdown",
   "metadata": {
    "colab_type": "text",
    "id": "gilb-DOVLPo2"
   },
   "source": [
    "<h4><font color='red'>Note: Data Leakage</font></h4>\n",
    "\n",
    "1. There will be an issue of data-leakage if you vectorize the entire data and then split it into train/cv/test.\n",
    "2. To avoid the issue of data-leakag, make sure to split your data first and then vectorize it. \n",
    "3. While vectorizing your data, apply the method fit_transform() on you train data, and apply the method transform() on cv/test data.\n",
    "4. For more details please go through this <a href='https://soundcloud.com/applied-ai-course/leakage-bow-and-tfidf'>link.</a>"
   ]
  },
  {
   "cell_type": "markdown",
   "metadata": {
    "colab_type": "text",
    "id": "jiYocvSHLPo4"
   },
   "source": [
    "# Applying Logistic Regression"
   ]
  },
  {
   "cell_type": "markdown",
   "metadata": {
    "colab_type": "text",
    "id": "LE_XPVZJLPo4"
   },
   "source": [
    "## [5.1] Logistic Regression on BOW,<font color='red'> SET 1</font>"
   ]
  },
  {
   "cell_type": "markdown",
   "metadata": {
    "colab_type": "text",
    "id": "_iciJvj2LPo4"
   },
   "source": [
    "### [5.1.1] Applying Logistic Regression with L1 regularization on BOW,<font color='red'> SET 1</font>"
   ]
  },
  {
   "cell_type": "code",
   "execution_count": 4,
   "metadata": {
    "colab": {},
    "colab_type": "code",
    "id": "MyOVi-xYLPo5"
   },
   "outputs": [
    {
     "data": {
      "image/png": "[encoded data removed]",
      "text/plain": [
       "<Figure size 432x288 with 1 Axes>"
      ]
     },
     "metadata": {
      "needs_background": "light"
     },
     "output_type": "display_data"
    }
   ],
   "source": [
    "# Please write all the code with proper documentation\n",
    "from sklearn.linear_model import LogisticRegression\n",
    "from sklearn.metrics import roc_auc_score\n",
    "import matplotlib.pyplot as plt\n",
    "\n",
    "\"\"\"\n",
    "y_true : array, shape = [n_samples] or [n_samples, n_classes]\n",
    "True binary labels or binary label indicators.\n",
    "\n",
    "y_score : array, shape = [n_samples] or [n_samples, n_classes]\n",
    "Target scores, can either be probability estimates of the positive class, confidence values, or non-thresholded measure of\n",
    "decisions (as returned by “decision_function” on some classifiers). \n",
    "For binary y_true, y_score is supposed to be the score of the class with greater label.\n",
    "\n",
    "\"\"\"\n",
    "\n",
    "train_auc = []\n",
    "cv_auc = []\n",
    "c_range=[10e-5,10e-4,10e-3,10e-2,1,10,10e1,10e2,10e3]\n",
    "for i in c_range:\n",
    "    clf=LogisticRegression(penalty='l1', C=i,class_weight='balanced')\n",
    "    clf.fit(x_train_bow, y_train)\n",
    "    # roc_auc_score(y_true, y_score) the 2nd parameter should be probability estimates of the positive class\n",
    "    # not the predicted outputs\n",
    "    \n",
    "    \n",
    "    #predicting on train and cv using blocks\n",
    "    y_train_pred = []\n",
    "    for i in range(0, x_train_bow.shape[0], 1000):\n",
    "        y_train_pred.extend(clf.predict_proba(x_train_bow[i:i+1000])[:,1]) \n",
    "\n",
    "    y_cv_pred = []\n",
    "    for i in range(0, x_cv_bow.shape[0], 1000):\n",
    "        y_cv_pred.extend(clf.predict_proba(x_cv_bow[i:i+1000])[:,1]) \n",
    "\n",
    "\n",
    "    train_auc.append(roc_auc_score(y_train,y_train_pred))\n",
    "    cv_auc.append(roc_auc_score(y_cv, y_cv_pred))\n",
    "\n",
    "    \n",
    "plt.plot(np.arange(1,10,1), train_auc, label='Train AUC')\n",
    "plt.plot(np.arange(1,10,1), cv_auc, label='CV AUC')\n",
    "plt.xticks( np.arange(1,10,1), (10e-5, 10e-4, 10e-3, 10e-2, 10e-1, 10e0, 10e1, 10e2, 10e3))\n",
    "plt.legend()\n",
    "plt.xlabel(\"alpha: hyperparameter\")\n",
    "plt.ylabel(\"AUC\")\n",
    "plt.title(\"ERROR PLOTS\")\n",
    "plt.grid()\n",
    "plt.show()\n"
   ]
  },
  {
   "cell_type": "code",
   "execution_count": 55,
   "metadata": {},
   "outputs": [
    {
     "name": "stdout",
     "output_type": "stream",
     "text": [
      "\n",
      "genearalisation roc_auc on best alpha-value at optimum_c = 0.1 is 0.95\n",
      "\n",
      "misclassification percentage is 0.11%\n"
     ]
    },
    {
     "data": {
      "image/png": "[encoded data removed]",
      "text/plain": [
       "<Figure size 432x288 with 2 Axes>"
      ]
     },
     "metadata": {
      "needs_background": "light"
     },
     "output_type": "display_data"
    },
    {
     "name": "stdout",
     "output_type": "stream",
     "text": [
      "\n",
      "\n",
      "classification report:\n",
      "              precision    recall  f1-score   support\n",
      "\n",
      "          0       0.60      0.88      0.72     11223\n",
      "          1       0.98      0.89      0.93     61428\n",
      "\n",
      "avg / total       0.92      0.89      0.90     72651\n",
      "\n"
     ]
    },
    {
     "data": {
      "image/png": "[encoded data removed]",
      "text/plain": [
       "<Figure size 504x504 with 1 Axes>"
      ]
     },
     "metadata": {
      "needs_background": "light"
     },
     "output_type": "display_data"
    }
   ],
   "source": [
    "# Test dataset\n",
    "\n",
    "from sklearn.linear_model import LogisticRegression\n",
    "from sklearn.metrics import roc_auc_score\n",
    "import matplotlib.pyplot as plt\n",
    "\n",
    "\n",
    "#using optimum_k to find generalistion ROC AUC accuracy\n",
    "optimum_c=0.1 #optimum 'alpha'\n",
    "\n",
    "clf=LogisticRegression(penalty='l1', C=optimum_c,class_weight='balanced')\n",
    "clf.fit(x_train_bow,y_train)\n",
    "\n",
    "\n",
    "y_pred = []\n",
    "for i in range(0, x_test_bow.shape[0], 1000):\n",
    "    y_pred.extend(clf.predict(x_test_bow[i:i+1000]))\n",
    "    \n",
    "y_pred_proba = []\n",
    "for i in range(0, x_test_bow.shape[0], 1000):\n",
    "    y_pred_proba.extend(clf.predict_proba(x_test_bow[i:i+1000])[:,1])    \n",
    "\n",
    "\n",
    "accuracy=accuracy_score(y_test,y_pred)\n",
    "roc_auc=roc_auc_score(y_test,y_pred_proba)\n",
    "print(f'\\ngenearalisation roc_auc on best alpha-value at optimum_c = {optimum_c} is {roc_auc:.2f}')\n",
    "print(f'\\nmisclassification percentage is {(1-accuracy):.2f}%')\n",
    "\n",
    "\n",
    "#ploting confusion matrix\n",
    "sn.heatmap(confusion_matrix(y_pred,y_test),annot=True, fmt=\"d\",linewidths=.5)\n",
    "plt.title('Confusion Matrix')\n",
    "plt.xlabel('Predicted values')\n",
    "plt.ylabel('Actual values')\n",
    "plt.show()\n",
    "print(\"\\n\\nclassification report:\\n\",classification_report(y_test,y_pred)) \n",
    "\n",
    "\n",
    "# ROC Curve (reference:stack overflow with little modification)   \n",
    "\n",
    "y_train_pred_proba = []\n",
    "for i in range(0, x_train_bow.shape[0], 1000):\n",
    "    y_train_pred_proba.extend(clf.predict_proba(x_train_bow[i:i+1000])[:,1])\n",
    "\n",
    "\n",
    "train_fpr, train_tpr, train_threshold =roc_curve(y_train, y_train_pred_proba)\n",
    "test_fpr, test_tpr, test_threshold =roc_curve(y_test, y_pred_proba)\n",
    "\n",
    "roc_auc_train = roc_auc_score(y_train,y_train_pred_proba)\n",
    "roc_auc_test = roc_auc_score(y_test,y_pred_proba)\n",
    "\n",
    "plt.figure(figsize=(7,7))\n",
    "plt.title('Receiver Operating Characteristic')\n",
    "plt.plot(train_fpr, train_tpr, 'b', label = 'train_AUC = %0.2f' % roc_auc_train)\n",
    "plt.plot(test_fpr, test_tpr, 'r', label = 'test_AUC = %0.2f' % roc_auc_test)\n",
    "plt.legend(loc = 'lower right')\n",
    "plt.plot([0, 1], [0, 1],'k--')\n",
    "plt.xlim([-0.02, 1])\n",
    "plt.ylim([0, 1])\n",
    "plt.ylabel('True Positive Rate')\n",
    "plt.xlabel('False Positive Rate')\n",
    "plt.grid(linestyle='--', linewidth=1)\n",
    "plt.show()\n",
    "\n"
   ]
  },
  {
   "cell_type": "markdown",
   "metadata": {
    "colab_type": "text",
    "id": "5h4NhywcLPo7"
   },
   "source": [
    "#### [5.1.1.1] Calculating sparsity on weight vector obtained using L1 regularization on BOW,<font color='red'> SET 1</font>"
   ]
  },
  {
   "cell_type": "code",
   "execution_count": 44,
   "metadata": {},
   "outputs": [
    {
     "data": {
      "image/png": "[encoded data removed]",
      "text/plain": [
       "<Figure size 432x288 with 1 Axes>"
      ]
     },
     "metadata": {
      "needs_background": "light"
     },
     "output_type": "display_data"
    }
   ],
   "source": [
    "from sklearn.linear_model import LogisticRegression\n",
    "from sklearn.model_selection import GridSearchCV\n",
    "\n",
    "c_range=[10e-5,10e-4,10e-3,10e-2,1,10,10e1,10e2,10e3]\n",
    "\n",
    "non_zero=[]\n",
    "\n",
    "for i in c_range:\n",
    "    clf=LogisticRegression(penalty='l1', C=i,class_weight='balanced')\n",
    "    clf.fit(x_train_bow,y_train)\n",
    "    non_zero.append(np.count_nonzero(clf.coef_))\n",
    "    \n",
    "plt.plot(np.arange(9),non_zero)\n",
    "plt.xlabel('hyperparameter: C')\n",
    "plt.xticks(np.arange(9),c_range)\n",
    "plt.ylabel('non_zero elements')\n",
    "plt.grid()\n",
    "plt.show()"
   ]
  },
  {
   "cell_type": "markdown",
   "metadata": {
    "colab_type": "text",
    "id": "aRHMa52qLPpA"
   },
   "source": [
    "### [5.1.2] Applying Logistic Regression with L2 regularization on BOW,<font color='red'> SET 1</font>"
   ]
  },
  {
   "cell_type": "code",
   "execution_count": 45,
   "metadata": {
    "colab": {},
    "colab_type": "code",
    "id": "MyOVi-xYLPo5"
   },
   "outputs": [
    {
     "data": {
      "image/png": "[encoded data removed]",
      "text/plain": [
       "<Figure size 432x288 with 1 Axes>"
      ]
     },
     "metadata": {
      "needs_background": "light"
     },
     "output_type": "display_data"
    }
   ],
   "source": [
    "# Please write all the code with proper documentation\n",
    "from sklearn.linear_model import LogisticRegression\n",
    "from sklearn.metrics import roc_auc_score\n",
    "import matplotlib.pyplot as plt\n",
    "\n",
    "\"\"\"\n",
    "y_true : array, shape = [n_samples] or [n_samples, n_classes]\n",
    "True binary labels or binary label indicators.\n",
    "\n",
    "y_score : array, shape = [n_samples] or [n_samples, n_classes]\n",
    "Target scores, can either be probability estimates of the positive class, confidence values, or non-thresholded measure of\n",
    "decisions (as returned by “decision_function” on some classifiers). \n",
    "For binary y_true, y_score is supposed to be the score of the class with greater label.\n",
    "\n",
    "\"\"\"\n",
    "\n",
    "train_auc = []\n",
    "cv_auc = []\n",
    "c_range=[10e-5,10e-4,10e-3,10e-2,1,10,10e1,10e2,10e3]\n",
    "for i in c_range:\n",
    "    clf=LogisticRegression(penalty='l2', C=i,class_weight='balanced')\n",
    "    clf.fit(x_train_bow, y_train)\n",
    "    # roc_auc_score(y_true, y_score) the 2nd parameter should be probability estimates of the positive class\n",
    "    # not the predicted outputs\n",
    "    \n",
    "    \n",
    "    #predicting on train and cv using blocks\n",
    "    y_train_pred = []\n",
    "    for i in range(0, x_train_bow.shape[0], 1000):\n",
    "        y_train_pred.extend(clf.predict_proba(x_train_bow[i:i+1000])[:,1]) \n",
    "\n",
    "    y_cv_pred = []\n",
    "    for i in range(0, x_cv_bow.shape[0], 1000):\n",
    "        y_cv_pred.extend(clf.predict_proba(x_cv_bow[i:i+1000])[:,1]) \n",
    "\n",
    "\n",
    "    train_auc.append(roc_auc_score(y_train,y_train_pred))\n",
    "    cv_auc.append(roc_auc_score(y_cv, y_cv_pred))\n",
    "\n",
    "    \n",
    "plt.plot(np.arange(1,10,1), train_auc, label='Train AUC')\n",
    "plt.plot(np.arange(1,10,1), cv_auc, label='CV AUC')\n",
    "plt.xticks( np.arange(1,10,1), (10e-5, 10e-4, 10e-3, 10e-2, 10e-1, 10e0, 10e1, 10e2, 10e3))\n",
    "plt.legend()\n",
    "plt.xlabel(\"alpha: hyperparameter\")\n",
    "plt.ylabel(\"AUC\")\n",
    "plt.title(\"ERROR PLOTS\")\n",
    "plt.grid()\n",
    "plt.show()\n"
   ]
  },
  {
   "cell_type": "code",
   "execution_count": 46,
   "metadata": {},
   "outputs": [
    {
     "name": "stdout",
     "output_type": "stream",
     "text": [
      "\n",
      "genearalisation roc_auc on best alpha-value at optimum_c = 0.1 is 0.95\n",
      "\n",
      "misclassification percentage is 0.10%\n"
     ]
    },
    {
     "data": {
      "image/png": "[encoded data removed]",
      "text/plain": [
       "<Figure size 432x288 with 2 Axes>"
      ]
     },
     "metadata": {
      "needs_background": "light"
     },
     "output_type": "display_data"
    },
    {
     "name": "stdout",
     "output_type": "stream",
     "text": [
      "\n",
      "\n",
      "classification report:\n",
      "              precision    recall  f1-score   support\n",
      "\n",
      "          0       0.63      0.87      0.73     11223\n",
      "          1       0.97      0.90      0.94     61428\n",
      "\n",
      "avg / total       0.92      0.90      0.91     72651\n",
      "\n"
     ]
    },
    {
     "data": {
      "image/png": "[encoded data removed]",
      "text/plain": [
       "<Figure size 504x504 with 1 Axes>"
      ]
     },
     "metadata": {
      "needs_background": "light"
     },
     "output_type": "display_data"
    }
   ],
   "source": [
    "# Test dataset\n",
    "\n",
    "from sklearn.linear_model import LogisticRegression\n",
    "from sklearn.metrics import roc_auc_score\n",
    "import matplotlib.pyplot as plt\n",
    "\n",
    "\n",
    "#using optimum_k to find generalistion ROC AUC accuracy\n",
    "optimum_c= 0.1 #optimum 'alpha'\n",
    "\n",
    "clf=LogisticRegression(penalty='l2', C=optimum_c,class_weight='balanced')\n",
    "clf.fit(x_train_bow,y_train)\n",
    "\n",
    "\n",
    "y_pred = []\n",
    "for i in range(0, x_test_bow.shape[0], 1000):\n",
    "    y_pred.extend(clf.predict(x_test_bow[i:i+1000]))\n",
    "    \n",
    "y_pred_proba = []\n",
    "for i in range(0, x_test_bow.shape[0], 1000):\n",
    "    y_pred_proba.extend(clf.predict_proba(x_test_bow[i:i+1000])[:,1])    \n",
    "\n",
    "\n",
    "accuracy=accuracy_score(y_test,y_pred)\n",
    "roc_auc=roc_auc_score(y_test,y_pred_proba)\n",
    "print(f'\\ngenearalisation roc_auc on best alpha-value at optimum_c = {optimum_c} is {roc_auc:.2f}')\n",
    "print(f'\\nmisclassification percentage is {(1-accuracy):.2f}%')\n",
    "\n",
    "\n",
    "#ploting confusion matrix\n",
    "sn.heatmap(confusion_matrix(y_pred,y_test),annot=True, fmt=\"d\",linewidths=.5)\n",
    "plt.title('Confusion Matrix')\n",
    "plt.xlabel('Predicted values')\n",
    "plt.ylabel('Actual values')\n",
    "plt.show()\n",
    "print(\"\\n\\nclassification report:\\n\",classification_report(y_test,y_pred)) \n",
    "\n",
    "\n",
    "# ROC Curve (reference:stack overflow with little modification)   \n",
    "\n",
    "y_train_pred_proba = []\n",
    "for i in range(0, x_train_bow.shape[0], 1000):\n",
    "    y_train_pred_proba.extend(clf.predict_proba(x_train_bow[i:i+1000])[:,1])\n",
    "\n",
    "\n",
    "train_fpr, train_tpr, train_threshold =roc_curve(y_train, y_train_pred_proba)\n",
    "test_fpr, test_tpr, test_threshold =roc_curve(y_test, y_pred_proba)\n",
    "\n",
    "roc_auc_train = roc_auc_score(y_train,y_train_pred_proba)\n",
    "roc_auc_test = roc_auc_score(y_test,y_pred_proba)\n",
    "\n",
    "plt.figure(figsize=(7,7))\n",
    "plt.title('Receiver Operating Characteristic')\n",
    "plt.plot(train_fpr, train_tpr, 'b', label = 'train_AUC = %0.2f' % roc_auc_train)\n",
    "plt.plot(test_fpr, test_tpr, 'r', label = 'test_AUC = %0.2f' % roc_auc_test)\n",
    "plt.legend(loc = 'lower right')\n",
    "plt.plot([0, 1], [0, 1],'k--')\n",
    "plt.xlim([-0.02, 1])\n",
    "plt.ylim([0, 1])\n",
    "plt.ylabel('True Positive Rate')\n",
    "plt.xlabel('False Positive Rate')\n",
    "plt.grid(linestyle='--', linewidth=1)\n",
    "plt.show()\n",
    "\n"
   ]
  },
  {
   "cell_type": "markdown",
   "metadata": {
    "colab_type": "text",
    "id": "UaJkugTKLPpE"
   },
   "source": [
    "#### [5.1.2.1] Performing pertubation test (multicollinearity check) on BOW,<font color='red'> SET 1</font>"
   ]
  },
  {
   "cell_type": "code",
   "execution_count": 8,
   "metadata": {
    "colab": {},
    "colab_type": "code",
    "id": "E1c5B1nELPpF"
   },
   "outputs": [
    {
     "data": {
      "text/plain": [
       "LogisticRegression(C=0.1, class_weight='balanced', dual=False,\n",
       "          fit_intercept=True, intercept_scaling=1, max_iter=100,\n",
       "          multi_class='ovr', n_jobs=1, penalty='l2', random_state=None,\n",
       "          solver='liblinear', tol=0.0001, verbose=0, warm_start=False)"
      ]
     },
     "execution_count": 8,
     "metadata": {},
     "output_type": "execute_result"
    }
   ],
   "source": [
    "\n",
    "from sklearn.linear_model import LogisticRegression\n",
    "from sklearn.metrics import roc_auc_score\n",
    "import matplotlib.pyplot as plt\n",
    "from scipy.stats import norm\n",
    "\n",
    "optimum_c= 0.1 #optimum 'C=1/lambda'\n",
    "\n",
    "clf=LogisticRegression(penalty='l2', C=optimum_c,class_weight='balanced')\n",
    "clf.fit(x_train_bow,y_train)\n"
   ]
  },
  {
   "cell_type": "code",
   "execution_count": 9,
   "metadata": {},
   "outputs": [
    {
     "name": "stdout",
     "output_type": "stream",
     "text": [
      "adding small noise e = 0.06312433357191576\n"
     ]
    }
   ],
   "source": [
    "# weights before adding noise\n",
    "w1=clf.coef_\n",
    "\n",
    "e=norm.rvs(loc=0,scale=0.1) #small random noise\n",
    "print(\"adding small noise e =\",e)\n",
    "\n",
    "#adding small noise e to x_train_bow\n",
    "x_train_bow_dash=x_train_bow\n",
    "x_train_bow_dash.data=x_train_bow_dash.data+e"
   ]
  },
  {
   "cell_type": "code",
   "execution_count": 10,
   "metadata": {},
   "outputs": [],
   "source": [
    "#Traning after adding small noise\n",
    "\n",
    "optimum_c= 0.1 #optimum 'C=1/lambda0'\n",
    "\n",
    "clf1=LogisticRegression(penalty='l2', C=optimum_c,class_weight='balanced')\n",
    "clf1.fit(x_train_bow_dash,y_train)\n",
    "\n",
    "#weights after adding noise and fitting\n",
    "w2=clf1.coef_\n",
    "\n",
    "#adding small epsilon=10e-6 into weights to neglect divide by zero error\n",
    "w1=w1+10e-6 \n",
    "w2=w2+10e-6 \n",
    "\n",
    "#difference in weights before adding noise and weights after adding noise w.r.t weights bfore adding noise\n",
    "diff=(np.absolute((w1-w2)/w1))*100  "
   ]
  },
  {
   "cell_type": "code",
   "execution_count": 11,
   "metadata": {},
   "outputs": [
    {
     "data": {
      "text/html": [
       "<div>\n",
       "<style scoped>\n",
       "    .dataframe tbody tr th:only-of-type {\n",
       "        vertical-align: middle;\n",
       "    }\n",
       "\n",
       "    .dataframe tbody tr th {\n",
       "        vertical-align: top;\n",
       "    }\n",
       "\n",
       "    .dataframe thead th {\n",
       "        text-align: right;\n",
       "    }\n",
       "</style>\n",
       "<table border=\"1\" class=\"dataframe\">\n",
       "  <thead>\n",
       "    <tr style=\"text-align: right;\">\n",
       "      <th></th>\n",
       "      <th>percentile</th>\n",
       "      <th>diffenece in weights</th>\n",
       "    </tr>\n",
       "  </thead>\n",
       "  <tbody>\n",
       "    <tr>\n",
       "      <th>0</th>\n",
       "      <td>0</td>\n",
       "      <td>0.000095</td>\n",
       "    </tr>\n",
       "    <tr>\n",
       "      <th>1</th>\n",
       "      <td>10</td>\n",
       "      <td>0.648600</td>\n",
       "    </tr>\n",
       "    <tr>\n",
       "      <th>2</th>\n",
       "      <td>20</td>\n",
       "      <td>1.441971</td>\n",
       "    </tr>\n",
       "    <tr>\n",
       "      <th>3</th>\n",
       "      <td>30</td>\n",
       "      <td>2.244430</td>\n",
       "    </tr>\n",
       "    <tr>\n",
       "      <th>4</th>\n",
       "      <td>40</td>\n",
       "      <td>3.092366</td>\n",
       "    </tr>\n",
       "    <tr>\n",
       "      <th>5</th>\n",
       "      <td>50</td>\n",
       "      <td>3.994646</td>\n",
       "    </tr>\n",
       "    <tr>\n",
       "      <th>6</th>\n",
       "      <td>60</td>\n",
       "      <td>4.920422</td>\n",
       "    </tr>\n",
       "    <tr>\n",
       "      <th>7</th>\n",
       "      <td>70</td>\n",
       "      <td>5.996831</td>\n",
       "    </tr>\n",
       "    <tr>\n",
       "      <th>8</th>\n",
       "      <td>80</td>\n",
       "      <td>7.354784</td>\n",
       "    </tr>\n",
       "    <tr>\n",
       "      <th>9</th>\n",
       "      <td>90</td>\n",
       "      <td>10.714592</td>\n",
       "    </tr>\n",
       "    <tr>\n",
       "      <th>10</th>\n",
       "      <td>100</td>\n",
       "      <td>6559.855704</td>\n",
       "    </tr>\n",
       "  </tbody>\n",
       "</table>\n",
       "</div>"
      ],
      "text/plain": [
       "    percentile  diffenece in weights\n",
       "0            0              0.000095\n",
       "1           10              0.648600\n",
       "2           20              1.441971\n",
       "3           30              2.244430\n",
       "4           40              3.092366\n",
       "5           50              3.994646\n",
       "6           60              4.920422\n",
       "7           70              5.996831\n",
       "8           80              7.354784\n",
       "9           90             10.714592\n",
       "10         100           6559.855704"
      ]
     },
     "execution_count": 11,
     "metadata": {},
     "output_type": "execute_result"
    }
   ],
   "source": [
    "# 0th,10th, 20th, ........,100th percentile of difference in weights\n",
    "\n",
    "pd.DataFrame({\"percentile\":np.arange(0,101,10),\"diffenece in weights\":np.percentile(diff, np.arange(0,101,10))})\n"
   ]
  },
  {
   "cell_type": "markdown",
   "metadata": {},
   "source": [
    "##### observation\n",
    "1.There is a sudden change weights from 90th percentle to 100th percentile\n",
    "\n",
    "2.Observe the values from 90th percentile to 100th percentile"
   ]
  },
  {
   "cell_type": "code",
   "execution_count": 12,
   "metadata": {},
   "outputs": [
    {
     "data": {
      "text/html": [
       "<div>\n",
       "<style scoped>\n",
       "    .dataframe tbody tr th:only-of-type {\n",
       "        vertical-align: middle;\n",
       "    }\n",
       "\n",
       "    .dataframe tbody tr th {\n",
       "        vertical-align: top;\n",
       "    }\n",
       "\n",
       "    .dataframe thead th {\n",
       "        text-align: right;\n",
       "    }\n",
       "</style>\n",
       "<table border=\"1\" class=\"dataframe\">\n",
       "  <thead>\n",
       "    <tr style=\"text-align: right;\">\n",
       "      <th></th>\n",
       "      <th>percentile</th>\n",
       "      <th>diffenece in weights</th>\n",
       "    </tr>\n",
       "  </thead>\n",
       "  <tbody>\n",
       "    <tr>\n",
       "      <th>0</th>\n",
       "      <td>90</td>\n",
       "      <td>10.714592</td>\n",
       "    </tr>\n",
       "    <tr>\n",
       "      <th>1</th>\n",
       "      <td>91</td>\n",
       "      <td>11.339809</td>\n",
       "    </tr>\n",
       "    <tr>\n",
       "      <th>2</th>\n",
       "      <td>92</td>\n",
       "      <td>12.120393</td>\n",
       "    </tr>\n",
       "    <tr>\n",
       "      <th>3</th>\n",
       "      <td>93</td>\n",
       "      <td>13.000132</td>\n",
       "    </tr>\n",
       "    <tr>\n",
       "      <th>4</th>\n",
       "      <td>94</td>\n",
       "      <td>14.174486</td>\n",
       "    </tr>\n",
       "    <tr>\n",
       "      <th>5</th>\n",
       "      <td>95</td>\n",
       "      <td>15.857957</td>\n",
       "    </tr>\n",
       "    <tr>\n",
       "      <th>6</th>\n",
       "      <td>96</td>\n",
       "      <td>18.102958</td>\n",
       "    </tr>\n",
       "    <tr>\n",
       "      <th>7</th>\n",
       "      <td>97</td>\n",
       "      <td>21.384177</td>\n",
       "    </tr>\n",
       "    <tr>\n",
       "      <th>8</th>\n",
       "      <td>98</td>\n",
       "      <td>28.486196</td>\n",
       "    </tr>\n",
       "    <tr>\n",
       "      <th>9</th>\n",
       "      <td>99</td>\n",
       "      <td>51.563896</td>\n",
       "    </tr>\n",
       "    <tr>\n",
       "      <th>10</th>\n",
       "      <td>100</td>\n",
       "      <td>6559.855704</td>\n",
       "    </tr>\n",
       "  </tbody>\n",
       "</table>\n",
       "</div>"
      ],
      "text/plain": [
       "    percentile  diffenece in weights\n",
       "0           90             10.714592\n",
       "1           91             11.339809\n",
       "2           92             12.120393\n",
       "3           93             13.000132\n",
       "4           94             14.174486\n",
       "5           95             15.857957\n",
       "6           96             18.102958\n",
       "7           97             21.384177\n",
       "8           98             28.486196\n",
       "9           99             51.563896\n",
       "10         100           6559.855704"
      ]
     },
     "execution_count": 12,
     "metadata": {},
     "output_type": "execute_result"
    }
   ],
   "source": [
    "# 90th,91th,92th, ........,100th percentile of difference in weights\n",
    "pd.DataFrame({\"percentile\":np.arange(90,101,1),\"diffenece in weights\":np.percentile(diff, np.arange(90,101,1))})\n"
   ]
  },
  {
   "cell_type": "code",
   "execution_count": 13,
   "metadata": {},
   "outputs": [
    {
     "data": {
      "text/html": [
       "<div>\n",
       "<style scoped>\n",
       "    .dataframe tbody tr th:only-of-type {\n",
       "        vertical-align: middle;\n",
       "    }\n",
       "\n",
       "    .dataframe tbody tr th {\n",
       "        vertical-align: top;\n",
       "    }\n",
       "\n",
       "    .dataframe thead th {\n",
       "        text-align: right;\n",
       "    }\n",
       "</style>\n",
       "<table border=\"1\" class=\"dataframe\">\n",
       "  <thead>\n",
       "    <tr style=\"text-align: right;\">\n",
       "      <th></th>\n",
       "      <th>percentile</th>\n",
       "      <th>diffenece in weights</th>\n",
       "    </tr>\n",
       "  </thead>\n",
       "  <tbody>\n",
       "    <tr>\n",
       "      <th>0</th>\n",
       "      <td>99.0</td>\n",
       "      <td>51.563896</td>\n",
       "    </tr>\n",
       "    <tr>\n",
       "      <th>1</th>\n",
       "      <td>99.1</td>\n",
       "      <td>56.825445</td>\n",
       "    </tr>\n",
       "    <tr>\n",
       "      <th>2</th>\n",
       "      <td>99.2</td>\n",
       "      <td>62.553310</td>\n",
       "    </tr>\n",
       "    <tr>\n",
       "      <th>3</th>\n",
       "      <td>99.3</td>\n",
       "      <td>69.496556</td>\n",
       "    </tr>\n",
       "    <tr>\n",
       "      <th>4</th>\n",
       "      <td>99.4</td>\n",
       "      <td>81.677091</td>\n",
       "    </tr>\n",
       "    <tr>\n",
       "      <th>5</th>\n",
       "      <td>99.5</td>\n",
       "      <td>96.272264</td>\n",
       "    </tr>\n",
       "    <tr>\n",
       "      <th>6</th>\n",
       "      <td>99.6</td>\n",
       "      <td>114.715569</td>\n",
       "    </tr>\n",
       "    <tr>\n",
       "      <th>7</th>\n",
       "      <td>99.7</td>\n",
       "      <td>153.678480</td>\n",
       "    </tr>\n",
       "    <tr>\n",
       "      <th>8</th>\n",
       "      <td>99.8</td>\n",
       "      <td>231.015229</td>\n",
       "    </tr>\n",
       "    <tr>\n",
       "      <th>9</th>\n",
       "      <td>99.9</td>\n",
       "      <td>457.995613</td>\n",
       "    </tr>\n",
       "    <tr>\n",
       "      <th>10</th>\n",
       "      <td>100.0</td>\n",
       "      <td>6559.855704</td>\n",
       "    </tr>\n",
       "  </tbody>\n",
       "</table>\n",
       "</div>"
      ],
      "text/plain": [
       "    percentile  diffenece in weights\n",
       "0         99.0             51.563896\n",
       "1         99.1             56.825445\n",
       "2         99.2             62.553310\n",
       "3         99.3             69.496556\n",
       "4         99.4             81.677091\n",
       "5         99.5             96.272264\n",
       "6         99.6            114.715569\n",
       "7         99.7            153.678480\n",
       "8         99.8            231.015229\n",
       "9         99.9            457.995613\n",
       "10       100.0           6559.855704"
      ]
     },
     "execution_count": 13,
     "metadata": {},
     "output_type": "execute_result"
    }
   ],
   "source": [
    "# 99th,99.1th,99.2th, ........,100th percentile of difference in weights\n",
    "pd.DataFrame({\"percentile\":np.arange(99,100.1,0.1),\"diffenece in weights\":np.percentile(diff, np.arange(99,100.1,0.1))})\n",
    "\n"
   ]
  },
  {
   "cell_type": "code",
   "execution_count": 15,
   "metadata": {
    "scrolled": true
   },
   "outputs": [
    {
     "data": {
      "image/png": "[encoded data removed]",
      "text/plain": [
       "<Figure size 432x288 with 1 Axes>"
      ]
     },
     "metadata": {
      "needs_background": "light"
     },
     "output_type": "display_data"
    }
   ],
   "source": [
    "plt.plot(np.arange(99,100,0.1),np.percentile(diff, np.arange(99,100,0.1)))\n",
    "plt.xlabel(\"percentile\")\n",
    "plt.ylabel(\"difference in w1 and w2\")\n",
    "plt.grid()\n",
    "plt.show()"
   ]
  },
  {
   "cell_type": "markdown",
   "metadata": {},
   "source": [
    "#### Observation:\n",
    "Above plot indicating threashold value at 114.7 or 99.6 percentile i.e 0.4 percentile have weight difference more than 114.7 or considerd to be multicollinear"
   ]
  },
  {
   "cell_type": "code",
   "execution_count": 17,
   "metadata": {},
   "outputs": [
    {
     "name": "stdout",
     "output_type": "stream",
     "text": [
      "Number of features which are multicollinear = 361\n"
     ]
    }
   ],
   "source": [
    "#Q how many feature is multicollinear\n",
    "print(\"Number of features which are multicollinear =\",len(diff[diff>114.7]))"
   ]
  },
  {
   "cell_type": "code",
   "execution_count": 21,
   "metadata": {
    "scrolled": true
   },
   "outputs": [],
   "source": [
    "multicollinear_features=pd.DataFrame({\"features\":count_vect.get_feature_names(),\"diff in weights\":diff[0]})"
   ]
  },
  {
   "cell_type": "markdown",
   "metadata": {},
   "source": [
    "#### top 10 multicolliner features"
   ]
  },
  {
   "cell_type": "code",
   "execution_count": 22,
   "metadata": {},
   "outputs": [
    {
     "data": {
      "text/html": [
       "<div>\n",
       "<style scoped>\n",
       "    .dataframe tbody tr th:only-of-type {\n",
       "        vertical-align: middle;\n",
       "    }\n",
       "\n",
       "    .dataframe tbody tr th {\n",
       "        vertical-align: top;\n",
       "    }\n",
       "\n",
       "    .dataframe thead th {\n",
       "        text-align: right;\n",
       "    }\n",
       "</style>\n",
       "<table border=\"1\" class=\"dataframe\">\n",
       "  <thead>\n",
       "    <tr style=\"text-align: right;\">\n",
       "      <th></th>\n",
       "      <th>features</th>\n",
       "      <th>diff in weights</th>\n",
       "    </tr>\n",
       "  </thead>\n",
       "  <tbody>\n",
       "    <tr>\n",
       "      <th>17629</th>\n",
       "      <td>coonhound</td>\n",
       "      <td>6559.855704</td>\n",
       "    </tr>\n",
       "    <tr>\n",
       "      <th>10283</th>\n",
       "      <td>buch</td>\n",
       "      <td>5520.634962</td>\n",
       "    </tr>\n",
       "    <tr>\n",
       "      <th>11429</th>\n",
       "      <td>campbells</td>\n",
       "      <td>4636.986778</td>\n",
       "    </tr>\n",
       "    <tr>\n",
       "      <th>21396</th>\n",
       "      <td>dessicate</td>\n",
       "      <td>4289.344986</td>\n",
       "    </tr>\n",
       "    <tr>\n",
       "      <th>62932</th>\n",
       "      <td>purelo</td>\n",
       "      <td>4289.344986</td>\n",
       "    </tr>\n",
       "    <tr>\n",
       "      <th>20980</th>\n",
       "      <td>demons</td>\n",
       "      <td>4222.485705</td>\n",
       "    </tr>\n",
       "    <tr>\n",
       "      <th>75860</th>\n",
       "      <td>struvite</td>\n",
       "      <td>4061.973298</td>\n",
       "    </tr>\n",
       "    <tr>\n",
       "      <th>61419</th>\n",
       "      <td>preservaties</td>\n",
       "      <td>3703.797331</td>\n",
       "    </tr>\n",
       "    <tr>\n",
       "      <th>52640</th>\n",
       "      <td>neumans</td>\n",
       "      <td>3401.382803</td>\n",
       "    </tr>\n",
       "  </tbody>\n",
       "</table>\n",
       "</div>"
      ],
      "text/plain": [
       "           features  diff in weights\n",
       "17629     coonhound      6559.855704\n",
       "10283          buch      5520.634962\n",
       "11429     campbells      4636.986778\n",
       "21396     dessicate      4289.344986\n",
       "62932        purelo      4289.344986\n",
       "20980        demons      4222.485705\n",
       "75860      struvite      4061.973298\n",
       "61419  preservaties      3703.797331\n",
       "52640       neumans      3401.382803"
      ]
     },
     "execution_count": 22,
     "metadata": {},
     "output_type": "execute_result"
    }
   ],
   "source": [
    "#top 10 multicolliner features\n",
    "multicollinear_features.sort_values(by=\"diff in weights\")[:-10:-1]"
   ]
  },
  {
   "cell_type": "markdown",
   "metadata": {
    "colab_type": "text",
    "id": "eB1rF0BQLPpG"
   },
   "source": [
    "### [5.1.3] Feature Importance on BOW,<font color='red'> SET 1</font>"
   ]
  },
  {
   "cell_type": "markdown",
   "metadata": {
    "colab_type": "text",
    "id": "JZTP19dqLPpI"
   },
   "source": [
    "#### [5.1.3.1] Top 10 important features of positive class from<font color='red'> SET 1</font>"
   ]
  },
  {
   "cell_type": "code",
   "execution_count": 47,
   "metadata": {},
   "outputs": [
    {
     "data": {
      "text/plain": [
       "LogisticRegression(C=0.1, class_weight='balanced', dual=False,\n",
       "          fit_intercept=True, intercept_scaling=1, max_iter=100,\n",
       "          multi_class='ovr', n_jobs=1, penalty='l2', random_state=None,\n",
       "          solver='liblinear', tol=0.0001, verbose=0, warm_start=False)"
      ]
     },
     "execution_count": 47,
     "metadata": {},
     "output_type": "execute_result"
    }
   ],
   "source": [
    "\n",
    "from sklearn.linear_model import LogisticRegression\n",
    "from sklearn.metrics import roc_auc_score\n",
    "import matplotlib.pyplot as plt\n",
    "from scipy.stats import norm\n",
    "\n",
    "optimum_c= 0.1 #optimum 'C=1/lambda'\n",
    "\n",
    "clf=LogisticRegression(penalty='l2', C=optimum_c,class_weight='balanced')\n",
    "clf.fit(x_train_bow,y_train)\n"
   ]
  },
  {
   "cell_type": "code",
   "execution_count": 48,
   "metadata": {},
   "outputs": [],
   "source": [
    "feature_name=count_vect.get_feature_names() #using count_vectoriser to get features names\n",
    "coef=clf.coef_ # storing weights of trained model\n",
    "\n",
    "feat_names=pd.Series(feature_name) #creating pandas series of fearures names\n"
   ]
  },
  {
   "cell_type": "code",
   "execution_count": 49,
   "metadata": {},
   "outputs": [
    {
     "data": {
      "text/html": [
       "<div>\n",
       "<style scoped>\n",
       "    .dataframe tbody tr th:only-of-type {\n",
       "        vertical-align: middle;\n",
       "    }\n",
       "\n",
       "    .dataframe tbody tr th {\n",
       "        vertical-align: top;\n",
       "    }\n",
       "\n",
       "    .dataframe thead th {\n",
       "        text-align: right;\n",
       "    }\n",
       "</style>\n",
       "<table border=\"1\" class=\"dataframe\">\n",
       "  <thead>\n",
       "    <tr style=\"text-align: right;\">\n",
       "      <th></th>\n",
       "      <th>positive features</th>\n",
       "      <th>weights</th>\n",
       "    </tr>\n",
       "  </thead>\n",
       "  <tbody>\n",
       "    <tr>\n",
       "      <th>88422</th>\n",
       "      <td>worry</td>\n",
       "      <td>1.733761</td>\n",
       "    </tr>\n",
       "    <tr>\n",
       "      <th>811</th>\n",
       "      <td>addicting</td>\n",
       "      <td>1.552098</td>\n",
       "    </tr>\n",
       "    <tr>\n",
       "      <th>6750</th>\n",
       "      <td>beat</td>\n",
       "      <td>1.542722</td>\n",
       "    </tr>\n",
       "    <tr>\n",
       "      <th>36836</th>\n",
       "      <td>highly</td>\n",
       "      <td>1.523680</td>\n",
       "    </tr>\n",
       "    <tr>\n",
       "      <th>27089</th>\n",
       "      <td>excellent</td>\n",
       "      <td>1.470119</td>\n",
       "    </tr>\n",
       "    <tr>\n",
       "      <th>71833</th>\n",
       "      <td>skeptical</td>\n",
       "      <td>1.463734</td>\n",
       "    </tr>\n",
       "    <tr>\n",
       "      <th>58437</th>\n",
       "      <td>perfect</td>\n",
       "      <td>1.459723</td>\n",
       "    </tr>\n",
       "    <tr>\n",
       "      <th>20754</th>\n",
       "      <td>delicious</td>\n",
       "      <td>1.409454</td>\n",
       "    </tr>\n",
       "    <tr>\n",
       "      <th>37448</th>\n",
       "      <td>hooked</td>\n",
       "      <td>1.406577</td>\n",
       "    </tr>\n",
       "  </tbody>\n",
       "</table>\n",
       "</div>"
      ],
      "text/plain": [
       "      positive features   weights\n",
       "88422             worry  1.733761\n",
       "811           addicting  1.552098\n",
       "6750               beat  1.542722\n",
       "36836            highly  1.523680\n",
       "27089         excellent  1.470119\n",
       "71833         skeptical  1.463734\n",
       "58437           perfect  1.459723\n",
       "20754         delicious  1.409454\n",
       "37448            hooked  1.406577"
      ]
     },
     "execution_count": 49,
     "metadata": {},
     "output_type": "execute_result"
    }
   ],
   "source": [
    "pos_index=np.argsort(coef)[0][-10:-1] #getting index of weights belong to poitive class\n",
    "\n",
    "#top 10 positive features\n",
    "pd.DataFrame({'positive features':feat_names[pos_index],\"weights\":coef[0][pos_index][::-1]})"
   ]
  },
  {
   "cell_type": "markdown",
   "metadata": {
    "colab_type": "text",
    "id": "UJLYBE1gLPpJ"
   },
   "source": [
    "#### [5.1.3.2] Top 10 important features of negative class from<font color='red'> SET 1</font>"
   ]
  },
  {
   "cell_type": "code",
   "execution_count": 50,
   "metadata": {
    "colab": {},
    "colab_type": "code",
    "id": "c9r7Zjx1LPpK"
   },
   "outputs": [
    {
     "data": {
      "text/html": [
       "<div>\n",
       "<style scoped>\n",
       "    .dataframe tbody tr th:only-of-type {\n",
       "        vertical-align: middle;\n",
       "    }\n",
       "\n",
       "    .dataframe tbody tr th {\n",
       "        vertical-align: top;\n",
       "    }\n",
       "\n",
       "    .dataframe thead th {\n",
       "        text-align: right;\n",
       "    }\n",
       "</style>\n",
       "<table border=\"1\" class=\"dataframe\">\n",
       "  <thead>\n",
       "    <tr style=\"text-align: right;\">\n",
       "      <th></th>\n",
       "      <th>negative features</th>\n",
       "      <th>weights</th>\n",
       "    </tr>\n",
       "  </thead>\n",
       "  <tbody>\n",
       "    <tr>\n",
       "      <th>22386</th>\n",
       "      <td>disappointing</td>\n",
       "      <td>-2.535535</td>\n",
       "    </tr>\n",
       "    <tr>\n",
       "      <th>88439</th>\n",
       "      <td>worst</td>\n",
       "      <td>-2.463530</td>\n",
       "    </tr>\n",
       "    <tr>\n",
       "      <th>22388</th>\n",
       "      <td>disappointment</td>\n",
       "      <td>-2.080786</td>\n",
       "    </tr>\n",
       "    <tr>\n",
       "      <th>78979</th>\n",
       "      <td>terrible</td>\n",
       "      <td>-1.970128</td>\n",
       "    </tr>\n",
       "    <tr>\n",
       "      <th>5533</th>\n",
       "      <td>awful</td>\n",
       "      <td>-1.863199</td>\n",
       "    </tr>\n",
       "    <tr>\n",
       "      <th>80124</th>\n",
       "      <td>threw</td>\n",
       "      <td>-1.638616</td>\n",
       "    </tr>\n",
       "    <tr>\n",
       "      <th>66956</th>\n",
       "      <td>rip</td>\n",
       "      <td>-1.607712</td>\n",
       "    </tr>\n",
       "    <tr>\n",
       "      <th>78246</th>\n",
       "      <td>tasteless</td>\n",
       "      <td>-1.606971</td>\n",
       "    </tr>\n",
       "    <tr>\n",
       "      <th>37571</th>\n",
       "      <td>horrible</td>\n",
       "      <td>-1.604024</td>\n",
       "    </tr>\n",
       "    <tr>\n",
       "      <th>11499</th>\n",
       "      <td>cancelled</td>\n",
       "      <td>-1.578712</td>\n",
       "    </tr>\n",
       "  </tbody>\n",
       "</table>\n",
       "</div>"
      ],
      "text/plain": [
       "      negative features   weights\n",
       "22386     disappointing -2.535535\n",
       "88439             worst -2.463530\n",
       "22388    disappointment -2.080786\n",
       "78979          terrible -1.970128\n",
       "5533              awful -1.863199\n",
       "80124             threw -1.638616\n",
       "66956               rip -1.607712\n",
       "78246         tasteless -1.606971\n",
       "37571          horrible -1.604024\n",
       "11499         cancelled -1.578712"
      ]
     },
     "execution_count": 50,
     "metadata": {},
     "output_type": "execute_result"
    }
   ],
   "source": [
    "neg_index=np.argsort(coef)[0][:10] #getting index of weights belong to poitive class\n",
    "\n",
    "#top 10 negative features\n",
    "pd.DataFrame({'negative features':feat_names[neg_index],\"weights\":coef[0][neg_index]})"
   ]
  },
  {
   "cell_type": "markdown",
   "metadata": {
    "colab_type": "text",
    "id": "nKn3VXcZLPpN"
   },
   "source": [
    "## [5.2] Logistic Regression on TFIDF,<font color='red'> SET 2</font>"
   ]
  },
  {
   "cell_type": "markdown",
   "metadata": {
    "colab_type": "text",
    "id": "naTBSzm6LPpN"
   },
   "source": [
    "### [5.2.1] Applying Logistic Regression with L1 regularization on TFIDF,<font color='red'> SET 2</font>"
   ]
  },
  {
   "cell_type": "code",
   "execution_count": 51,
   "metadata": {
    "colab": {},
    "colab_type": "code",
    "id": "MyOVi-xYLPo5"
   },
   "outputs": [
    {
     "data": {
      "image/png": "[encoded data removed]",
      "text/plain": [
       "<Figure size 432x288 with 1 Axes>"
      ]
     },
     "metadata": {
      "needs_background": "light"
     },
     "output_type": "display_data"
    }
   ],
   "source": [
    "# Please write all the code with proper documentation\n",
    "from sklearn.linear_model import LogisticRegression\n",
    "from sklearn.metrics import roc_auc_score\n",
    "import matplotlib.pyplot as plt\n",
    "\n",
    "\"\"\"\n",
    "y_true : array, shape = [n_samples] or [n_samples, n_classes]\n",
    "True binary labels or binary label indicators.\n",
    "\n",
    "y_score : array, shape = [n_samples] or [n_samples, n_classes]\n",
    "Target scores, can either be probability estimates of the positive class, confidence values, or non-thresholded measure of\n",
    "decisions (as returned by “decision_function” on some classifiers). \n",
    "For binary y_true, y_score is supposed to be the score of the class with greater label.\n",
    "\n",
    "\"\"\"\n",
    "\n",
    "train_auc = []\n",
    "cv_auc = []\n",
    "c_range=[10e-5,10e-4,10e-3,10e-2,1,10,10e1,10e2,10e3]\n",
    "for i in c_range:\n",
    "    clf=LogisticRegression(penalty='l1', C=i,class_weight='balanced')\n",
    "    clf.fit(train_tf_idf, y_train)\n",
    "    # roc_auc_score(y_true, y_score) the 2nd parameter should be probability estimates of the positive class\n",
    "    # not the predicted outputs\n",
    "    \n",
    "    \n",
    "    #predicting on train and cv using blocks\n",
    "    y_train_pred = []\n",
    "    for i in range(0, train_tf_idf.shape[0], 1000):\n",
    "        y_train_pred.extend(clf.predict_proba(train_tf_idf[i:i+1000])[:,1]) \n",
    "\n",
    "    y_cv_pred = []\n",
    "    for i in range(0, cv_tf_idf.shape[0], 1000):\n",
    "        y_cv_pred.extend(clf.predict_proba(cv_tf_idf[i:i+1000])[:,1]) \n",
    "\n",
    "\n",
    "    train_auc.append(roc_auc_score(y_train,y_train_pred))\n",
    "    cv_auc.append(roc_auc_score(y_cv, y_cv_pred))\n",
    "\n",
    "    \n",
    "plt.plot(np.arange(1,10,1), train_auc, label='Train AUC')\n",
    "plt.plot(np.arange(1,10,1), cv_auc, label='CV AUC')\n",
    "plt.xticks( np.arange(1,10,1), (10e-5, 10e-4, 10e-3, 10e-2, 10e-1, 10e0, 10e1, 10e2, 10e3))\n",
    "plt.legend()\n",
    "plt.xlabel(\"alpha: hyperparameter\")\n",
    "plt.ylabel(\"AUC\")\n",
    "plt.title(\"ERROR PLOTS\")\n",
    "plt.grid()\n",
    "plt.show()\n"
   ]
  },
  {
   "cell_type": "code",
   "execution_count": 58,
   "metadata": {},
   "outputs": [
    {
     "name": "stdout",
     "output_type": "stream",
     "text": [
      "\n",
      "genearalisation roc_auc on best alpha-value at optimum_c = 0.01 is 0.95\n",
      "\n",
      "misclassification percentage is 0.10%\n"
     ]
    },
    {
     "data": {
      "image/png": "[encoded data removed]",
      "text/plain": [
       "<Figure size 432x288 with 2 Axes>"
      ]
     },
     "metadata": {
      "needs_background": "light"
     },
     "output_type": "display_data"
    },
    {
     "name": "stdout",
     "output_type": "stream",
     "text": [
      "\n",
      "\n",
      "classification report:\n",
      "              precision    recall  f1-score   support\n",
      "\n",
      "          0       0.65      0.84      0.73     11223\n",
      "          1       0.97      0.92      0.94     61428\n",
      "\n",
      "avg / total       0.92      0.90      0.91     72651\n",
      "\n"
     ]
    },
    {
     "data": {
      "image/png": "[encoded data removed]",
      "text/plain": [
       "<Figure size 504x504 with 1 Axes>"
      ]
     },
     "metadata": {
      "needs_background": "light"
     },
     "output_type": "display_data"
    }
   ],
   "source": [
    "# Test dataset\n",
    "\n",
    "from sklearn.linear_model import LogisticRegression\n",
    "from sklearn.metrics import roc_auc_score\n",
    "import matplotlib.pyplot as plt\n",
    "\n",
    "\n",
    "#using optimum_k to find generalistion ROC AUC accuracy\n",
    "optimum_c=0.01 #optimum 'C'\n",
    "\n",
    "clf=LogisticRegression(penalty='l1', C=optimum_c,class_weight='balanced')\n",
    "clf.fit(train_tf_idf,y_train)\n",
    "\n",
    "\n",
    "y_pred = []\n",
    "for i in range(0, test_tf_idf.shape[0], 1000):\n",
    "    y_pred.extend(clf.predict(test_tf_idf[i:i+1000]))\n",
    "    \n",
    "y_pred_proba = []\n",
    "for i in range(0,test_tf_idf.shape[0], 1000):\n",
    "    y_pred_proba.extend(clf.predict_proba(test_tf_idf[i:i+1000])[:,1])    \n",
    "\n",
    "\n",
    "accuracy=accuracy_score(y_test,y_pred)\n",
    "roc_auc=roc_auc_score(y_test,y_pred_proba)\n",
    "print(f'\\ngenearalisation roc_auc on best alpha-value at optimum_c = {optimum_c} is {roc_auc:.2f}')\n",
    "print(f'\\nmisclassification percentage is {(1-accuracy):.2f}%')\n",
    "\n",
    "\n",
    "#ploting confusion matrix\n",
    "sn.heatmap(confusion_matrix(y_pred,y_test),annot=True, fmt=\"d\",linewidths=.5)\n",
    "plt.title('Confusion Matrix')\n",
    "plt.xlabel('Predicted values')\n",
    "plt.ylabel('Actual values')\n",
    "plt.show()\n",
    "print(\"\\n\\nclassification report:\\n\",classification_report(y_test,y_pred)) \n",
    "\n",
    "\n",
    "# ROC Curve (reference:stack overflow with little modification)   \n",
    "\n",
    "y_train_pred_proba = []\n",
    "for i in range(0, train_tf_idf.shape[0], 1000):\n",
    "    y_train_pred_proba.extend(clf.predict_proba(train_tf_idf[i:i+1000])[:,1])\n",
    "\n",
    "\n",
    "train_fpr, train_tpr, train_threshold =roc_curve(y_train, y_train_pred_proba)\n",
    "test_fpr, test_tpr, test_threshold =roc_curve(y_test, y_pred_proba)\n",
    "\n",
    "roc_auc_train = roc_auc_score(y_train,y_train_pred_proba)\n",
    "roc_auc_test = roc_auc_score(y_test,y_pred_proba)\n",
    "\n",
    "plt.figure(figsize=(7,7))\n",
    "plt.title('Receiver Operating Characteristic')\n",
    "plt.plot(train_fpr, train_tpr, 'b', label = 'train_AUC = %0.2f' % roc_auc_train)\n",
    "plt.plot(test_fpr, test_tpr, 'r', label = 'test_AUC = %0.2f' % roc_auc_test)\n",
    "plt.legend(loc = 'lower right')\n",
    "plt.plot([0, 1], [0, 1],'k--')\n",
    "plt.xlim([-0.02, 1])\n",
    "plt.ylim([0, 1])\n",
    "plt.ylabel('True Positive Rate')\n",
    "plt.xlabel('False Positive Rate')\n",
    "plt.grid(linestyle='--', linewidth=1)\n",
    "plt.show()\n",
    "\n"
   ]
  },
  {
   "cell_type": "markdown",
   "metadata": {
    "colab_type": "text",
    "id": "NdFShHQJLPpV"
   },
   "source": [
    "### [5.2.2] Applying Logistic Regression with L2 regularization on TFIDF,<font color='red'> SET 2</font>"
   ]
  },
  {
   "cell_type": "code",
   "execution_count": 81,
   "metadata": {
    "colab": {},
    "colab_type": "code",
    "id": "MyOVi-xYLPo5"
   },
   "outputs": [
    {
     "data": {
      "image/png": "[encoded data removed]",
      "text/plain": [
       "<Figure size 432x288 with 1 Axes>"
      ]
     },
     "metadata": {
      "needs_background": "light"
     },
     "output_type": "display_data"
    }
   ],
   "source": [
    "# Please write all the code with proper documentation\n",
    "from sklearn.linear_model import LogisticRegression\n",
    "from sklearn.metrics import roc_auc_score\n",
    "import matplotlib.pyplot as plt\n",
    "\n",
    "\"\"\"\n",
    "y_true : array, shape = [n_samples] or [n_samples, n_classes]\n",
    "True binary labels or binary label indicators.\n",
    "\n",
    "y_score : array, shape = [n_samples] or [n_samples, n_classes]\n",
    "Target scores, can either be probability estimates of the positive class, confidence values, or non-thresholded measure of\n",
    "decisions (as returned by “decision_function” on some classifiers). \n",
    "For binary y_true, y_score is supposed to be the score of the class with greater label.\n",
    "\n",
    "\"\"\"\n",
    "\n",
    "train_auc = []\n",
    "cv_auc = []\n",
    "c_range=[10e-7,10e-6,10e-5,10e-4,10e-3,10e-2,10e-1,10e1,10e2]\n",
    "for i in c_range:\n",
    "    clf=LogisticRegression(penalty='l2', C=i,class_weight='balanced')\n",
    "    clf.fit(train_tf_idf, y_train)\n",
    "    # roc_auc_score(y_true, y_score) the 2nd parameter should be probability estimates of the positive class\n",
    "    # not the predicted outputs\n",
    "    \n",
    "    \n",
    "    #predicting on train and cv using blocks\n",
    "    y_train_pred = []\n",
    "    for i in range(0, train_tf_idf.shape[0], 1000):\n",
    "        y_train_pred.extend(clf.predict_proba(train_tf_idf[i:i+1000])[:,1]) \n",
    "\n",
    "    y_cv_pred = []\n",
    "    for i in range(0, cv_tf_idf.shape[0], 1000):\n",
    "        y_cv_pred.extend(clf.predict_proba(cv_tf_idf[i:i+1000])[:,1]) \n",
    "\n",
    "\n",
    "    train_auc.append(roc_auc_score(y_train,y_train_pred))\n",
    "    cv_auc.append(roc_auc_score(y_cv, y_cv_pred))\n",
    "\n",
    "    \n",
    "plt.plot(np.arange(1,10,1), train_auc, label='Train AUC')\n",
    "plt.plot(np.arange(1,10,1), cv_auc, label='CV AUC')\n",
    "plt.xticks( np.arange(1,10,1), (10e-7,10e-6,10e-5,10e-4,10e-3,10e-2,10e-1,10e1,10e2))\n",
    "plt.legend()\n",
    "plt.xlabel(\"alpha: hyperparameter\")\n",
    "plt.ylabel(\"AUC\")\n",
    "plt.title(\"ERROR PLOTS\")\n",
    "plt.grid()\n",
    "plt.show()\n",
    "\n"
   ]
  },
  {
   "cell_type": "code",
   "execution_count": 85,
   "metadata": {},
   "outputs": [
    {
     "name": "stdout",
     "output_type": "stream",
     "text": [
      "\n",
      "genearalisation roc_auc on best alpha-value at optimum_c = 1e-05 is 0.94\n",
      "\n",
      "misclassification percentage is 0.10%\n"
     ]
    },
    {
     "data": {
      "image/png": "[encoded data removed]",
      "text/plain": [
       "<Figure size 432x288 with 2 Axes>"
      ]
     },
     "metadata": {
      "needs_background": "light"
     },
     "output_type": "display_data"
    },
    {
     "name": "stdout",
     "output_type": "stream",
     "text": [
      "\n",
      "\n",
      "classification report:\n",
      "              precision    recall  f1-score   support\n",
      "\n",
      "          0       0.62      0.82      0.71     11223\n",
      "          1       0.97      0.91      0.94     61428\n",
      "\n",
      "avg / total       0.91      0.90      0.90     72651\n",
      "\n"
     ]
    },
    {
     "data": {
      "image/png": "[encoded data removed]",
      "text/plain": [
       "<Figure size 504x504 with 1 Axes>"
      ]
     },
     "metadata": {
      "needs_background": "light"
     },
     "output_type": "display_data"
    }
   ],
   "source": [
    "# Test dataset\n",
    "\n",
    "from sklearn.linear_model import LogisticRegression\n",
    "from sklearn.metrics import roc_auc_score\n",
    "import matplotlib.pyplot as plt\n",
    "\n",
    "\n",
    "#using optimum_k to find generalistion ROC AUC accuracy\n",
    "optimum_c=0.00001 #optimum 'C'\n",
    "\n",
    "clf=LogisticRegression(penalty='l2', C=optimum_c,class_weight='balanced')\n",
    "clf.fit(train_tf_idf,y_train)\n",
    "\n",
    "\n",
    "y_pred = []\n",
    "for i in range(0, test_tf_idf.shape[0], 1000):\n",
    "    y_pred.extend(clf.predict(test_tf_idf[i:i+1000]))\n",
    "    \n",
    "y_pred_proba = []\n",
    "for i in range(0,test_tf_idf.shape[0], 1000):\n",
    "    y_pred_proba.extend(clf.predict_proba(test_tf_idf[i:i+1000])[:,1])    \n",
    "\n",
    "\n",
    "accuracy=accuracy_score(y_test,y_pred)\n",
    "roc_auc=roc_auc_score(y_test,y_pred_proba)\n",
    "print(f'\\ngenearalisation roc_auc on best alpha-value at optimum_c = {optimum_c} is {roc_auc:.2f}')\n",
    "print(f'\\nmisclassification percentage is {(1-accuracy):.2f}%')\n",
    "\n",
    "\n",
    "#ploting confusion matrix\n",
    "sn.heatmap(confusion_matrix(y_pred,y_test),annot=True, fmt=\"d\",linewidths=.5)\n",
    "plt.title('Confusion Matrix')\n",
    "plt.xlabel('Predicted values')\n",
    "plt.ylabel('Actual values')\n",
    "plt.show()\n",
    "print(\"\\n\\nclassification report:\\n\",classification_report(y_test,y_pred)) \n",
    "\n",
    "\n",
    "# ROC Curve (reference:stack overflow with little modification)   \n",
    "\n",
    "y_train_pred_proba = []\n",
    "for i in range(0, train_tf_idf.shape[0], 1000):\n",
    "    y_train_pred_proba.extend(clf.predict_proba(train_tf_idf[i:i+1000])[:,1])\n",
    "\n",
    "\n",
    "train_fpr, train_tpr, train_threshold =roc_curve(y_train, y_train_pred_proba)\n",
    "test_fpr, test_tpr, test_threshold =roc_curve(y_test, y_pred_proba)\n",
    "\n",
    "roc_auc_train = roc_auc_score(y_train,y_train_pred_proba)\n",
    "roc_auc_test = roc_auc_score(y_test,y_pred_proba)\n",
    "\n",
    "plt.figure(figsize=(7,7))\n",
    "plt.title('Receiver Operating Characteristic')\n",
    "plt.plot(train_fpr, train_tpr, 'b', label = 'train_AUC = %0.2f' % roc_auc_train)\n",
    "plt.plot(test_fpr, test_tpr, 'r', label = 'test_AUC = %0.2f' % roc_auc_test)\n",
    "plt.legend(loc = 'lower right')\n",
    "plt.plot([0, 1], [0, 1],'k--')\n",
    "plt.xlim([-0.02, 1])\n",
    "plt.ylim([0, 1])\n",
    "plt.ylabel('True Positive Rate')\n",
    "plt.xlabel('False Positive Rate')\n",
    "plt.grid(linestyle='--', linewidth=1)\n",
    "plt.show()\n",
    "\n"
   ]
  },
  {
   "cell_type": "markdown",
   "metadata": {
    "colab_type": "text",
    "id": "xeeJ8eVvLPpX"
   },
   "source": [
    "### [5.2.3] Feature Importance on TFIDF,<font color='red'> SET 2</font>"
   ]
  },
  {
   "cell_type": "markdown",
   "metadata": {
    "colab_type": "text",
    "id": "Cj9XEmqQLPpY"
   },
   "source": [
    "#### [5.2.3.1] Top 10 important features of positive class from<font color='red'> SET 2</font>"
   ]
  },
  {
   "cell_type": "code",
   "execution_count": 87,
   "metadata": {},
   "outputs": [
    {
     "data": {
      "text/plain": [
       "LogisticRegression(C=1e-05, class_weight='balanced', dual=False,\n",
       "          fit_intercept=True, intercept_scaling=1, max_iter=100,\n",
       "          multi_class='ovr', n_jobs=1, penalty='l2', random_state=None,\n",
       "          solver='liblinear', tol=0.0001, verbose=0, warm_start=False)"
      ]
     },
     "execution_count": 87,
     "metadata": {},
     "output_type": "execute_result"
    }
   ],
   "source": [
    "from sklearn.linear_model import LogisticRegression\n",
    "from sklearn.metrics import roc_auc_score\n",
    "import matplotlib.pyplot as plt\n",
    "\n",
    "\n",
    "#using optimum_k to find generalistion ROC AUC accuracy\n",
    "optimum_c=0.00001 #optimum 'C'\n",
    "\n",
    "clf=LogisticRegression(penalty='l2', C=optimum_c,class_weight='balanced')\n",
    "clf.fit(train_tf_idf,y_train)"
   ]
  },
  {
   "cell_type": "code",
   "execution_count": 88,
   "metadata": {
    "colab": {},
    "colab_type": "code",
    "id": "RG10txygLPpb"
   },
   "outputs": [],
   "source": [
    "feature_name=tf_idf.get_feature_names() #using count_vectoriser to get features names\n",
    "coef=clf.coef_ # storing weights of trained model\n",
    "\n",
    "feat_names=pd.Series(feature_name) #creating pandas series of fearures names"
   ]
  },
  {
   "cell_type": "code",
   "execution_count": 89,
   "metadata": {},
   "outputs": [
    {
     "data": {
      "text/html": [
       "<div>\n",
       "<style scoped>\n",
       "    .dataframe tbody tr th:only-of-type {\n",
       "        vertical-align: middle;\n",
       "    }\n",
       "\n",
       "    .dataframe tbody tr th {\n",
       "        vertical-align: top;\n",
       "    }\n",
       "\n",
       "    .dataframe thead th {\n",
       "        text-align: right;\n",
       "    }\n",
       "</style>\n",
       "<table border=\"1\" class=\"dataframe\">\n",
       "  <thead>\n",
       "    <tr style=\"text-align: right;\">\n",
       "      <th></th>\n",
       "      <th>positive features</th>\n",
       "      <th>weights</th>\n",
       "    </tr>\n",
       "  </thead>\n",
       "  <tbody>\n",
       "    <tr>\n",
       "      <th>52848</th>\n",
       "      <td>nice</td>\n",
       "      <td>0.068240</td>\n",
       "    </tr>\n",
       "    <tr>\n",
       "      <th>36836</th>\n",
       "      <td>highly</td>\n",
       "      <td>0.067292</td>\n",
       "    </tr>\n",
       "    <tr>\n",
       "      <th>27089</th>\n",
       "      <td>excellent</td>\n",
       "      <td>0.057845</td>\n",
       "    </tr>\n",
       "    <tr>\n",
       "      <th>28439</th>\n",
       "      <td>favorite</td>\n",
       "      <td>0.057679</td>\n",
       "    </tr>\n",
       "    <tr>\n",
       "      <th>46321</th>\n",
       "      <td>loves</td>\n",
       "      <td>0.049053</td>\n",
       "    </tr>\n",
       "    <tr>\n",
       "      <th>58437</th>\n",
       "      <td>perfect</td>\n",
       "      <td>0.045686</td>\n",
       "    </tr>\n",
       "    <tr>\n",
       "      <th>20754</th>\n",
       "      <td>delicious</td>\n",
       "      <td>0.043181</td>\n",
       "    </tr>\n",
       "    <tr>\n",
       "      <th>33533</th>\n",
       "      <td>good</td>\n",
       "      <td>0.042787</td>\n",
       "    </tr>\n",
       "    <tr>\n",
       "      <th>46287</th>\n",
       "      <td>love</td>\n",
       "      <td>0.041087</td>\n",
       "    </tr>\n",
       "    <tr>\n",
       "      <th>7482</th>\n",
       "      <td>best</td>\n",
       "      <td>0.040883</td>\n",
       "    </tr>\n",
       "  </tbody>\n",
       "</table>\n",
       "</div>"
      ],
      "text/plain": [
       "      positive features   weights\n",
       "52848              nice  0.068240\n",
       "36836            highly  0.067292\n",
       "27089         excellent  0.057845\n",
       "28439          favorite  0.057679\n",
       "46321             loves  0.049053\n",
       "58437           perfect  0.045686\n",
       "20754         delicious  0.043181\n",
       "33533              good  0.042787\n",
       "46287              love  0.041087\n",
       "7482               best  0.040883"
      ]
     },
     "execution_count": 89,
     "metadata": {},
     "output_type": "execute_result"
    }
   ],
   "source": [
    "pos_index=np.argsort(coef)[0][-11:-1] #getting index of weights belong to poitive class\n",
    "\n",
    "#top 10 positive features\n",
    "pd.DataFrame({'positive features':feat_names[pos_index],\"weights\":coef[0][pos_index][::-1]})"
   ]
  },
  {
   "cell_type": "markdown",
   "metadata": {
    "colab_type": "text",
    "id": "PowEfns4LPpg"
   },
   "source": [
    "#### [5.2.3.2] Top 10 important features of negative class from<font color='red'> SET 2</font>"
   ]
  },
  {
   "cell_type": "code",
   "execution_count": 90,
   "metadata": {
    "colab": {},
    "colab_type": "code",
    "id": "G7jrma95LPpg"
   },
   "outputs": [
    {
     "data": {
      "text/html": [
       "<div>\n",
       "<style scoped>\n",
       "    .dataframe tbody tr th:only-of-type {\n",
       "        vertical-align: middle;\n",
       "    }\n",
       "\n",
       "    .dataframe tbody tr th {\n",
       "        vertical-align: top;\n",
       "    }\n",
       "\n",
       "    .dataframe thead th {\n",
       "        text-align: right;\n",
       "    }\n",
       "</style>\n",
       "<table border=\"1\" class=\"dataframe\">\n",
       "  <thead>\n",
       "    <tr style=\"text-align: right;\">\n",
       "      <th></th>\n",
       "      <th>negative features</th>\n",
       "      <th>weights</th>\n",
       "    </tr>\n",
       "  </thead>\n",
       "  <tbody>\n",
       "    <tr>\n",
       "      <th>53444</th>\n",
       "      <td>not</td>\n",
       "      <td>-0.096251</td>\n",
       "    </tr>\n",
       "    <tr>\n",
       "      <th>22377</th>\n",
       "      <td>disappointed</td>\n",
       "      <td>-0.068515</td>\n",
       "    </tr>\n",
       "    <tr>\n",
       "      <th>88439</th>\n",
       "      <td>worst</td>\n",
       "      <td>-0.055764</td>\n",
       "    </tr>\n",
       "    <tr>\n",
       "      <th>78979</th>\n",
       "      <td>terrible</td>\n",
       "      <td>-0.051268</td>\n",
       "    </tr>\n",
       "    <tr>\n",
       "      <th>5533</th>\n",
       "      <td>awful</td>\n",
       "      <td>-0.049462</td>\n",
       "    </tr>\n",
       "    <tr>\n",
       "      <th>37571</th>\n",
       "      <td>horrible</td>\n",
       "      <td>-0.047230</td>\n",
       "    </tr>\n",
       "    <tr>\n",
       "      <th>5791</th>\n",
       "      <td>bad</td>\n",
       "      <td>-0.046998</td>\n",
       "    </tr>\n",
       "    <tr>\n",
       "      <th>86451</th>\n",
       "      <td>waste</td>\n",
       "      <td>-0.046490</td>\n",
       "    </tr>\n",
       "    <tr>\n",
       "      <th>22386</th>\n",
       "      <td>disappointing</td>\n",
       "      <td>-0.046039</td>\n",
       "    </tr>\n",
       "    <tr>\n",
       "      <th>50646</th>\n",
       "      <td>money</td>\n",
       "      <td>-0.043491</td>\n",
       "    </tr>\n",
       "  </tbody>\n",
       "</table>\n",
       "</div>"
      ],
      "text/plain": [
       "      negative features   weights\n",
       "53444               not -0.096251\n",
       "22377      disappointed -0.068515\n",
       "88439             worst -0.055764\n",
       "78979          terrible -0.051268\n",
       "5533              awful -0.049462\n",
       "37571          horrible -0.047230\n",
       "5791                bad -0.046998\n",
       "86451             waste -0.046490\n",
       "22386     disappointing -0.046039\n",
       "50646             money -0.043491"
      ]
     },
     "execution_count": 90,
     "metadata": {},
     "output_type": "execute_result"
    }
   ],
   "source": [
    "neg_index=np.argsort(coef)[0][:10] #getting index of weights belong to poitive class\n",
    "\n",
    "#top 10 negative features\n",
    "pd.DataFrame({'negative features':feat_names[neg_index],\"weights\":coef[0][neg_index]})"
   ]
  },
  {
   "cell_type": "markdown",
   "metadata": {
    "colab_type": "text",
    "id": "sqYadGOgLPpi"
   },
   "source": [
    "## [5.3] Logistic Regression on AVG W2V,<font color='red'> SET 3</font>"
   ]
  },
  {
   "cell_type": "markdown",
   "metadata": {
    "colab_type": "text",
    "id": "kByBCEA1LPpj"
   },
   "source": [
    "### [5.3.1] Applying Logistic Regression with L1 regularization on AVG W2V<font color='red'> SET 3</font>"
   ]
  },
  {
   "cell_type": "code",
   "execution_count": 82,
   "metadata": {
    "colab": {},
    "colab_type": "code",
    "id": "yCQ_4iJkLPpj"
   },
   "outputs": [
    {
     "data": {
      "image/png": "[encoded data removed]",
      "text/plain": [
       "<Figure size 432x288 with 1 Axes>"
      ]
     },
     "metadata": {
      "needs_background": "light"
     },
     "output_type": "display_data"
    }
   ],
   "source": [
    "# Please write all the code with proper documentation\n",
    "from sklearn.linear_model import LogisticRegression\n",
    "from sklearn.metrics import roc_auc_score\n",
    "import matplotlib.pyplot as plt\n",
    "\n",
    "\"\"\"\n",
    "y_true : array, shape = [n_samples] or [n_samples, n_classes]\n",
    "True binary labels or binary label indicators.\n",
    "\n",
    "y_score : array, shape = [n_samples] or [n_samples, n_classes]\n",
    "Target scores, can either be probability estimates of the positive class, confidence values, or non-thresholded measure of\n",
    "decisions (as returned by “decision_function” on some classifiers). \n",
    "For binary y_true, y_score is supposed to be the score of the class with greater label.\n",
    "\n",
    "\"\"\"\n",
    "\n",
    "train_auc = []\n",
    "cv_auc = []\n",
    "c_range=[10e-5,10e-4,10e-3,10e-2,1,10,10e1,10e2,10e3]\n",
    "for i in c_range:\n",
    "    clf=LogisticRegression(penalty='l1', C=i,class_weight='balanced')\n",
    "    clf.fit(train_w2v, y_train)\n",
    "    # roc_auc_score(y_true, y_score) the 2nd parameter should be probability estimates of the positive class\n",
    "    # not the predicted outputs\n",
    "    \n",
    "    \n",
    "    #predicting on train and cv using blocks\n",
    "    y_train_pred = []\n",
    "    for i in range(0, train_w2v.shape[0], 1000):\n",
    "        y_train_pred.extend(clf.predict_proba(train_w2v[i:i+1000])[:,1]) \n",
    "\n",
    "    y_cv_pred = []\n",
    "    for i in range(0, cv_w2v.shape[0], 1000):\n",
    "        y_cv_pred.extend(clf.predict_proba(cv_w2v[i:i+1000])[:,1]) \n",
    "\n",
    "\n",
    "    train_auc.append(roc_auc_score(y_train,y_train_pred))\n",
    "    cv_auc.append(roc_auc_score(y_cv, y_cv_pred))\n",
    "\n",
    "    \n",
    "plt.plot(np.arange(1,10,1), train_auc, label='Train AUC')\n",
    "plt.plot(np.arange(1,10,1), cv_auc, label='CV AUC')\n",
    "plt.xticks( np.arange(1,10,1), (10e-5, 10e-4, 10e-3, 10e-2, 10e-1, 10e0, 10e1, 10e2, 10e3))\n",
    "plt.legend()\n",
    "plt.xlabel(\"alpha: hyperparameter\")\n",
    "plt.ylabel(\"AUC\")\n",
    "plt.title(\"ERROR PLOTS\")\n",
    "plt.grid()\n",
    "plt.show()\n"
   ]
  },
  {
   "cell_type": "code",
   "execution_count": 91,
   "metadata": {},
   "outputs": [
    {
     "name": "stdout",
     "output_type": "stream",
     "text": [
      "\n",
      "genearalisation roc_auc on best alpha-value at optimum_c = 0.01 is 0.92\n",
      "\n",
      "misclassification percentage is 0.17%\n"
     ]
    },
    {
     "data": {
      "image/png": "[encoded data removed]",
      "text/plain": [
       "<Figure size 432x288 with 2 Axes>"
      ]
     },
     "metadata": {
      "needs_background": "light"
     },
     "output_type": "display_data"
    },
    {
     "name": "stdout",
     "output_type": "stream",
     "text": [
      "\n",
      "\n",
      "classification report:\n",
      "              precision    recall  f1-score   support\n",
      "\n",
      "          0       0.48      0.85      0.61     11223\n",
      "          1       0.97      0.83      0.89     61428\n",
      "\n",
      "avg / total       0.89      0.83      0.85     72651\n",
      "\n"
     ]
    },
    {
     "data": {
      "image/png": "[encoded data removed]",
      "text/plain": [
       "<Figure size 504x504 with 1 Axes>"
      ]
     },
     "metadata": {
      "needs_background": "light"
     },
     "output_type": "display_data"
    }
   ],
   "source": [
    "# Test dataset\n",
    "\n",
    "from sklearn.linear_model import LogisticRegression\n",
    "from sklearn.metrics import roc_auc_score\n",
    "import matplotlib.pyplot as plt\n",
    "\n",
    "\n",
    "#using optimum_k to find generalistion ROC AUC accuracy\n",
    "optimum_c=0.01 #optimum 'C'\n",
    "\n",
    "clf=LogisticRegression(penalty='l1', C=optimum_c,class_weight='balanced')\n",
    "clf.fit(train_w2v,y_train)\n",
    "\n",
    "\n",
    "y_pred = []\n",
    "for i in range(0, test_w2v.shape[0], 1000):\n",
    "    y_pred.extend(clf.predict(test_w2v[i:i+1000]))\n",
    "    \n",
    "y_pred_proba = []\n",
    "for i in range(0,test_w2v.shape[0], 1000):\n",
    "    y_pred_proba.extend(clf.predict_proba(test_w2v[i:i+1000])[:,1])    \n",
    "\n",
    "\n",
    "accuracy=accuracy_score(y_test,y_pred)\n",
    "roc_auc=roc_auc_score(y_test,y_pred_proba)\n",
    "print(f'\\ngenearalisation roc_auc on best alpha-value at optimum_c = {optimum_c} is {roc_auc:.2f}')\n",
    "print(f'\\nmisclassification percentage is {(1-accuracy):.2f}%')\n",
    "\n",
    "\n",
    "#ploting confusion matrix\n",
    "sn.heatmap(confusion_matrix(y_pred,y_test),annot=True, fmt=\"d\",linewidths=.5)\n",
    "plt.title('Confusion Matrix')\n",
    "plt.xlabel('Predicted values')\n",
    "plt.ylabel('Actual values')\n",
    "plt.show()\n",
    "print(\"\\n\\nclassification report:\\n\",classification_report(y_test,y_pred)) \n",
    "\n",
    "\n",
    "# ROC Curve (reference:stack overflow with little modification)   \n",
    "\n",
    "y_train_pred_proba = []\n",
    "for i in range(0, train_w2v.shape[0], 1000):\n",
    "    y_train_pred_proba.extend(clf.predict_proba(train_w2v[i:i+1000])[:,1])\n",
    "\n",
    "\n",
    "train_fpr, train_tpr, train_threshold =roc_curve(y_train, y_train_pred_proba)\n",
    "test_fpr, test_tpr, test_threshold =roc_curve(y_test, y_pred_proba)\n",
    "\n",
    "roc_auc_train = roc_auc_score(y_train,y_train_pred_proba)\n",
    "roc_auc_test = roc_auc_score(y_test,y_pred_proba)\n",
    "\n",
    "plt.figure(figsize=(7,7))\n",
    "plt.title('Receiver Operating Characteristic')\n",
    "plt.plot(train_fpr, train_tpr, 'b', label = 'train_AUC = %0.2f' % roc_auc_train)\n",
    "plt.plot(test_fpr, test_tpr, 'r', label = 'test_AUC = %0.2f' % roc_auc_test)\n",
    "plt.legend(loc = 'lower right')\n",
    "plt.plot([0, 1], [0, 1],'k--')\n",
    "plt.xlim([-0.02, 1])\n",
    "plt.ylim([0, 1])\n",
    "plt.ylabel('True Positive Rate')\n",
    "plt.xlabel('False Positive Rate')\n",
    "plt.grid(linestyle='--', linewidth=1)\n",
    "plt.show()\n",
    "\n"
   ]
  },
  {
   "cell_type": "markdown",
   "metadata": {
    "colab_type": "text",
    "id": "O_8Gu2SfLPpn"
   },
   "source": [
    "### [5.3.2] Applying Logistic Regression with L2 regularization on AVG W2V,<font color='red'> SET 3</font>"
   ]
  },
  {
   "cell_type": "code",
   "execution_count": 83,
   "metadata": {
    "colab": {},
    "colab_type": "code",
    "id": "Zy3s4jk1LPpn"
   },
   "outputs": [
    {
     "data": {
      "image/png": "[encoded data removed]",
      "text/plain": [
       "<Figure size 432x288 with 1 Axes>"
      ]
     },
     "metadata": {
      "needs_background": "light"
     },
     "output_type": "display_data"
    }
   ],
   "source": [
    "# Please write all the code with proper documentation\n",
    "from sklearn.linear_model import LogisticRegression\n",
    "from sklearn.metrics import roc_auc_score\n",
    "import matplotlib.pyplot as plt\n",
    "\n",
    "\"\"\"\n",
    "y_true : array, shape = [n_samples] or [n_samples, n_classes]\n",
    "True binary labels or binary label indicators.\n",
    "\n",
    "y_score : array, shape = [n_samples] or [n_samples, n_classes]\n",
    "Target scores, can either be probability estimates of the positive class, confidence values, or non-thresholded measure of\n",
    "decisions (as returned by “decision_function” on some classifiers). \n",
    "For binary y_true, y_score is supposed to be the score of the class with greater label.\n",
    "\n",
    "\"\"\"\n",
    "\n",
    "train_auc = []\n",
    "cv_auc = []\n",
    "c_range=[10e-5,10e-4,10e-3,10e-2,1,10,10e1,10e2,10e3]\n",
    "for i in c_range:\n",
    "    clf=LogisticRegression(penalty='l2', C=i,class_weight='balanced')\n",
    "    clf.fit(train_w2v, y_train)\n",
    "    # roc_auc_score(y_true, y_score) the 2nd parameter should be probability estimates of the positive class\n",
    "    # not the predicted outputs\n",
    "    \n",
    "    \n",
    "    #predicting on train and cv using blocks\n",
    "    y_train_pred = []\n",
    "    for i in range(0, train_w2v.shape[0], 1000):\n",
    "        y_train_pred.extend(clf.predict_proba(train_w2v[i:i+1000])[:,1]) \n",
    "\n",
    "    y_cv_pred = []\n",
    "    for i in range(0, cv_w2v.shape[0], 1000):\n",
    "        y_cv_pred.extend(clf.predict_proba(cv_w2v[i:i+1000])[:,1]) \n",
    "\n",
    "\n",
    "    train_auc.append(roc_auc_score(y_train,y_train_pred))\n",
    "    cv_auc.append(roc_auc_score(y_cv, y_cv_pred))\n",
    "\n",
    "    \n",
    "plt.plot(np.arange(1,10,1), train_auc, label='Train AUC')\n",
    "plt.plot(np.arange(1,10,1), cv_auc, label='CV AUC')\n",
    "plt.xticks( np.arange(1,10,1), (10e-5, 10e-4, 10e-3, 10e-2, 10e-1, 10e0, 10e1, 10e2, 10e3))\n",
    "plt.legend()\n",
    "plt.xlabel(\"alpha: hyperparameter\")\n",
    "plt.ylabel(\"AUC\")\n",
    "plt.title(\"ERROR PLOTS\")\n",
    "plt.grid()\n",
    "plt.show()\n"
   ]
  },
  {
   "cell_type": "code",
   "execution_count": 92,
   "metadata": {},
   "outputs": [
    {
     "name": "stdout",
     "output_type": "stream",
     "text": [
      "\n",
      "genearalisation roc_auc on best alpha-value at optimum_c = 0.01 is 0.92\n",
      "\n",
      "misclassification percentage is 0.17%\n"
     ]
    },
    {
     "data": {
      "image/png": "[encoded data removed]",
      "text/plain": [
       "<Figure size 432x288 with 2 Axes>"
      ]
     },
     "metadata": {
      "needs_background": "light"
     },
     "output_type": "display_data"
    },
    {
     "name": "stdout",
     "output_type": "stream",
     "text": [
      "\n",
      "\n",
      "classification report:\n",
      "              precision    recall  f1-score   support\n",
      "\n",
      "          0       0.48      0.85      0.61     11223\n",
      "          1       0.97      0.83      0.89     61428\n",
      "\n",
      "avg / total       0.89      0.83      0.85     72651\n",
      "\n"
     ]
    },
    {
     "data": {
      "image/png": "[encoded data removed]",
      "text/plain": [
       "<Figure size 504x504 with 1 Axes>"
      ]
     },
     "metadata": {
      "needs_background": "light"
     },
     "output_type": "display_data"
    }
   ],
   "source": [
    "# Test dataset\n",
    "\n",
    "from sklearn.linear_model import LogisticRegression\n",
    "from sklearn.metrics import roc_auc_score\n",
    "import matplotlib.pyplot as plt\n",
    "\n",
    "\n",
    "#using optimum_k to find generalistion ROC AUC accuracy\n",
    "optimum_c=0.01 #optimum 'C'\n",
    "\n",
    "clf=LogisticRegression(penalty='l2', C=optimum_c,class_weight='balanced')\n",
    "clf.fit(train_w2v,y_train)\n",
    "\n",
    "\n",
    "y_pred = []\n",
    "for i in range(0, test_w2v.shape[0], 1000):\n",
    "    y_pred.extend(clf.predict(test_w2v[i:i+1000]))\n",
    "    \n",
    "y_pred_proba = []\n",
    "for i in range(0,test_w2v.shape[0], 1000):\n",
    "    y_pred_proba.extend(clf.predict_proba(test_w2v[i:i+1000])[:,1])    \n",
    "\n",
    "\n",
    "accuracy=accuracy_score(y_test,y_pred)\n",
    "roc_auc=roc_auc_score(y_test,y_pred_proba)\n",
    "print(f'\\ngenearalisation roc_auc on best alpha-value at optimum_c = {optimum_c} is {roc_auc:.2f}')\n",
    "print(f'\\nmisclassification percentage is {(1-accuracy):.2f}%')\n",
    "\n",
    "\n",
    "#ploting confusion matrix\n",
    "sn.heatmap(confusion_matrix(y_pred,y_test),annot=True, fmt=\"d\",linewidths=.5)\n",
    "plt.title('Confusion Matrix')\n",
    "plt.xlabel('Predicted values')\n",
    "plt.ylabel('Actual values')\n",
    "plt.show()\n",
    "print(\"\\n\\nclassification report:\\n\",classification_report(y_test,y_pred)) \n",
    "\n",
    "\n",
    "# ROC Curve (reference:stack overflow with little modification)   \n",
    "\n",
    "y_train_pred_proba = []\n",
    "for i in range(0, train_w2v.shape[0], 1000):\n",
    "    y_train_pred_proba.extend(clf.predict_proba(train_w2v[i:i+1000])[:,1])\n",
    "\n",
    "\n",
    "train_fpr, train_tpr, train_threshold =roc_curve(y_train, y_train_pred_proba)\n",
    "test_fpr, test_tpr, test_threshold =roc_curve(y_test, y_pred_proba)\n",
    "\n",
    "roc_auc_train = roc_auc_score(y_train,y_train_pred_proba)\n",
    "roc_auc_test = roc_auc_score(y_test,y_pred_proba)\n",
    "\n",
    "plt.figure(figsize=(7,7))\n",
    "plt.title('Receiver Operating Characteristic')\n",
    "plt.plot(train_fpr, train_tpr, 'b', label = 'train_AUC = %0.2f' % roc_auc_train)\n",
    "plt.plot(test_fpr, test_tpr, 'r', label = 'test_AUC = %0.2f' % roc_auc_test)\n",
    "plt.legend(loc = 'lower right')\n",
    "plt.plot([0, 1], [0, 1],'k--')\n",
    "plt.xlim([-0.02, 1])\n",
    "plt.ylim([0, 1])\n",
    "plt.ylabel('True Positive Rate')\n",
    "plt.xlabel('False Positive Rate')\n",
    "plt.grid(linestyle='--', linewidth=1)\n",
    "plt.show()\n",
    "\n"
   ]
  },
  {
   "cell_type": "markdown",
   "metadata": {
    "colab_type": "text",
    "id": "pdXTwVIPLPpp"
   },
   "source": [
    "## [5.4] Logistic Regression on TFIDF W2V,<font color='red'> SET 4</font>\n",
    "#### Note\n",
    "I am using only 60000 for traning 20000 for cv and 20000 for testing in TFIDF W2V because of computational strain."
   ]
  },
  {
   "cell_type": "markdown",
   "metadata": {
    "colab_type": "text",
    "id": "WP9NjwNSLPpp"
   },
   "source": [
    "### [5.4.1] Applying Logistic Regression with L1 regularization on TFIDF W2V,<font color='red'> SET 4</font>"
   ]
  },
  {
   "cell_type": "code",
   "execution_count": 3,
   "metadata": {},
   "outputs": [
    {
     "data": {
      "image/png": "[encoded data removed]",
      "text/plain": [
       "<Figure size 432x288 with 1 Axes>"
      ]
     },
     "metadata": {
      "needs_background": "light"
     },
     "output_type": "display_data"
    }
   ],
   "source": [
    "from sklearn.linear_model import LogisticRegression\n",
    "from sklearn.metrics import roc_auc_score\n",
    "import matplotlib.pyplot as plt\n",
    "\n",
    "\"\"\"\n",
    "y_true : array, shape = [n_samples] or [n_samples, n_classes]\n",
    "True binary labels or binary label indicators.\n",
    "\n",
    "y_score : array, shape = [n_samples] or [n_samples, n_classes]\n",
    "Target scores, can either be probability estimates of the positive class, confidence values, or non-thresholded measure of\n",
    "decisions (as returned by “decision_function” on some classifiers). \n",
    "For binary y_true, y_score is supposed to be the score of the class with greater label.\n",
    "\n",
    "\"\"\"\n",
    "\n",
    "train_auc = []\n",
    "cv_auc = []\n",
    "c_range=[10e-5,10e-4,10e-3,10e-2,1,10,10e1,10e2,10e3]\n",
    "for i in c_range:\n",
    "    clf=LogisticRegression(penalty='l1', C=i,class_weight='balanced')\n",
    "    clf.fit(train_tf_idf_w2v, y_train[:60000])\n",
    "    # roc_auc_score(y_true, y_score) the 2nd parameter should be probability estimates of the positive class\n",
    "    # not the predicted outputs\n",
    "    \n",
    "    \n",
    "    #predicting on train and cv using blocks\n",
    "    y_train_pred = []\n",
    "    for i in range(0, train_tf_idf_w2v.shape[0], 1000):\n",
    "        y_train_pred.extend(clf.predict_proba(train_tf_idf_w2v[i:i+1000])[:,1]) \n",
    "\n",
    "    y_cv_pred = []\n",
    "    for i in range(0, cv_tf_idf_w2v.shape[0], 1000):\n",
    "        y_cv_pred.extend(clf.predict_proba(cv_tf_idf_w2v[i:i+1000])[:,1]) \n",
    "\n",
    "\n",
    "    train_auc.append(roc_auc_score(y_train[:60000],y_train_pred))\n",
    "    cv_auc.append(roc_auc_score(y_cv[:20000], y_cv_pred))\n",
    "\n",
    "    \n",
    "plt.plot(np.arange(1,10,1), train_auc, label='Train AUC')\n",
    "plt.plot(np.arange(1,10,1), cv_auc, label='CV AUC')\n",
    "plt.xticks( np.arange(1,10,1), (10e-5, 10e-4, 10e-3, 10e-2, 10e-1, 10e0, 10e1, 10e2, 10e3))\n",
    "plt.legend()\n",
    "plt.xlabel(\"alpha: hyperparameter\")\n",
    "plt.ylabel(\"AUC\")\n",
    "plt.title(\"ERROR PLOTS\")\n",
    "plt.grid()\n",
    "plt.show()\n"
   ]
  },
  {
   "cell_type": "code",
   "execution_count": 6,
   "metadata": {
    "colab": {},
    "colab_type": "code",
    "id": "207gYymwLPpq"
   },
   "outputs": [
    {
     "name": "stdout",
     "output_type": "stream",
     "text": [
      "\n",
      "genearalisation roc_auc on best alpha-value at optimum_c = 0.01 is 0.89\n",
      "\n",
      "misclassification percentage is 0.19%\n"
     ]
    },
    {
     "data": {
      "image/png": "[encoded data removed]",
      "text/plain": [
       "<Figure size 432x288 with 2 Axes>"
      ]
     },
     "metadata": {
      "needs_background": "light"
     },
     "output_type": "display_data"
    },
    {
     "name": "stdout",
     "output_type": "stream",
     "text": [
      "\n",
      "\n",
      "classification report:\n",
      "              precision    recall  f1-score   support\n",
      "\n",
      "          0       0.43      0.82      0.57      3091\n",
      "          1       0.96      0.80      0.88     16909\n",
      "\n",
      "avg / total       0.88      0.81      0.83     20000\n",
      "\n"
     ]
    },
    {
     "data": {
      "image/png": "[encoded data removed]",
      "text/plain": [
       "<Figure size 504x504 with 1 Axes>"
      ]
     },
     "metadata": {
      "needs_background": "light"
     },
     "output_type": "display_data"
    }
   ],
   "source": [
    "# Test dataset\n",
    "\n",
    "from sklearn.linear_model import LogisticRegression\n",
    "from sklearn.metrics import roc_auc_score\n",
    "import matplotlib.pyplot as plt\n",
    "\n",
    "\n",
    "#using optimum_k to find generalistion ROC AUC accuracy\n",
    "optimum_c=0.01 #optimum 'C'\n",
    "\n",
    "clf=LogisticRegression(penalty='l1', C=optimum_c,class_weight='balanced')\n",
    "clf.fit(train_tf_idf_w2v,y_train[:60000])\n",
    "\n",
    "\n",
    "y_pred = []\n",
    "for i in range(0, test_tf_idf_w2v.shape[0], 1000):\n",
    "    y_pred.extend(clf.predict(test_tf_idf_w2v[i:i+1000]))\n",
    "    \n",
    "y_pred_proba = []\n",
    "for i in range(0,test_tf_idf_w2v.shape[0], 1000):\n",
    "    y_pred_proba.extend(clf.predict_proba(test_tf_idf_w2v[i:i+1000])[:,1])    \n",
    "\n",
    "\n",
    "accuracy=accuracy_score(y_test[:20000],y_pred)\n",
    "roc_auc=roc_auc_score(y_test[:20000],y_pred_proba)\n",
    "print(f'\\ngenearalisation roc_auc on best alpha-value at optimum_c = {optimum_c} is {roc_auc:.2f}')\n",
    "print(f'\\nmisclassification percentage is {(1-accuracy):.2f}%')\n",
    "\n",
    "\n",
    "#ploting confusion matrix\n",
    "sn.heatmap(confusion_matrix(y_pred,y_test[:20000]),annot=True, fmt=\"d\",linewidths=.5)\n",
    "plt.title('Confusion Matrix')\n",
    "plt.xlabel('Predicted values')\n",
    "plt.ylabel('Actual values')\n",
    "plt.show()\n",
    "print(\"\\n\\nclassification report:\\n\",classification_report(y_test[:20000],y_pred)) \n",
    "\n",
    "\n",
    "# ROC Curve (reference:stack overflow with little modification)   \n",
    "\n",
    "y_train_pred_proba = []\n",
    "for i in range(0, train_tf_idf_w2v.shape[0], 1000):\n",
    "    y_train_pred_proba.extend(clf.predict_proba(train_tf_idf_w2v[i:i+1000])[:,1])\n",
    "\n",
    "\n",
    "train_fpr, train_tpr, train_threshold =roc_curve(y_train[:60000], y_train_pred_proba)\n",
    "test_fpr, test_tpr, test_threshold =roc_curve(y_test[:20000], y_pred_proba)\n",
    "\n",
    "roc_auc_train = roc_auc_score(y_train[:60000],y_train_pred_proba)\n",
    "roc_auc_test = roc_auc_score(y_test[:20000],y_pred_proba)\n",
    "\n",
    "plt.figure(figsize=(7,7))\n",
    "plt.title('Receiver Operating Characteristic')\n",
    "plt.plot(train_fpr, train_tpr, 'b', label = 'train_AUC = %0.2f' % roc_auc_train)\n",
    "plt.plot(test_fpr, test_tpr, 'r', label = 'test_AUC = %0.2f' % roc_auc_test)\n",
    "plt.legend(loc = 'lower right')\n",
    "plt.plot([0, 1], [0, 1],'k--')\n",
    "plt.xlim([-0.02, 1])\n",
    "plt.ylim([0, 1])\n",
    "plt.ylabel('True Positive Rate')\n",
    "plt.xlabel('False Positive Rate')\n",
    "plt.grid(linestyle='--', linewidth=1)\n",
    "plt.show()\n",
    "\n"
   ]
  },
  {
   "cell_type": "markdown",
   "metadata": {
    "colab_type": "text",
    "id": "ynUK2tYDLPps"
   },
   "source": [
    "### [5.4.2] Applying Logistic Regression with L2 regularization on TFIDF W2V,<font color='red'> SET 4</font>"
   ]
  },
  {
   "cell_type": "code",
   "execution_count": 4,
   "metadata": {},
   "outputs": [
    {
     "data": {
      "image/png": "[encoded data removed]",
      "text/plain": [
       "<Figure size 432x288 with 1 Axes>"
      ]
     },
     "metadata": {
      "needs_background": "light"
     },
     "output_type": "display_data"
    }
   ],
   "source": [
    "from sklearn.linear_model import LogisticRegression\n",
    "from sklearn.metrics import roc_auc_score\n",
    "import matplotlib.pyplot as plt\n",
    "\n",
    "\"\"\"\n",
    "y_true : array, shape = [n_samples] or [n_samples, n_classes]\n",
    "True binary labels or binary label indicators.\n",
    "\n",
    "y_score : array, shape = [n_samples] or [n_samples, n_classes]\n",
    "Target scores, can either be probability estimates of the positive class, confidence values, or non-thresholded measure of\n",
    "decisions (as returned by “decision_function” on some classifiers). \n",
    "For binary y_true, y_score is supposed to be the score of the class with greater label.\n",
    "\n",
    "\"\"\"\n",
    "\n",
    "train_auc = []\n",
    "cv_auc = []\n",
    "c_range=[10e-5,10e-4,10e-3,10e-2,1,10,10e1,10e2,10e3]\n",
    "for i in c_range:\n",
    "    clf=LogisticRegression(penalty='l2', C=i,class_weight='balanced')\n",
    "    clf.fit(train_tf_idf_w2v, y_train[:60000])\n",
    "    # roc_auc_score(y_true, y_score) the 2nd parameter should be probability estimates of the positive class\n",
    "    # not the predicted outputs\n",
    "    \n",
    "    \n",
    "    #predicting on train and cv using blocks\n",
    "    y_train_pred = []\n",
    "    for i in range(0, train_tf_idf_w2v.shape[0], 1000):\n",
    "        y_train_pred.extend(clf.predict_proba(train_tf_idf_w2v[i:i+1000])[:,1]) \n",
    "\n",
    "    y_cv_pred = []\n",
    "    for i in range(0, cv_tf_idf_w2v.shape[0], 1000):\n",
    "        y_cv_pred.extend(clf.predict_proba(cv_tf_idf_w2v[i:i+1000])[:,1]) \n",
    "\n",
    "\n",
    "    train_auc.append(roc_auc_score(y_train[:60000],y_train_pred))\n",
    "    cv_auc.append(roc_auc_score(y_cv[:20000], y_cv_pred))\n",
    "\n",
    "    \n",
    "plt.plot(np.arange(1,10,1), train_auc, label='Train AUC')\n",
    "plt.plot(np.arange(1,10,1), cv_auc, label='CV AUC')\n",
    "plt.xticks( np.arange(1,10,1), (10e-5, 10e-4, 10e-3, 10e-2, 10e-1, 10e0, 10e1, 10e2, 10e3))\n",
    "plt.legend()\n",
    "plt.xlabel(\"alpha: hyperparameter\")\n",
    "plt.ylabel(\"AUC\")\n",
    "plt.title(\"ERROR PLOTS\")\n",
    "plt.grid()\n",
    "plt.show()\n"
   ]
  },
  {
   "cell_type": "code",
   "execution_count": 7,
   "metadata": {},
   "outputs": [
    {
     "name": "stdout",
     "output_type": "stream",
     "text": [
      "\n",
      "genearalisation roc_auc on best alpha-value at optimum_c = 0.01 is 0.89\n",
      "\n",
      "misclassification percentage is 0.19%\n"
     ]
    },
    {
     "data": {
      "image/png": "[encoded data removed]",
      "text/plain": [
       "<Figure size 432x288 with 2 Axes>"
      ]
     },
     "metadata": {
      "needs_background": "light"
     },
     "output_type": "display_data"
    },
    {
     "name": "stdout",
     "output_type": "stream",
     "text": [
      "\n",
      "\n",
      "classification report:\n",
      "              precision    recall  f1-score   support\n",
      "\n",
      "          0       0.43      0.82      0.57      3091\n",
      "          1       0.96      0.80      0.87     16909\n",
      "\n",
      "avg / total       0.88      0.81      0.83     20000\n",
      "\n"
     ]
    },
    {
     "data": {
      "image/png": "[encoded data removed]",
      "text/plain": [
       "<Figure size 504x504 with 1 Axes>"
      ]
     },
     "metadata": {
      "needs_background": "light"
     },
     "output_type": "display_data"
    }
   ],
   "source": [
    "# Test dataset\n",
    "\n",
    "from sklearn.linear_model import LogisticRegression\n",
    "from sklearn.metrics import roc_auc_score\n",
    "import matplotlib.pyplot as plt\n",
    "\n",
    "\n",
    "#using optimum_k to find generalistion ROC AUC accuracy\n",
    "optimum_c=0.01 #optimum 'C'\n",
    "\n",
    "clf=LogisticRegression(penalty='l2', C=optimum_c,class_weight='balanced')\n",
    "clf.fit(train_tf_idf_w2v,y_train[:60000])\n",
    "\n",
    "\n",
    "y_pred = []\n",
    "for i in range(0, test_tf_idf_w2v.shape[0], 1000):\n",
    "    y_pred.extend(clf.predict(test_tf_idf_w2v[i:i+1000]))\n",
    "    \n",
    "y_pred_proba = []\n",
    "for i in range(0,test_tf_idf_w2v.shape[0], 1000):\n",
    "    y_pred_proba.extend(clf.predict_proba(test_tf_idf_w2v[i:i+1000])[:,1])    \n",
    "\n",
    "\n",
    "accuracy=accuracy_score(y_test[:20000],y_pred)\n",
    "roc_auc=roc_auc_score(y_test[:20000],y_pred_proba)\n",
    "print(f'\\ngenearalisation roc_auc on best alpha-value at optimum_c = {optimum_c} is {roc_auc:.2f}')\n",
    "print(f'\\nmisclassification percentage is {(1-accuracy):.2f}%')\n",
    "\n",
    "\n",
    "#ploting confusion matrix\n",
    "sn.heatmap(confusion_matrix(y_pred,y_test[:20000]),annot=True, fmt=\"d\",linewidths=.5)\n",
    "plt.title('Confusion Matrix')\n",
    "plt.xlabel('Predicted values')\n",
    "plt.ylabel('Actual values')\n",
    "plt.show()\n",
    "print(\"\\n\\nclassification report:\\n\",classification_report(y_test[:20000],y_pred)) \n",
    "\n",
    "\n",
    "# ROC Curve (reference:stack overflow with little modification)   \n",
    "\n",
    "y_train_pred_proba = []\n",
    "for i in range(0, train_tf_idf_w2v.shape[0], 1000):\n",
    "    y_train_pred_proba.extend(clf.predict_proba(train_tf_idf_w2v[i:i+1000])[:,1])\n",
    "\n",
    "\n",
    "train_fpr, train_tpr, train_threshold =roc_curve(y_train[:60000], y_train_pred_proba)\n",
    "test_fpr, test_tpr, test_threshold =roc_curve(y_test[:20000], y_pred_proba)\n",
    "\n",
    "roc_auc_train = roc_auc_score(y_train[:60000],y_train_pred_proba)\n",
    "roc_auc_test = roc_auc_score(y_test[:20000],y_pred_proba)\n",
    "\n",
    "plt.figure(figsize=(7,7))\n",
    "plt.title('Receiver Operating Characteristic')\n",
    "plt.plot(train_fpr, train_tpr, 'b', label = 'train_AUC = %0.2f' % roc_auc_train)\n",
    "plt.plot(test_fpr, test_tpr, 'r', label = 'test_AUC = %0.2f' % roc_auc_test)\n",
    "plt.legend(loc = 'lower right')\n",
    "plt.plot([0, 1], [0, 1],'k--')\n",
    "plt.xlim([-0.02, 1])\n",
    "plt.ylim([0, 1])\n",
    "plt.ylabel('True Positive Rate')\n",
    "plt.xlabel('False Positive Rate')\n",
    "plt.grid(linestyle='--', linewidth=1)\n",
    "plt.show()\n",
    "\n"
   ]
  },
  {
   "cell_type": "markdown",
   "metadata": {
    "colab_type": "text",
    "id": "nOvsBNf2LPpv"
   },
   "source": [
    "# [6] Conclusions"
   ]
  },
  {
   "cell_type": "code",
   "execution_count": 23,
   "metadata": {
    "colab": {},
    "colab_type": "code",
    "id": "T7VxD0q2LPpw"
   },
   "outputs": [
    {
     "name": "stdout",
     "output_type": "stream",
     "text": [
      "+--------------------+--------------------------+-------------------------------+-------------+\n",
      "| text featurization | optimum_hyperparameter:C | generalization ROC AUC(%age)  | regularizer |\n",
      "+--------------------+--------------------------+-------------------------------+-------------+\n",
      "|        BOW         |           0.1            |               95              |      l1     |\n",
      "|        BOW         |           0.1            |               95              |      l2     |\n",
      "|       TF-IDF       |           0.01           |               95              |      l1     |\n",
      "|       TF-IDF       |          1e-05           |               94              |      l2     |\n",
      "|         W2V        |           0.01           |               92              |      l1     |\n",
      "|         W2V        |           0.01           |               92              |      l2     |\n",
      "|     TF-IDF W2V     |           0.01           |               89              |      l1     |\n",
      "|     TF-IDF W2V     |           0.01           |               89              |      l2     |\n",
      "+--------------------+--------------------------+-------------------------------+-------------+\n"
     ]
    }
   ],
   "source": [
    "# Please compare all your models using Prettytable library\n",
    "\n",
    "from prettytable import PrettyTable\n",
    "    \n",
    "x = PrettyTable()\n",
    "\n",
    "x.field_names = [\"text featurization\", \"optimum_hyperparameter:C\", \"generalization ROC AUC(%age) \", \"regularizer\",]\n",
    "\n",
    "x.add_row([\"BOW\", 0.1,95, \"l1\"])\n",
    "x.add_row([\"BOW\", 0.1,95, \"l2\"])\n",
    "\n",
    "x.add_row([\"TF-IDF\", 0.01,95, \"l1\"])\n",
    "x.add_row([\"TF-IDF\", 0.00001,94, \"l2\"])\n",
    "\n",
    "x.add_row([\"  W2V\", 0.01,92, \"l1\"])\n",
    "x.add_row([\"  W2V\", 0.01,92, \"l2\"])\n",
    "\n",
    "x.add_row([\" TF-IDF W2V\", 0.01,89, \"l1\"])\n",
    "x.add_row([\" TF-IDF W2V\", 0.01,89, \"l2\"])\n",
    "\n",
    "\n",
    "print(x)"
   ]
  },
  {
   "cell_type": "markdown",
   "metadata": {},
   "source": [
    "#### Observation\n",
    "When using 'l1' regurarizer it increases sparsity with increase of hyperparameter value 'C'\n",
    "\n",
    "Before using Feature Importance we need to make sure if feature is not multicollinear. To check multicollinearity we are using perturbation test.\n",
    "\n",
    "Feature Importance of Logistic regression is slightly better than naive bayes\n",
    "\n",
    "Best generaliation ROC AUC is 95% on BOW using L1 regularizer"
   ]
  },
  {
   "cell_type": "code",
   "execution_count": null,
   "metadata": {},
   "outputs": [],
   "source": []
  }
 ],
 "metadata": {
  "colab": {
   "name": "05 Amazon Fine Food Reviews Analysis_Logistic Regression.ipynb",
   "provenance": [],
   "version": "0.3.2"
  },
  "kernelspec": {
   "display_name": "Python 3",
   "language": "python",
   "name": "python3"
  },
  "language_info": {
   "codemirror_mode": {
    "name": "ipython",
    "version": 3
   },
   "file_extension": ".py",
   "mimetype": "text/x-python",
   "name": "python",
   "nbconvert_exporter": "python",
   "pygments_lexer": "ipython3",
   "version": "3.7.3"
  }
 },
 "nbformat": 4,
 "nbformat_minor": 1
}
