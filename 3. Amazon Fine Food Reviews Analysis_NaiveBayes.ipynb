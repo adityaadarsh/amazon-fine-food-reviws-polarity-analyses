{
 "cells": [
  {
   "cell_type": "markdown",
   "metadata": {},
   "source": [
    "# [1]. Reading Data"
   ]
  },
  {
   "cell_type": "markdown",
   "metadata": {},
   "source": [
    "# Amazon Fine Food Reviews Analysis\n",
    "\n",
    "\n",
    "Data Source: https://www.kaggle.com/snap/amazon-fine-food-reviews <br>\n",
    "\n",
    "EDA: https://nycdatascience.com/blog/student-works/amazon-fine-foods-visualization/\n",
    "\n",
    "\n",
    "The Amazon Fine Food Reviews dataset consists of reviews of fine foods from Amazon.<br>\n",
    "\n",
    "Number of reviews: 568,454<br>\n",
    "Number of users: 256,059<br>\n",
    "Number of products: 74,258<br>\n",
    "Timespan: Oct 1999 - Oct 2012<br>\n",
    "Number of Attributes/Columns in data: 10 \n",
    "\n",
    "Attribute Information:\n",
    "\n",
    "1. Id\n",
    "2. ProductId - unique identifier for the product\n",
    "3. UserId - unqiue identifier for the user\n",
    "4. ProfileName\n",
    "5. HelpfulnessNumerator - number of users who found the review helpful\n",
    "6. HelpfulnessDenominator - number of users who indicated whether they found the review helpful or not\n",
    "7. Score - rating between 1 and 5\n",
    "8. Time - timestamp for the review\n",
    "9. Summary - brief summary of the review\n",
    "10. Text - text of the review\n",
    "\n",
    "\n",
    "#### Objective:\n",
    "Given a review, determine whether the review is positive (rating of 4 or 5) or negative (rating of 1 or 2).\n",
    "\n",
    "<br>\n",
    "[Q] How to determine if a review is positive or negative?<br>\n",
    "<br> \n",
    "[Ans] We could use Score/Rating. A rating of 4 or 5 can be cosnidered as a positive review. A rating of 1 or 2 can be considered as negative one. A review of rating 3 is considered nuetral and such reviews are ignored from our analysis. This is an approximate and proxy way of determining the polarity (positivity/negativity) of a review.\n",
    "\n",
    "\n"
   ]
  },
  {
   "cell_type": "markdown",
   "metadata": {},
   "source": [
    "## [1.1] Loading the data\n",
    "\n",
    "The dataset is available in two forms\n",
    "1. .csv file\n",
    "2. SQLite Database\n",
    "\n",
    "In order to load the data, We have used the CSV dataset <br> \n",
    "\n",
    "Here as we only want to get the global sentiment of the recommendations (positive or negative), we will purposefully ignore all Scores equal to 3. If the score is above 3, then the recommendation wil be set to \"positive\". Otherwise, it will be set to \"negative\"."
   ]
  },
  {
   "cell_type": "code",
   "execution_count": 1,
   "metadata": {},
   "outputs": [
    {
     "name": "stderr",
     "output_type": "stream",
     "text": [
      "C:\\Users\\Adarsh\\Anaconda3\\lib\\site-packages\\gensim\\utils.py:1212: UserWarning: detected Windows; aliasing chunkize to chunkize_serial\n",
      "  warnings.warn(\"detected Windows; aliasing chunkize to chunkize_serial\")\n"
     ]
    }
   ],
   "source": [
    "%matplotlib inline\n",
    "import warnings\n",
    "warnings.filterwarnings(\"ignore\")\n",
    "\n",
    "\n",
    "import sqlite3\n",
    "import pandas as pd\n",
    "import numpy as np\n",
    "import nltk\n",
    "import string\n",
    "import matplotlib.pyplot as plt\n",
    "import seaborn as sns\n",
    "from sklearn.feature_extraction.text import TfidfTransformer\n",
    "from sklearn.feature_extraction.text import TfidfVectorizer\n",
    "\n",
    "from sklearn.metrics import accuracy_score\n",
    "import seaborn as sn\n",
    "from sklearn.metrics import classification_report\n",
    "\n",
    "from sklearn.feature_extraction.text import CountVectorizer\n",
    "from sklearn.metrics import confusion_matrix\n",
    "from sklearn import metrics\n",
    "from sklearn.metrics import roc_curve, auc\n",
    "from nltk.stem.porter import PorterStemmer\n",
    "\n",
    "from sklearn.neighbors import KNeighborsClassifier\n",
    "from sklearn.metrics import roc_auc_score\n",
    "import matplotlib.pyplot as plt\n",
    "from sklearn.model_selection import validation_curve\n",
    "\n",
    "import re\n",
    "# Tutorial about Python regular expressions: https://pymotw.com/2/re/\n",
    "import string\n",
    "from nltk.corpus import stopwords\n",
    "from nltk.stem import PorterStemmer\n",
    "from nltk.stem.wordnet import WordNetLemmatizer\n",
    "\n",
    "from gensim.models import Word2Vec\n",
    "from gensim.models import KeyedVectors\n",
    "import pickle\n",
    "\n",
    "from tqdm import tqdm\n",
    "import os"
   ]
  },
  {
   "cell_type": "code",
   "execution_count": 2,
   "metadata": {},
   "outputs": [],
   "source": [
    "#loading train and test and validation dataset\n",
    "\n",
    "file=open(\"x_train.pkl\",\"rb\")\n",
    "x_train=pickle.load(file) # loading 'train' dataset\n",
    "\n",
    "file=open(\"x_cv.pkl\",'rb')\n",
    "x_cv=pickle.load(file) # loading 'validation' dataset\n",
    "\n",
    "file=open(\"x_test.pkl\",'rb')\n",
    "x_test=pickle.load(file) # loading 'test' dataset\n",
    "\n",
    "file=open(\"y_train.pkl\",\"rb\")\n",
    "y_train=pickle.load(file) # loading 'train' dataset\n",
    "\n",
    "file=open(\"y_cv.pkl\",'rb')\n",
    "y_cv=pickle.load(file) # loading 'validation' dataset\n",
    "\n",
    "file=open(\"y_test.pkl\",'rb')\n",
    "y_test=pickle.load(file) # loading 'test' dataset\n",
    "\n",
    "#loading train_bow and test _bow\n",
    "file=open('x_train_bow.pkl','rb')\n",
    "x_train_bow=pickle.load(file)\n",
    "\n",
    "file=open('x_test_bow.pkl','rb')\n",
    "x_test_bow=pickle.load(file)\n",
    "\n",
    "file=open('x_cv_bow.pkl','rb')\n",
    "x_cv_bow=pickle.load(file)\n",
    "\n",
    "#loading train_tf_idf and test_tf_idf\n",
    "file=open('train_tf_idf.pkl','rb')\n",
    "train_tf_idf=pickle.load(file)\n",
    "\n",
    "file=open('cv_tf_idf.pkl','rb')\n",
    "cv_tf_idf=pickle.load(file)\n",
    "\n",
    "file=open('test_tf_idf.pkl','rb')\n",
    "test_tf_idf=pickle.load(file)\n",
    "\n",
    "#loading train_w2v and test_w2v\n",
    "file=open('train_w2v.pkl','rb')\n",
    "train_w2v=pickle.load(file)\n",
    "\n",
    "file=open('cv_w2v.pkl','rb')\n",
    "cv_w2v=pickle.load(file)\n",
    "\n",
    "file=open('test_w2v.pkl','rb')\n",
    "test_w2v=pickle.load(file)\n",
    "\n",
    "#loading train_tf_idf_w2v and test_tf_idf_w2v\n",
    "file=open('train_tf_idf_w2v.pkl','rb')\n",
    "train_tf_idf_w2v=pickle.load(file)\n",
    "\n",
    "file=open('cv_tf_idf_w2v.pkl','rb')\n",
    "cv_tf_idf_w2v=pickle.load(file)\n",
    "\n",
    "file=open('test_tf_idf_w2v.pkl','rb')\n",
    "test_tf_idf_w2v=pickle.load(file)"
   ]
  },
  {
   "cell_type": "code",
   "execution_count": 7,
   "metadata": {},
   "outputs": [
    {
     "name": "stdout",
     "output_type": "stream",
     "text": [
      "(568454, 10)\n"
     ]
    },
    {
     "data": {
      "text/html": [
       "<div>\n",
       "<style scoped>\n",
       "    .dataframe tbody tr th:only-of-type {\n",
       "        vertical-align: middle;\n",
       "    }\n",
       "\n",
       "    .dataframe tbody tr th {\n",
       "        vertical-align: top;\n",
       "    }\n",
       "\n",
       "    .dataframe thead th {\n",
       "        text-align: right;\n",
       "    }\n",
       "</style>\n",
       "<table border=\"1\" class=\"dataframe\">\n",
       "  <thead>\n",
       "    <tr style=\"text-align: right;\">\n",
       "      <th></th>\n",
       "      <th>Id</th>\n",
       "      <th>ProductId</th>\n",
       "      <th>UserId</th>\n",
       "      <th>ProfileName</th>\n",
       "      <th>HelpfulnessNumerator</th>\n",
       "      <th>HelpfulnessDenominator</th>\n",
       "      <th>Score</th>\n",
       "      <th>Time</th>\n",
       "      <th>Summary</th>\n",
       "      <th>Text</th>\n",
       "    </tr>\n",
       "  </thead>\n",
       "  <tbody>\n",
       "    <tr>\n",
       "      <th>0</th>\n",
       "      <td>1</td>\n",
       "      <td>B001E4KFG0</td>\n",
       "      <td>A3SGXH7AUHU8GW</td>\n",
       "      <td>delmartian</td>\n",
       "      <td>1</td>\n",
       "      <td>1</td>\n",
       "      <td>5</td>\n",
       "      <td>1303862400</td>\n",
       "      <td>Good Quality Dog Food</td>\n",
       "      <td>I have bought several of the Vitality canned d...</td>\n",
       "    </tr>\n",
       "    <tr>\n",
       "      <th>1</th>\n",
       "      <td>2</td>\n",
       "      <td>B00813GRG4</td>\n",
       "      <td>A1D87F6ZCVE5NK</td>\n",
       "      <td>dll pa</td>\n",
       "      <td>0</td>\n",
       "      <td>0</td>\n",
       "      <td>1</td>\n",
       "      <td>1346976000</td>\n",
       "      <td>Not as Advertised</td>\n",
       "      <td>Product arrived labeled as Jumbo Salted Peanut...</td>\n",
       "    </tr>\n",
       "    <tr>\n",
       "      <th>2</th>\n",
       "      <td>3</td>\n",
       "      <td>B000LQOCH0</td>\n",
       "      <td>ABXLMWJIXXAIN</td>\n",
       "      <td>Natalia Corres \"Natalia Corres\"</td>\n",
       "      <td>1</td>\n",
       "      <td>1</td>\n",
       "      <td>4</td>\n",
       "      <td>1219017600</td>\n",
       "      <td>\"Delight\" says it all</td>\n",
       "      <td>This is a confection that has been around a fe...</td>\n",
       "    </tr>\n",
       "  </tbody>\n",
       "</table>\n",
       "</div>"
      ],
      "text/plain": [
       "   Id   ProductId          UserId                      ProfileName  \\\n",
       "0   1  B001E4KFG0  A3SGXH7AUHU8GW                       delmartian   \n",
       "1   2  B00813GRG4  A1D87F6ZCVE5NK                           dll pa   \n",
       "2   3  B000LQOCH0   ABXLMWJIXXAIN  Natalia Corres \"Natalia Corres\"   \n",
       "\n",
       "   HelpfulnessNumerator  HelpfulnessDenominator  Score        Time  \\\n",
       "0                     1                       1      5  1303862400   \n",
       "1                     0                       0      1  1346976000   \n",
       "2                     1                       1      4  1219017600   \n",
       "\n",
       "                 Summary                                               Text  \n",
       "0  Good Quality Dog Food  I have bought several of the Vitality canned d...  \n",
       "1      Not as Advertised  Product arrived labeled as Jumbo Salted Peanut...  \n",
       "2  \"Delight\" says it all  This is a confection that has been around a fe...  "
      ]
     },
     "execution_count": 7,
     "metadata": {},
     "output_type": "execute_result"
    }
   ],
   "source": [
    "# using csv Table to read data.\n",
    "\n",
    "dataset=pd.read_csv(\"Reviews.csv\") \n",
    "\n",
    "print(dataset.shape)\n",
    "dataset.head(3)\n",
    "\n"
   ]
  },
  {
   "cell_type": "code",
   "execution_count": 8,
   "metadata": {},
   "outputs": [
    {
     "name": "stdout",
     "output_type": "stream",
     "text": [
      "Number of data points in our data (525814, 10)\n"
     ]
    },
    {
     "data": {
      "text/html": [
       "<div>\n",
       "<style scoped>\n",
       "    .dataframe tbody tr th:only-of-type {\n",
       "        vertical-align: middle;\n",
       "    }\n",
       "\n",
       "    .dataframe tbody tr th {\n",
       "        vertical-align: top;\n",
       "    }\n",
       "\n",
       "    .dataframe thead th {\n",
       "        text-align: right;\n",
       "    }\n",
       "</style>\n",
       "<table border=\"1\" class=\"dataframe\">\n",
       "  <thead>\n",
       "    <tr style=\"text-align: right;\">\n",
       "      <th></th>\n",
       "      <th>Id</th>\n",
       "      <th>ProductId</th>\n",
       "      <th>UserId</th>\n",
       "      <th>ProfileName</th>\n",
       "      <th>HelpfulnessNumerator</th>\n",
       "      <th>HelpfulnessDenominator</th>\n",
       "      <th>Score</th>\n",
       "      <th>Time</th>\n",
       "      <th>Summary</th>\n",
       "      <th>Text</th>\n",
       "    </tr>\n",
       "  </thead>\n",
       "  <tbody>\n",
       "    <tr>\n",
       "      <th>0</th>\n",
       "      <td>1</td>\n",
       "      <td>B001E4KFG0</td>\n",
       "      <td>A3SGXH7AUHU8GW</td>\n",
       "      <td>delmartian</td>\n",
       "      <td>1</td>\n",
       "      <td>1</td>\n",
       "      <td>1</td>\n",
       "      <td>1303862400</td>\n",
       "      <td>Good Quality Dog Food</td>\n",
       "      <td>I have bought several of the Vitality canned d...</td>\n",
       "    </tr>\n",
       "    <tr>\n",
       "      <th>1</th>\n",
       "      <td>2</td>\n",
       "      <td>B00813GRG4</td>\n",
       "      <td>A1D87F6ZCVE5NK</td>\n",
       "      <td>dll pa</td>\n",
       "      <td>0</td>\n",
       "      <td>0</td>\n",
       "      <td>0</td>\n",
       "      <td>1346976000</td>\n",
       "      <td>Not as Advertised</td>\n",
       "      <td>Product arrived labeled as Jumbo Salted Peanut...</td>\n",
       "    </tr>\n",
       "    <tr>\n",
       "      <th>2</th>\n",
       "      <td>3</td>\n",
       "      <td>B000LQOCH0</td>\n",
       "      <td>ABXLMWJIXXAIN</td>\n",
       "      <td>Natalia Corres \"Natalia Corres\"</td>\n",
       "      <td>1</td>\n",
       "      <td>1</td>\n",
       "      <td>1</td>\n",
       "      <td>1219017600</td>\n",
       "      <td>\"Delight\" says it all</td>\n",
       "      <td>This is a confection that has been around a fe...</td>\n",
       "    </tr>\n",
       "  </tbody>\n",
       "</table>\n",
       "</div>"
      ],
      "text/plain": [
       "   Id   ProductId          UserId                      ProfileName  \\\n",
       "0   1  B001E4KFG0  A3SGXH7AUHU8GW                       delmartian   \n",
       "1   2  B00813GRG4  A1D87F6ZCVE5NK                           dll pa   \n",
       "2   3  B000LQOCH0   ABXLMWJIXXAIN  Natalia Corres \"Natalia Corres\"   \n",
       "\n",
       "   HelpfulnessNumerator  HelpfulnessDenominator  Score        Time  \\\n",
       "0                     1                       1      1  1303862400   \n",
       "1                     0                       0      0  1346976000   \n",
       "2                     1                       1      1  1219017600   \n",
       "\n",
       "                 Summary                                               Text  \n",
       "0  Good Quality Dog Food  I have bought several of the Vitality canned d...  \n",
       "1      Not as Advertised  Product arrived labeled as Jumbo Salted Peanut...  \n",
       "2  \"Delight\" says it all  This is a confection that has been around a fe...  "
      ]
     },
     "execution_count": 8,
     "metadata": {},
     "output_type": "execute_result"
    }
   ],
   "source": [
    "# filtering only positive and negative reviews i.e. \n",
    "# not taking into consideration those reviews with Score=3\n",
    "# SELECT * FROM Reviews WHERE Score != 3 LIMIT 500000, will give top 500000 data points\n",
    "# you can change the number to any other number based on your computing power\n",
    "\n",
    "# filtered_data = pd.read_sql_query(\"\"\" SELECT * FROM Reviews WHERE Score != 3 LIMIT 500000\"\"\", con) \n",
    "\n",
    "# taking reviews whose score is not equal to 3\n",
    "filtered_dataset=dataset[dataset['Score']!=3]\n",
    "filtered_dataset.shape\n",
    "\n",
    "#creating a function to filter the reviews (if score>3 --> positive , if score<3 --> negative)\n",
    "def partition(x):\n",
    "    if x>3:\n",
    "        return 1\n",
    "    return 0\n",
    "\n",
    "#changing reviews with score less than 3 to be positive and vice-versa\n",
    "actualScore = filtered_dataset['Score']\n",
    "positiveNegative = actualScore.map(partition) \n",
    "filtered_dataset['Score'] = positiveNegative\n",
    "print(\"Number of data points in our data\", filtered_dataset.shape)\n",
    "filtered_dataset.head(3)"
   ]
  },
  {
   "cell_type": "markdown",
   "metadata": {},
   "source": [
    "#  [2] Exploratory Data Analysis"
   ]
  },
  {
   "cell_type": "markdown",
   "metadata": {},
   "source": [
    "## [2.1] Data Cleaning: Deduplication\n",
    "\n",
    "It is observed (as shown in the table below) that the reviews data had many duplicate entries. Hence it was necessary to remove duplicates in order to get unbiased results for the analysis of the data.  Following is an example:"
   ]
  },
  {
   "cell_type": "markdown",
   "metadata": {},
   "source": [
    "#### observation:\n",
    "As it can be seen above that same user has multiple reviews with same values for HelpfulnessNumerator, HelpfulnessDenominator, Score, Time, Summary and Text and on doing analysis it was found that <br>\n",
    "<br> \n",
    "ProductId=B000HDOPZG was Loacker Quadratini Vanilla Wafer Cookies, 8.82-Ounce Packages (Pack of 8)<br>\n",
    "<br> \n",
    "ProductId=B000HDL1RQ was Loacker Quadratini Lemon Wafer Cookies, 8.82-Ounce Packages (Pack of 8) and so on<br>\n",
    "\n",
    "It was inferred after analysis that reviews with same parameters other than ProductId belonged to the same product just having different flavour or quantity. Hence in order to reduce redundancy it was decided to eliminate the rows having same parameters.<br>\n",
    "\n",
    "The method used for the same was that we first sort the data according to ProductId and then just keep the first similar product review and delelte the others. for eg. in the above just the review for ProductId=B000HDL1RQ remains. This method ensures that there is only one representative for each product and deduplication without sorting would lead to possibility of different representatives still existing for the same product."
   ]
  },
  {
   "cell_type": "code",
   "execution_count": 9,
   "metadata": {
    "scrolled": false
   },
   "outputs": [
    {
     "name": "stdout",
     "output_type": "stream",
     "text": [
      "before (568454, 10)\n",
      "after removing duplicate values-->shape = (363255, 10)\n",
      "percentage of data reamin after removing duplicate values and removing reviews with neutral scores  63.90\n"
     ]
    }
   ],
   "source": [
    "# sorting the value\n",
    "sorted_data=filtered_dataset.sort_values(by='Id',inplace=True )\n",
    "#finding the dublicate values using 'df.dublicated'\n",
    "filtered_dataset[filtered_dataset.duplicated(subset={'ProfileName','HelpfulnessNumerator','HelpfulnessDenominator','Score','Time'})].shape\n",
    "#alternate way to drop dublicate values\n",
    "dataset_no_dup=filtered_dataset.drop_duplicates(subset={'ProfileName','Score','Time','Summary'},keep='first')\n",
    "print(f\"before {dataset.shape}\")\n",
    "print(f\"after removing duplicate values-->shape = {dataset_no_dup.shape}\")\n",
    "# %age of no. of review reamin in data set\n",
    "print('percentage of data reamin after removing duplicate values and removing reviews with neutral scores % .2f'\n",
    "      %((dataset_no_dup.size/dataset.size)*100))\n",
    "\n"
   ]
  },
  {
   "cell_type": "markdown",
   "metadata": {},
   "source": [
    "<b>Observation:-</b> It was also seen that in two rows given below the value of HelpfulnessNumerator is greater than HelpfulnessDenominator which is not practically possible hence these two rows too are removed from calcualtions"
   ]
  },
  {
   "cell_type": "code",
   "execution_count": 10,
   "metadata": {},
   "outputs": [],
   "source": [
    "# removing reviews where \"HelpfulnessNumerator>HelpfulnessDenominator\"\n",
    "final=dataset_no_dup[dataset_no_dup['HelpfulnessNumerator']<=dataset_no_dup['HelpfulnessDenominator']]\n"
   ]
  },
  {
   "cell_type": "code",
   "execution_count": 11,
   "metadata": {},
   "outputs": [
    {
     "name": "stdout",
     "output_type": "stream",
     "text": [
      "(363253, 10)\n"
     ]
    },
    {
     "data": {
      "text/plain": [
       "1    306222\n",
       "0     57031\n",
       "Name: Score, dtype: int64"
      ]
     },
     "execution_count": 11,
     "metadata": {},
     "output_type": "execute_result"
    }
   ],
   "source": [
    "#Before starting the next phase of preprocessing lets see the number of entries left\n",
    "print(final.shape)\n",
    "\n",
    "#How many positive and negative reviews are present in our dataset?\n",
    "final['Score'].value_counts()"
   ]
  },
  {
   "cell_type": "markdown",
   "metadata": {},
   "source": [
    "#  [3] Preprocessing"
   ]
  },
  {
   "cell_type": "markdown",
   "metadata": {},
   "source": [
    "## [3.1].  Preprocessing Review Text\n",
    "\n",
    "Now that we have finished deduplication our data requires some preprocessing before we go on further with analysis and making the prediction model.\n",
    "\n",
    "Hence in the Preprocessing phase we do the following in the order below:-\n",
    "\n",
    "1. Begin by removing the html tags\n",
    "2. Remove any punctuations or limited set of special characters like , or . or # etc.\n",
    "3. Check if the word is made up of english letters and is not alpha-numeric\n",
    "4. Check to see if the length of the word is greater than 2 (as it was researched that there is no adjective in 2-letters)\n",
    "5. Convert the word to lowercase\n",
    "6. Remove Stopwords\n",
    "7. Finally Snowball Stemming the word (it was obsereved to be better than Porter Stemming)<br>\n",
    "\n",
    "After which we collect the words used to describe positive and negative reviews"
   ]
  },
  {
   "cell_type": "code",
   "execution_count": 8,
   "metadata": {},
   "outputs": [],
   "source": [
    "# https://stackoverflow.com/questions/16206380/python-beautifulsoup-how-to-remove-all-tags-from-an-element\n",
    "from bs4 import BeautifulSoup\n",
    "\n",
    "# https://stackoverflow.com/a/47091490/4084039\n",
    "import re\n",
    "\n",
    "def decontracted(phrase):\n",
    "    # specific\n",
    "    phrase = re.sub(r\"won't\", \"will not\", phrase)\n",
    "    phrase = re.sub(r\"can\\'t\", \"can not\", phrase)\n",
    "\n",
    "    # general\n",
    "    phrase = re.sub(r\"n\\'t\", \" not\", phrase)\n",
    "    phrase = re.sub(r\"\\'re\", \" are\", phrase)\n",
    "    phrase = re.sub(r\"\\'s\", \" is\", phrase)\n",
    "    phrase = re.sub(r\"\\'d\", \" would\", phrase)\n",
    "    phrase = re.sub(r\"\\'ll\", \" will\", phrase)\n",
    "    phrase = re.sub(r\"\\'t\", \" not\", phrase)\n",
    "    phrase = re.sub(r\"\\'ve\", \" have\", phrase)\n",
    "    phrase = re.sub(r\"\\'m\", \" am\", phrase)\n",
    "    return phrase\n",
    "\n",
    "\n",
    "# https://gist.github.com/sebleier/554280\n",
    "# we are removing the words from the stop words list: 'no', 'nor', 'not'\n",
    "# <br /><br /> ==> after the above steps, we are getting \"br br\"\n",
    "# we are including them into stop words list\n",
    "# instead of <br /> if we have <br/> these tags would have revmoved in the 1st step\n",
    "\n",
    "stopwords= set(['br', 'the', 'i', 'me', 'my', 'myself', 'we', 'our', 'ours', 'ourselves', 'you', \"you're\", \"you've\",\\\n",
    "            \"you'll\", \"you'd\", 'your', 'yours', 'yourself', 'yourselves', 'he', 'him', 'his', 'himself', \\\n",
    "            'she', \"she's\", 'her', 'hers', 'herself', 'it', \"it's\", 'its', 'itself', 'they', 'them', 'their',\\\n",
    "            'theirs', 'themselves', 'what', 'which', 'who', 'whom', 'this', 'that', \"that'll\", 'these', 'those', \\\n",
    "            'am', 'is', 'are', 'was', 'were', 'be', 'been', 'being', 'have', 'has', 'had', 'having', 'do', 'does', \\\n",
    "            'did', 'doing', 'a', 'an', 'the', 'and', 'but', 'if', 'or', 'because', 'as', 'until', 'while', 'of', \\\n",
    "            'at', 'by', 'for', 'with', 'about', 'against', 'between', 'into', 'through', 'during', 'before', 'after',\\\n",
    "            'above', 'below', 'to', 'from', 'up', 'down', 'in', 'out', 'on', 'off', 'over', 'under', 'again', 'further',\\\n",
    "            'then', 'once', 'here', 'there', 'when', 'where', 'why', 'how', 'all', 'any', 'both', 'each', 'few', 'more',\\\n",
    "            'most', 'other', 'some', 'such', 'only', 'own', 'same', 'so', 'than', 'too', 'very', \\\n",
    "            's', 't', 'can', 'will', 'just', 'don', \"don't\", 'should', \"should've\", 'now', 'd', 'll', 'm', 'o', 're', \\\n",
    "            've', 'y', 'ain', 'aren', \"aren't\", 'couldn', \"couldn't\", 'didn', \"didn't\", 'doesn', \"doesn't\", 'hadn',\\\n",
    "            \"hadn't\", 'hasn', \"hasn't\", 'haven', \"haven't\", 'isn', \"isn't\", 'ma', 'mightn', \"mightn't\", 'mustn',\\\n",
    "            \"mustn't\", 'needn', \"needn't\", 'shan', \"shan't\", 'shouldn', \"shouldn't\", 'wasn', \"wasn't\", 'weren', \"weren't\", \\\n",
    "            'won', \"won't\", 'wouldn', \"wouldn't\"])"
   ]
  },
  {
   "cell_type": "code",
   "execution_count": 9,
   "metadata": {},
   "outputs": [
    {
     "name": "stderr",
     "output_type": "stream",
     "text": [
      "100%|████████████████████████████████████████████████████████████████████████| 363253/363253 [02:56<00:00, 2063.41it/s]\n"
     ]
    }
   ],
   "source": [
    "# Combining all the above stundents \n",
    "from tqdm import tqdm\n",
    "preprocessed_reviews = []\n",
    "# tqdm is for printing the status bar\n",
    "for sentance in tqdm(final['Text'].values):\n",
    "    sentance = re.sub(r\"http\\S+\", \"\", sentance)\n",
    "    sentance = BeautifulSoup(sentance, 'lxml').get_text()\n",
    "    sentance = decontracted(sentance)\n",
    "    sentance = re.sub(\"\\S*\\d\\S*\", \"\", sentance).strip()\n",
    "    sentance = re.sub('[^A-Za-z]+', ' ', sentance)\n",
    "    # https://gist.github.com/sebleier/554280\n",
    "    sentance = ' '.join(e.lower() for e in sentance.split() if e.lower() not in stopwords)\n",
    "    preprocessed_reviews.append(sentance.strip())"
   ]
  },
  {
   "cell_type": "code",
   "execution_count": 10,
   "metadata": {},
   "outputs": [
    {
     "data": {
      "text/plain": [
       "['bought several vitality canned dog food products found good quality product looks like stew processed meat smells better labrador finicky appreciates product better',\n",
       " 'product arrived labeled jumbo salted peanuts peanuts actually small sized unsalted not sure error vendor intended represent product jumbo',\n",
       " 'confection around centuries light pillowy citrus gelatin nuts case filberts cut tiny squares liberally coated powdered sugar tiny mouthful heaven not chewy flavorful highly recommend yummy treat familiar story c lewis lion witch wardrobe treat seduces edmund selling brother sisters witch',\n",
       " 'looking secret ingredient robitussin believe found got addition root beer extract ordered good made cherry soda flavor medicinal',\n",
       " 'great taffy great price wide assortment yummy taffy delivery quick taffy lover deal']"
      ]
     },
     "execution_count": 10,
     "metadata": {},
     "output_type": "execute_result"
    }
   ],
   "source": [
    "preprocessed_reviews[:5]"
   ]
  },
  {
   "cell_type": "code",
   "execution_count": 11,
   "metadata": {},
   "outputs": [],
   "source": [
    "final['preprocessed_reviews']=preprocessed_reviews"
   ]
  },
  {
   "cell_type": "code",
   "execution_count": 12,
   "metadata": {},
   "outputs": [],
   "source": [
    "# splitting the dataset in train , cv and test \n",
    "\n",
    "n=final.shape[0] #size of final dataset\n",
    "\n",
    "train=final.iloc[:round(0.60*n),:]\n",
    "cv=final.iloc[round(0.60*n):round(0.80*n),:]\n",
    "test=final.iloc[round(0.80*n):round(1.0*n),:]"
   ]
  },
  {
   "cell_type": "code",
   "execution_count": 13,
   "metadata": {},
   "outputs": [],
   "source": [
    "from sklearn.model_selection import train_test_split\n",
    "x_training,x_test,y_training,y_test=train_test_split(preprocessed_reviews,final[\"Score\"] ,test_size=0.20, random_state=42)\n",
    "x_train,x_cv,y_train,y_cv=train_test_split(x_training,y_training, test_size=0.25, random_state=42)"
   ]
  },
  {
   "cell_type": "code",
   "execution_count": 48,
   "metadata": {},
   "outputs": [
    {
     "data": {
      "text/plain": [
       "(217951, 217951, 72651, 72651, 72651, 72651)"
      ]
     },
     "execution_count": 48,
     "metadata": {},
     "output_type": "execute_result"
    }
   ],
   "source": [
    "len(x_train),len(y_train),len(x_test),len(y_test),len(x_cv),len(y_cv)"
   ]
  },
  {
   "cell_type": "code",
   "execution_count": 14,
   "metadata": {},
   "outputs": [],
   "source": [
    "# saving train and test dataset using pickle for fututre use\n",
    "\n",
    "'''file=open(\"x_train.pkl\",\"wb\")\n",
    "pickle.dump(x_train,file)\n",
    "file.close()\n",
    "\n",
    "file=open('x_cv.pkl','wb')\n",
    "pickle.dump(x_cv,file)\n",
    "file.close\n",
    "\n",
    "file=open(\"x_test.pkl\",'wb')\n",
    "pickle.dump(x_test,file)\n",
    "file.close()\n",
    "\n",
    "\n",
    "file=open(\"y_train.pkl\",\"wb\")\n",
    "pickle.dump(y_train,file)\n",
    "file.close()\n",
    "\n",
    "file=open('y_cv.pkl','wb')\n",
    "pickle.dump(y_cv,file)\n",
    "file.close\n",
    "\n",
    "file=open(\"y_test.pkl\",'wb')\n",
    "pickle.dump(y_test,file)\n",
    "file.close()\n",
    "\n",
    "'''"
   ]
  },
  {
   "cell_type": "code",
   "execution_count": 2,
   "metadata": {},
   "outputs": [],
   "source": [
    "#loading train and test and validation dataset\n",
    "\n",
    "file=open(\"x_train.pkl\",\"rb\")\n",
    "x_train=pickle.load(file) # loading 'train' dataset\n",
    "\n",
    "file=open(\"x_cv.pkl\",'rb')\n",
    "x_cv=pickle.load(file) # loading 'validation' dataset\n",
    "\n",
    "file=open(\"x_test.pkl\",'rb')\n",
    "x_test=pickle.load(file) # loading 'test' dataset\n",
    "\n",
    "file=open(\"y_train.pkl\",\"rb\")\n",
    "y_train=pickle.load(file) # loading 'train' dataset\n",
    "\n",
    "file=open(\"y_cv.pkl\",'rb')\n",
    "y_cv=pickle.load(file) # loading 'validation' dataset\n",
    "\n",
    "file=open(\"y_test.pkl\",'rb')\n",
    "y_test=pickle.load(file) # loading 'test' dataset\n"
   ]
  },
  {
   "cell_type": "markdown",
   "metadata": {},
   "source": [
    "# [4] Featurization"
   ]
  },
  {
   "cell_type": "markdown",
   "metadata": {},
   "source": [
    "## [4.1] BAG OF WORDS"
   ]
  },
  {
   "cell_type": "code",
   "execution_count": 4,
   "metadata": {},
   "outputs": [
    {
     "name": "stdout",
     "output_type": "stream",
     "text": [
      "some feature names  ['aa', 'aaa', 'aaaa', 'aaaaa', 'aaaaaa', 'aaaaaaaaaaaa', 'aaaaaaaaaaaaa', 'aaaaaaaaaaaaaa', 'aaaaaaaaaaaaaaa', 'aaaaaaaaaaaaaaaaaaaaaaaaaaaaaaaaaaaaaaaaaaaa']\n",
      "====================================================================================================\n"
     ]
    }
   ],
   "source": [
    "#BoW\n",
    "\n",
    "count_vect = CountVectorizer()#in scikit-learn\n",
    "\n",
    "x_train_bow=count_vect.fit_transform(x_train)\n",
    "print(\"some feature names \", count_vect.get_feature_names()[:10])\n",
    "print('='*100)\n",
    "\n",
    "# transform cv and test dataset\n",
    "x_cv_bow=count_vect.transform(x_cv)\n",
    "x_test_bow=count_vect.transform(x_test)"
   ]
  },
  {
   "cell_type": "code",
   "execution_count": 16,
   "metadata": {},
   "outputs": [
    {
     "data": {
      "text/plain": [
       "((217951, 90000), (72651, 90000), (72651, 90000))"
      ]
     },
     "execution_count": 16,
     "metadata": {},
     "output_type": "execute_result"
    }
   ],
   "source": [
    "x_train_bow.shape,x_test_bow.shape,x_cv_bow.shape\n"
   ]
  },
  {
   "cell_type": "code",
   "execution_count": 17,
   "metadata": {},
   "outputs": [],
   "source": [
    "# saving train_bow and test_bow dataset using pickle for future use\n",
    "\n",
    "'''file=open(\"x_train_bow.pkl\",\"wb\")\n",
    "pickle.dump(x_train_bow,file)\n",
    "file.close()\n",
    "\n",
    "file=open(\"x_test_bow.pkl\",'wb')\n",
    "pickle.dump(x_test_bow,file)\n",
    "file.close()\n",
    "\n",
    "file=open(\"x_cv_bow.pkl\",'wb')\n",
    "pickle.dump(x_cv_bow,file)\n",
    "file.close()\n",
    "'''"
   ]
  },
  {
   "cell_type": "code",
   "execution_count": 15,
   "metadata": {},
   "outputs": [],
   "source": [
    "#loading train_bow and test _bow\n",
    "file=open('x_train_bow.pkl','rb')\n",
    "x_train_bow=pickle.load(file)\n",
    "\n",
    "file=open('x_test_bow.pkl','rb')\n",
    "x_test_bow=pickle.load(file)\n",
    "\n",
    "file=open('x_cv_bow.pkl','rb')\n",
    "x_cv_bow=pickle.load(file)"
   ]
  },
  {
   "cell_type": "markdown",
   "metadata": {},
   "source": [
    "## [4.3] TF-IDF"
   ]
  },
  {
   "cell_type": "code",
   "execution_count": 5,
   "metadata": {},
   "outputs": [],
   "source": [
    "# tf-idf \"from sklearn.feature_extraction.text.TfidfVectorizer\"\n",
    "tf_idf=TfidfVectorizer()\n",
    "\n",
    "train_tf_idf=tf_idf.fit_transform(x_train)\n",
    "cv_tf_idf=tf_idf.transform(x_cv)\n",
    "test_tf_idf=tf_idf.transform(x_test)"
   ]
  },
  {
   "cell_type": "code",
   "execution_count": 6,
   "metadata": {},
   "outputs": [],
   "source": [
    "from sklearn.preprocessing import StandardScaler\n",
    "\n",
    "sc=StandardScaler(with_mean=False)\n",
    "\n",
    "train_tf_idf=sc.fit_transform(train_tf_idf)\n",
    "cv_tf_idf=sc.transform(cv_tf_idf)\n",
    "test_tf_idf=sc.transform(test_tf_idf)"
   ]
  },
  {
   "cell_type": "code",
   "execution_count": 21,
   "metadata": {},
   "outputs": [],
   "source": [
    "# saving train_tf_idf and test_tf_idf dataset using pickle for fututre use\n",
    "\n",
    "'''file=open(\"train_tf_idf.pkl\",\"wb\")\n",
    "pickle.dump(train_tf_idf,file)\n",
    "file.close()\n",
    "\n",
    "file=open(\"cv_tf_idf.pkl\",'wb')\n",
    "pickle.dump(cv_tf_idf,file)\n",
    "file.close()\n",
    "\n",
    "file=open(\"test_tf_idf.pkl\",'wb')\n",
    "pickle.dump(test_tf_idf,file)\n",
    "file.close()\n",
    "\n",
    "'''\n"
   ]
  },
  {
   "cell_type": "code",
   "execution_count": 4,
   "metadata": {},
   "outputs": [],
   "source": [
    "#loading train_tf_idf and test_tf_idf\n",
    "file=open('train_tf_idf.pkl','rb')\n",
    "train_tf_idf=pickle.load(file)\n",
    "\n",
    "file=open('cv_tf_idf.pkl','rb')\n",
    "cv_tf_idf=pickle.load(file)\n",
    "\n",
    "file=open('test_tf_idf.pkl','rb')\n",
    "test_tf_idf=pickle.load(file)"
   ]
  },
  {
   "cell_type": "markdown",
   "metadata": {},
   "source": [
    "## [4.4] Word2Vec"
   ]
  },
  {
   "cell_type": "markdown",
   "metadata": {},
   "source": [
    "## [4.4.1] Converting text into vectors using Avg W2V, TFIDF-W2V"
   ]
  },
  {
   "cell_type": "markdown",
   "metadata": {},
   "source": [
    "#### [4.4.1.1] Avg W2v"
   ]
  },
  {
   "cell_type": "code",
   "execution_count": 6,
   "metadata": {},
   "outputs": [],
   "source": [
    "# converting our text-->vector using w2v with 50-dim\n",
    "# more the dimension of each word = better the semantic of word\n",
    "# using lib from \"gensim.models.Word2Vec\"\n",
    "# to run w2v we need list of list of the words as w2v covert each world into number of dim\n",
    "\n",
    "\n",
    "# for train_w2v\n",
    "list_of_sent_train=[]\n",
    "for sent in x_train:\n",
    "    list_of_sent_train.append((str(sent)).split())\n",
    "w2v_model=Word2Vec(list_of_sent_train,min_count=5,size=50)\n",
    "\n",
    "# vocablary of w2v model of amazon dataset\n",
    "vocab=w2v_model.wv.vocab\n",
    "len(vocab)\n",
    "\n",
    "#-------------------------------------------------------------------------------------------------\n",
    "\n",
    "# for test_w2v\n",
    "list_of_sent_cv=[]\n",
    "for sent in x_cv:\n",
    "    list_of_sent_cv.append((str(sent)).split())\n",
    "\n",
    "#-------------------------------------------------------------------------------------------------\n",
    "\n",
    "# for test_w2v\n",
    "list_of_sent_test=[]\n",
    "for sent in x_test:\n",
    "    list_of_sent_test.append((str(sent)).split())\n"
   ]
  },
  {
   "cell_type": "code",
   "execution_count": 7,
   "metadata": {
    "scrolled": true
   },
   "outputs": [
    {
     "name": "stdout",
     "output_type": "stream",
     "text": [
      "217951\n",
      "72651\n",
      "72651\n"
     ]
    }
   ],
   "source": [
    "'''\n",
    "    -->procedure to make avg w2v of each reviews\n",
    "    1. find the w2v of each word\n",
    "    2. sum-up w2v of each word in a sentence\n",
    "    3. divide the total w2v of sentence by total no. of words in the sentence\n",
    "'''\n",
    "\n",
    "# average Word2Vec\n",
    "# compute average word2vec for each review.\n",
    "train_w2v = []; # the avg-w2v for each sentence/review in train dataset is stored in this list\n",
    "\n",
    "for sent in list_of_sent_train: # for each review/sentence\n",
    "    sent_vec = np.zeros(50) # as word vectors are of zero length\n",
    "    cnt_words =0; # num of words with a valid vector in the sentence/review\n",
    "    for word in sent: # for each word in a review/sentence\n",
    "        if word in vocab:\n",
    "            vec = w2v_model.wv[word]\n",
    "            sent_vec += vec\n",
    "            cnt_words += 1\n",
    "    if cnt_words != 0:\n",
    "        sent_vec /= cnt_words\n",
    "    train_w2v.append(sent_vec)\n",
    "\n",
    "print(len(train_w2v))\n",
    "\n",
    "#-----------------------------------------------------------------------------------\n",
    "\n",
    "cv_w2v = []; # the avg-w2v for each sentence/review in test dataset is stored in this list\n",
    "\n",
    "for sent in list_of_sent_cv: # for each review/sentence\n",
    "    sent_vec = np.zeros(50) # as word vectors are of zero length\n",
    "    cnt_words =0; # num of words with a valid vector in the sentence/review\n",
    "    for word in sent: # for each word in a review/sentence\n",
    "        if word in vocab:\n",
    "            vec = w2v_model.wv[word]\n",
    "            sent_vec += vec\n",
    "            cnt_words += 1\n",
    "    if cnt_words != 0:\n",
    "        sent_vec /= cnt_words\n",
    "    cv_w2v.append(sent_vec)\n",
    "\n",
    "print(len(cv_w2v))\n",
    "\n",
    "\n",
    "#-----------------------------------------------------------------------------------\n",
    "\n",
    "test_w2v = []; # the avg-w2v for each sentence/review in test dataset is stored in this list\n",
    "\n",
    "for sent in list_of_sent_test: # for each review/sentence\n",
    "    sent_vec = np.zeros(50) # as word vectors are of zero length\n",
    "    cnt_words =0; # num of words with a valid vector in the sentence/review\n",
    "    for word in sent: # for each word in a review/sentence\n",
    "        if word in vocab:\n",
    "            vec = w2v_model.wv[word]\n",
    "            sent_vec += vec\n",
    "            cnt_words += 1\n",
    "    if cnt_words != 0:\n",
    "        sent_vec /= cnt_words\n",
    "    test_w2v.append(sent_vec)\n",
    "\n",
    "print(len(test_w2v))"
   ]
  },
  {
   "cell_type": "code",
   "execution_count": 9,
   "metadata": {},
   "outputs": [],
   "source": [
    "from sklearn.preprocessing import StandardScaler\n",
    "sc=StandardScaler(with_mean=True)\n",
    "\n",
    "train_w2v=sc.fit_transform(train_w2v)\n",
    "cv_w2v=sc.transform(cv_w2v)\n",
    "test_w2v=sc.transform(test_w2v)"
   ]
  },
  {
   "cell_type": "code",
   "execution_count": 10,
   "metadata": {},
   "outputs": [],
   "source": [
    "# saving train_w2v and test_w2v dataset using pickle for fututre use\n",
    "\n",
    "'''file=open(\"train_w2v.pkl\",\"wb\")\n",
    "pickle.dump(train_w2v,file)\n",
    "file.close()\n",
    "\n",
    "file=open(\"cv_w2v.pkl\",'wb')\n",
    "pickle.dump(cv_w2v,file)\n",
    "file.close()\n",
    "\n",
    "file=open(\"test_w2v.pkl\",'wb')\n",
    "pickle.dump(test_w2v,file)\n",
    "file.close()\n",
    "'''\n"
   ]
  },
  {
   "cell_type": "code",
   "execution_count": 5,
   "metadata": {},
   "outputs": [],
   "source": [
    "#loading train_w2v and test_w2v\n",
    "file=open('train_w2v.pkl','rb')\n",
    "train_w2v=pickle.load(file)\n",
    "\n",
    "file=open('cv_w2v.pkl','rb')\n",
    "cv_w2v=pickle.load(file)\n",
    "\n",
    "file=open('test_w2v.pkl','rb')\n",
    "test_w2v=pickle.load(file)"
   ]
  },
  {
   "cell_type": "code",
   "execution_count": 21,
   "metadata": {},
   "outputs": [
    {
     "data": {
      "text/plain": [
       "array([-0.0080363 , -0.55650226, -2.24174777,  1.02574886,  0.12327979,\n",
       "       -0.19916425, -1.06522974,  0.89144715, -1.13231167,  2.54008377,\n",
       "        0.8032532 ,  0.3404576 ,  1.6792167 , -0.98081078,  1.08851643,\n",
       "       -0.72007858, -0.65714762, -0.56007184,  0.01985994,  2.12137305,\n",
       "       -0.09203752, -0.23671867, -1.63326771,  1.04496922,  0.45004579,\n",
       "        0.3219116 ,  0.78335079,  0.54301334, -2.4968575 ,  0.35478244,\n",
       "        1.46397278, -0.01982212, -0.1817636 ,  1.35729521, -0.61338792,\n",
       "       -1.68822842, -0.84256537, -0.59978494,  0.40587478, -0.49775708,\n",
       "        0.31289323,  0.34938107, -0.18756661, -2.25982333,  0.01440547,\n",
       "       -0.97699964, -0.10107761,  0.28043456,  1.88480264, -0.81507891])"
      ]
     },
     "execution_count": 21,
     "metadata": {},
     "output_type": "execute_result"
    }
   ],
   "source": [
    "train_w2v[0]"
   ]
  },
  {
   "cell_type": "code",
   "execution_count": 12,
   "metadata": {},
   "outputs": [
    {
     "name": "stdout",
     "output_type": "stream",
     "text": [
      "number of words that occured minimum 5 times  26749\n",
      "sample words  ['really', 'nice', 'seasoning', 'bought', 'product', 'sam', 'club', 'happy', 'able', 'purchase', 'cannot', 'get', 'anymore', 'use', 'meats', 'spaghetti', 'coffee', 'not', 'bad', 'defiantly', 'anything', 'special', 'price', 'could', 'ethical', 'fair', 'trade', 'organic', 'shade', 'grown', 'etc', 'taste', 'ok', 'stick', 'dean', 'beans', 'smooth', 'flavorful', 'medium', 'roast', 'pleasantly', 'surprised', 'k', 'cup', 'would', 'deal', 'drew', 'glad', 'dogs', 'love']\n"
     ]
    }
   ],
   "source": [
    "w2v_words = list(w2v_model.wv.vocab)\n",
    "print(\"number of words that occured minimum 5 times \",len(w2v_words))\n",
    "print(\"sample words \", w2v_words[0:50])"
   ]
  },
  {
   "cell_type": "markdown",
   "metadata": {},
   "source": [
    "#### [4.4.1.2] TFIDF weighted W2v"
   ]
  },
  {
   "cell_type": "code",
   "execution_count": 13,
   "metadata": {},
   "outputs": [],
   "source": [
    "# S = [\"abc def pqr\", \"def def def abc\", \"pqr pqr def\"]\n",
    "model = TfidfVectorizer()\n",
    "tf_idf_matrix = model.fit_transform(x_train)\n",
    "# we are converting a dictionary with word as a key, and the idf as a value\n",
    "dictionary = dict(zip(model.get_feature_names(), list(model.idf_)))"
   ]
  },
  {
   "cell_type": "code",
   "execution_count": 14,
   "metadata": {},
   "outputs": [
    {
     "name": "stderr",
     "output_type": "stream",
     "text": [
      "100%|██████████| 60000/60000 [51:13<00:00, 26.40it/s]  \n"
     ]
    },
    {
     "data": {
      "text/plain": [
       "60000"
      ]
     },
     "execution_count": 14,
     "metadata": {},
     "output_type": "execute_result"
    }
   ],
   "source": [
    "# TF-IDF weighted Word2Vec Train\n",
    "tfidf_feat = model.get_feature_names() # tfidf words/col-names\n",
    "# final_tf_idf is the sparse matrix with row= sentence, col=word and cell_val = tfidf\n",
    "\n",
    "train_tf_idf_w2v = []; # the tfidf-w2v for each sentence/review is stored in this list\n",
    "row=0;\n",
    "\n",
    "#list_of_sentence_train=list_of_sent_train[:30000] # reducing the size of train list due to computational constrain\n",
    "\n",
    "for sent in tqdm(list_of_sent_train[:60000]): # for each review/sentence \n",
    "    sent_vec = np.zeros(50) # as word vectors are of zero length\n",
    "    weight_sum =0; # num of words with a valid vector in the sentence/review\n",
    "    for word in sent: # for each word in a review/sentence\n",
    "        if word in w2v_words and word in tfidf_feat:\n",
    "            vec = w2v_model.wv[word]\n",
    "#             tf_idf = tf_idf_matrix[row, tfidf_feat.index(word)]\n",
    "            # to reduce the computation we are \n",
    "            # dictionary[word] = idf value of word in whole courpus\n",
    "            # sent.count(word) = tf valeus of word in this review\n",
    "            tf_idf = dictionary[word]*(sent.count(word)/len(sent))\n",
    "            sent_vec += (vec * tf_idf)\n",
    "            weight_sum += tf_idf\n",
    "    if weight_sum != 0:\n",
    "        sent_vec /= weight_sum\n",
    "    train_tf_idf_w2v.append(sent_vec)\n",
    "    row += 1\n",
    "    \n",
    "len(train_tf_idf_w2v)"
   ]
  },
  {
   "cell_type": "code",
   "execution_count": 15,
   "metadata": {},
   "outputs": [
    {
     "name": "stderr",
     "output_type": "stream",
     "text": [
      "100%|██████████| 20000/20000 [17:19<00:00, 19.23it/s]\n"
     ]
    },
    {
     "data": {
      "text/plain": [
       "20000"
      ]
     },
     "execution_count": 15,
     "metadata": {},
     "output_type": "execute_result"
    }
   ],
   "source": [
    "# TF-IDF weighted Word2Vec cv\n",
    "tfidf_feat = model.get_feature_names() # tfidf words/col-names\n",
    "# final_tf_idf is the sparse matrix with row= sentence, col=word and cell_val = tfidf\n",
    "\n",
    "cv_tf_idf_w2v = []; # the tfidf-w2v for each sentence/review is stored in this list\n",
    "row=0;\n",
    "\n",
    "#list_of_sentence_train=list_of_sent_train[:30000] # reducing the size of train list due to computational constrain\n",
    "\n",
    "for sent in tqdm(list_of_sent_cv[:20000]): # for each review/sentence \n",
    "    sent_vec = np.zeros(50) # as word vectors are of zero length\n",
    "    weight_sum =0; # num of words with a valid vector in the sentence/review\n",
    "    for word in sent: # for each word in a review/sentence\n",
    "        if word in w2v_words and word in tfidf_feat:\n",
    "            vec = w2v_model.wv[word]\n",
    "#             tf_idf = tf_idf_matrix[row, tfidf_feat.index(word)]\n",
    "            # to reduce the computation we are \n",
    "            # dictionary[word] = idf value of word in whole courpus\n",
    "            # sent.count(word) = tf valeus of word in this review\n",
    "            tf_idf = dictionary[word]*(sent.count(word)/len(sent))\n",
    "            sent_vec += (vec * tf_idf)\n",
    "            weight_sum += tf_idf\n",
    "    if weight_sum != 0:\n",
    "        sent_vec /= weight_sum\n",
    "    cv_tf_idf_w2v.append(sent_vec)\n",
    "    row += 1\n",
    "    \n",
    "len(cv_tf_idf_w2v)"
   ]
  },
  {
   "cell_type": "code",
   "execution_count": 16,
   "metadata": {},
   "outputs": [
    {
     "name": "stderr",
     "output_type": "stream",
     "text": [
      "100%|██████████| 20000/20000 [17:31<00:00, 19.03it/s]\n"
     ]
    },
    {
     "data": {
      "text/plain": [
       "20000"
      ]
     },
     "execution_count": 16,
     "metadata": {},
     "output_type": "execute_result"
    }
   ],
   "source": [
    "# TF-IDF weighted Word2Vec Test\n",
    "tfidf_feat = model.get_feature_names() # tfidf words/col-names\n",
    "# final_tf_idf is the sparse matrix with row= sentence, col=word and cell_val = tfidf\n",
    "\n",
    "test_tf_idf_w2v = []; # the tfidf-w2v for each sentence/review is stored in this list\n",
    "row=0;\n",
    "\n",
    "#list_of_sentence_train=list_of_sent_train[:30000] # reducing the size of train list due to computational constrain\n",
    "\n",
    "for sent in tqdm(list_of_sent_test[:20000]): # for each review/sentence \n",
    "    sent_vec = np.zeros(50) # as word vectors are of zero length\n",
    "    weight_sum =0; # num of words with a valid vector in the sentence/review\n",
    "    for word in sent: # for each word in a review/sentence\n",
    "        if word in w2v_words and word in tfidf_feat:\n",
    "            vec = w2v_model.wv[word]\n",
    "#             tf_idf = tf_idf_matrix[row, tfidf_feat.index(word)]\n",
    "            # to reduce the computation we are \n",
    "            # dictionary[word] = idf value of word in whole courpus\n",
    "            # sent.count(word) = tf valeus of word in this review\n",
    "            tf_idf = dictionary[word]*(sent.count(word)/len(sent))\n",
    "            sent_vec += (vec * tf_idf)\n",
    "            weight_sum += tf_idf\n",
    "    if weight_sum != 0:\n",
    "        sent_vec /= weight_sum\n",
    "    test_tf_idf_w2v.append(sent_vec)\n",
    "    row += 1\n",
    "    \n",
    "len(test_tf_idf_w2v)"
   ]
  },
  {
   "cell_type": "code",
   "execution_count": 15,
   "metadata": {},
   "outputs": [],
   "source": [
    "from sklearn.preprocessing import StandardScaler\n",
    "sc=StandardScaler(with_mean=True)\n",
    "\n",
    "train_tf_idf_w2v=sc.fit_transform(train_tf_idf_w2v)\n",
    "cv_tf_idf_w2v=sc.transform(cv_tf_idf_w2v)\n",
    "test_tf_idf_w2v=sc.transform(test_tf_idf_w2v)"
   ]
  },
  {
   "cell_type": "code",
   "execution_count": 16,
   "metadata": {},
   "outputs": [],
   "source": [
    "# saving train_tf_idf_w2v and test_tf_idf_w2v dataset using pickle for fututre use\n",
    "\n",
    "'''file=open(\"train_tf_idf_w2v.pkl\",\"wb\")\n",
    "pickle.dump(train_tf_idf_w2v,file)\n",
    "file.close()\n",
    "\n",
    "file=open(\"cv_tf_idf_w2v.pkl\",'wb')\n",
    "pickle.dump(cv_tf_idf_w2v,file)\n",
    "file.close()\n",
    "\n",
    "file=open(\"test_tf_idf_w2v.pkl\",'wb')\n",
    "pickle.dump(test_tf_idf_w2v,file)\n",
    "file.close()\n",
    "\n",
    "'''\n"
   ]
  },
  {
   "cell_type": "code",
   "execution_count": 6,
   "metadata": {},
   "outputs": [],
   "source": [
    "#loading train_tf_idf_w2v and test_tf_idf_w2v\n",
    "file=open('train_tf_idf_w2v.pkl','rb')\n",
    "train_tf_idf_w2v=pickle.load(file)\n",
    "\n",
    "file=open('cv_tf_idf_w2v.pkl','rb')\n",
    "cv_tf_idf_w2v=pickle.load(file)\n",
    "\n",
    "file=open('test_tf_idf_w2v.pkl','rb')\n",
    "test_tf_idf_w2v=pickle.load(file)"
   ]
  },
  {
   "cell_type": "markdown",
   "metadata": {
    "colab_type": "text",
    "id": "ZFN0k_hEJklb"
   },
   "source": [
    "# [5] Assignment 4: Apply Naive Bayes"
   ]
  },
  {
   "cell_type": "markdown",
   "metadata": {
    "colab_type": "text",
    "id": "O1ABSoejJklc"
   },
   "source": [
    "<ol>\n",
    "    <li><strong>Apply Multinomial NaiveBayes on these feature sets</strong>\n",
    "        <ul>\n",
    "            <li><font color='red'>SET 1:</font>Review text, preprocessed one converted into vectors using (BOW)</li>\n",
    "            <li><font color='red'>SET 2:</font>Review text, preprocessed one converted into vectors using (TFIDF)</li>\n",
    "        </ul>\n",
    "    </li>\n",
    "    <br>\n",
    "    <li><strong>The hyper paramter tuning(find best Alpha)</strong>\n",
    "        <ul>\n",
    "    <li>Find the best hyper parameter which will give the maximum <a href='https://www.appliedaicourse.com/course/applied-ai-course-online/lessons/receiver-operating-characteristic-curve-roc-curve-and-auc-1/'>AUC</a> value</li>\n",
    "    <li>Consider a wide range of alpha values for hyperparameter tuning, start as low as 0.00001</li>\n",
    "    <li>Find the best hyper paramter using k-fold cross validation or simple cross validation data</li>\n",
    "    <li>Use gridsearch cv or randomsearch cv or you can also write your own for loops to do this task of hyperparameter tuning</li>\n",
    "        </ul>\n",
    "    </li>\n",
    "    <br>\n",
    "    <li><strong>Feature importance</strong>\n",
    "        <ul>\n",
    "    <li>Find the top 10 features of positive class and top 10 features of negative class for both feature sets <font color='red'>Set 1</font> and <font color='red'>Set 2</font> using values of `feature_log_prob_` parameter of  <a href='https://scikit-learn.org/stable/modules/generated/sklearn.naive_bayes.MultinomialNB.html'>MultinomialNB</a> and print their corresponding feature names</li>\n",
    "        </ul>\n",
    "    </li>\n",
    "    <br>\n",
    "    <li><strong>Feature engineering</strong>\n",
    "        <ul>\n",
    "    <li>To increase the performance of your model, you can also experiment with with feature engineering like :</li>\n",
    "            <ul>\n",
    "            <li>Taking length of reviews as another feature.</li>\n",
    "            <li>Considering some features from review summary as well.</li>\n",
    "        </ul>\n",
    "        </ul>\n",
    "    </li>\n",
    "    <br>\n",
    "    <li><strong>Representation of results</strong>\n",
    "        <ul>\n",
    "    <li>You need to plot the performance of model both on train data and cross validation data for each hyper parameter, like shown in the figure. Here on X-axis you will have alpha values, since they have a wide range, just to represent those alpha values on the graph, apply log function on those alpha values.\n",
    "    <img src='train_cv_auc.JPG' width=300px></li>\n",
    "    <li>Once after you found the best hyper parameter, you need to train your model with it, and find the AUC on test data and plot the ROC curve on both train and test.\n",
    "    <img src='train_test_auc.JPG' width=300px></li>\n",
    "    <li>Along with plotting ROC curve, you need to print the <a href='https://www.appliedaicourse.com/course/applied-ai-course-online/lessons/confusion-matrix-tpr-fpr-fnr-tnr-1/'>confusion matrix</a> with predicted and original labels of test data points. Please visualize your confusion matrices using <a href='https://seaborn.pydata.org/generated/seaborn.heatmap.html'>seaborn heatmaps.\n",
    "    <img src='confusion_matrix.png' width=300px></li>\n",
    "        </ul>\n",
    "    </li>\n",
    "    <br>\n",
    "    <li><strong>Conclusion</strong>\n",
    "        <ul>\n",
    "    <li>You need to summarize the results at the end of the notebook, summarize it in the table format. To print out a table please refer to this prettytable library<a href='http://zetcode.com/python/prettytable/'>  link</a> \n",
    "        <img src='summary.JPG' width=400px>\n",
    "    </li>\n",
    "        </ul>\n",
    "</ol>"
   ]
  },
  {
   "cell_type": "markdown",
   "metadata": {
    "colab_type": "text",
    "id": "YawkDx8TJklc"
   },
   "source": [
    "<h4><font color='red'>Note: Data Leakage</font></h4>\n",
    "\n",
    "1. There will be an issue of data-leakage if you vectorize the entire data and then split it into train/cv/test.\n",
    "2. To avoid the issue of data-leakag, make sure to split your data first and then vectorize it. \n",
    "3. While vectorizing your data, apply the method fit_transform() on you train data, and apply the method transform() on cv/test data.\n",
    "4. For more details please go through this <a href='https://soundcloud.com/applied-ai-course/leakage-bow-and-tfidf'>link.</a>"
   ]
  },
  {
   "cell_type": "markdown",
   "metadata": {
    "colab_type": "text",
    "id": "RGRFxjhgJklc"
   },
   "source": [
    "# Applying Multinomial Naive Bayes"
   ]
  },
  {
   "cell_type": "markdown",
   "metadata": {
    "colab_type": "text",
    "id": "FxGKHpZlJkle"
   },
   "source": [
    "## [5.1] Applying Naive Bayes on BOW,<font color='red'> SET 1</font>"
   ]
  },
  {
   "cell_type": "code",
   "execution_count": 19,
   "metadata": {
    "colab": {},
    "colab_type": "code",
    "id": "UR0f8SfZJkle"
   },
   "outputs": [
    {
     "data": {
      "image/png": "[encoded data removed]",
      "text/plain": [
       "<Figure size 432x288 with 1 Axes>"
      ]
     },
     "metadata": {
      "needs_background": "light"
     },
     "output_type": "display_data"
    }
   ],
   "source": [
    "from sklearn.naive_bayes import MultinomialNB\n",
    "from sklearn.metrics import roc_auc_score\n",
    "import matplotlib.pyplot as plt\n",
    "\n",
    "\"\"\"\n",
    "y_true : array, shape = [n_samples] or [n_samples, n_classes]\n",
    "True binary labels or binary label indicators.\n",
    "\n",
    "y_score : array, shape = [n_samples] or [n_samples, n_classes]\n",
    "Target scores, can either be probability estimates of the positive class, confidence values, or non-thresholded measure of\n",
    "decisions (as returned by “decision_function” on some classifiers). \n",
    "For binary y_true, y_score is supposed to be the score of the class with greater label.\n",
    "\n",
    "\"\"\"\n",
    "\n",
    "train_auc = []\n",
    "cv_auc = []\n",
    "alpha_range = [10e-5,10e-4,10e-3,10e-2,1,10,10e1,10e2,10e3]\n",
    "for i in alpha_range:\n",
    "    mnb=MultinomialNB(alpha=i, fit_prior=True, class_prior=None)\n",
    "    mnb.fit(x_train_bow, y_train)\n",
    "    # roc_auc_score(y_true, y_score) the 2nd parameter should be probability estimates of the positive class\n",
    "    # not the predicted outputs\n",
    "    \n",
    "    \n",
    "    #predicting on train and cv using blocks\n",
    "    y_train_pred = []\n",
    "    for i in range(0, x_train_bow.shape[0], 1000):\n",
    "        y_train_pred.extend(mnb.predict_proba(x_train_bow[i:i+1000])[:,1]) \n",
    "\n",
    "    y_cv_pred = []\n",
    "    for i in range(0, x_cv_bow.shape[0], 1000):\n",
    "        y_cv_pred.extend(mnb.predict_proba(x_cv_bow[i:i+1000])[:,1]) \n",
    "\n",
    "\n",
    "    train_auc.append(roc_auc_score(y_train,y_train_pred))\n",
    "    cv_auc.append(roc_auc_score(y_cv, y_cv_pred))\n",
    "\n",
    "    \n",
    "plt.plot(np.arange(1,10,1), train_auc, label='Train AUC')\n",
    "plt.plot(np.arange(1,10,1), cv_auc, label='CV AUC')\n",
    "plt.xticks( np.arange(1,10,1), (10e-5, 10e-4, 10e-3, 10e-2, 10e-1, 10e0, 10e1, 10e2, 10e3))\n",
    "plt.legend()\n",
    "plt.xlabel(\"alpha: hyperparameter\")\n",
    "plt.ylabel(\"AUC\")\n",
    "plt.title(\"ERROR PLOTS\")\n",
    "plt.grid()\n",
    "plt.show()\n"
   ]
  },
  {
   "cell_type": "code",
   "execution_count": 20,
   "metadata": {},
   "outputs": [
    {
     "name": "stdout",
     "output_type": "stream",
     "text": [
      "\n",
      "genearalisation roc_auc on best alpha-value at optimum_alpha = 1 is 0.92\n",
      "\n",
      "misclassification percentage is 0.09%\n"
     ]
    },
    {
     "data": {
      "image/png": "[encoded data removed]",
      "text/plain": [
       "<Figure size 432x288 with 2 Axes>"
      ]
     },
     "metadata": {
      "needs_background": "light"
     },
     "output_type": "display_data"
    },
    {
     "name": "stdout",
     "output_type": "stream",
     "text": [
      "\n",
      "\n",
      "classification report:\n",
      "              precision    recall  f1-score   support\n",
      "\n",
      "          0       0.72      0.68      0.70     11223\n",
      "          1       0.94      0.95      0.95     61428\n",
      "\n",
      "avg / total       0.91      0.91      0.91     72651\n",
      "\n"
     ]
    },
    {
     "data": {
      "image/png": "[encoded data removed]",
      "text/plain": [
       "<Figure size 504x504 with 1 Axes>"
      ]
     },
     "metadata": {
      "needs_background": "light"
     },
     "output_type": "display_data"
    }
   ],
   "source": [
    "# Test dataset\n",
    "\n",
    "from sklearn.naive_bayes import MultinomialNB\n",
    "from sklearn.metrics import roc_auc_score\n",
    "import matplotlib.pyplot as plt\n",
    "\n",
    "\n",
    "#using optimum_k to find generalistion ROC AUC accuracy\n",
    "optimum_alpha=1 #optimum 'alpha'\n",
    "\n",
    "clf=MultinomialNB(alpha=optimum_alpha, fit_prior=True, class_prior=None)\n",
    "clf.fit(x_train_bow,y_train)\n",
    "\n",
    "\n",
    "y_pred = []\n",
    "for i in range(0, x_test_bow.shape[0], 1000):\n",
    "    y_pred.extend(clf.predict(x_test_bow[i:i+1000]))\n",
    "    \n",
    "y_pred_proba = []\n",
    "for i in range(0, x_test_bow.shape[0], 1000):\n",
    "    y_pred_proba.extend(clf.predict_proba(x_test_bow[i:i+1000])[:,1])    \n",
    "\n",
    "\n",
    "accuracy=accuracy_score(y_test,y_pred)\n",
    "roc_auc=roc_auc_score(y_test,y_pred_proba)\n",
    "print(f'\\ngenearalisation roc_auc on best alpha-value at optimum_alpha = {optimum_alpha} is {roc_auc:.2f}')\n",
    "print(f'\\nmisclassification percentage is {(1-accuracy):.2f}%')\n",
    "\n",
    "\n",
    "#ploting confusion matrix\n",
    "sn.heatmap(confusion_matrix(y_pred,y_test),annot=True, fmt=\"d\",linewidths=.5)\n",
    "plt.title('Confusion Matrix')\n",
    "plt.xlabel('Predicted values')\n",
    "plt.ylabel('Actual values')\n",
    "plt.show()\n",
    "print(\"\\n\\nclassification report:\\n\",classification_report(y_test,y_pred)) \n",
    "\n",
    "\n",
    "# ROC Curve (reference:stack overflow with little modification)   \n",
    "\n",
    "y_train_pred_proba = []\n",
    "for i in range(0, x_train_bow.shape[0], 1000):\n",
    "    y_train_pred_proba.extend(clf.predict_proba(x_train_bow[i:i+1000])[:,1])\n",
    "\n",
    "\n",
    "train_fpr, train_tpr, train_threshold =roc_curve(y_train, y_train_pred_proba)\n",
    "test_fpr, test_tpr, test_threshold =roc_curve(y_test, y_pred_proba)\n",
    "\n",
    "roc_auc_train = roc_auc_score(y_train,y_train_pred_proba)\n",
    "roc_auc_test = roc_auc_score(y_test,y_pred_proba)\n",
    "\n",
    "plt.figure(figsize=(7,7))\n",
    "plt.title('Receiver Operating Characteristic')\n",
    "plt.plot(train_fpr, train_tpr, 'b', label = 'train_AUC = %0.2f' % roc_auc_train)\n",
    "plt.plot(test_fpr, test_tpr, 'r', label = 'test_AUC = %0.2f' % roc_auc_test)\n",
    "plt.legend(loc = 'lower right')\n",
    "plt.plot([0, 1], [0, 1],'k--')\n",
    "plt.xlim([-0.02, 1])\n",
    "plt.ylim([0, 1])\n",
    "plt.ylabel('True Positive Rate')\n",
    "plt.xlabel('False Positive Rate')\n",
    "plt.grid(linestyle='--', linewidth=1)\n",
    "plt.show()\n",
    "\n"
   ]
  },
  {
   "cell_type": "markdown",
   "metadata": {
    "colab_type": "text",
    "id": "u-ZSD3tlJklg"
   },
   "source": [
    "### [5.1.1] Top 10 important features of positive class from<font color='red'> SET 1</font>"
   ]
  },
  {
   "cell_type": "code",
   "execution_count": 23,
   "metadata": {},
   "outputs": [
    {
     "data": {
      "text/plain": [
       "MultinomialNB(alpha=1, class_prior=None, fit_prior=True)"
      ]
     },
     "execution_count": 23,
     "metadata": {},
     "output_type": "execute_result"
    }
   ],
   "source": [
    "\n",
    "from sklearn.naive_bayes import MultinomialNB\n",
    "from sklearn.metrics import roc_auc_score\n",
    "import matplotlib.pyplot as plt\n",
    "\n",
    "vectorizor=count_vect\n",
    "\n",
    "clf=MultinomialNB(alpha=1, fit_prior=True, class_prior=None) # optimim_alpha=1\n",
    "clf.fit(x_train_bow[:],y_train)\n"
   ]
  },
  {
   "cell_type": "code",
   "execution_count": 24,
   "metadata": {},
   "outputs": [],
   "source": [
    "# (clf.feature_log_prob_)[1] --> '1' for positive class label\n",
    "features=pd.DataFrame({'log-prob':(clf.feature_log_prob_)[1],'feature_name':vectorizor.get_feature_names()})"
   ]
  },
  {
   "cell_type": "code",
   "execution_count": 25,
   "metadata": {},
   "outputs": [
    {
     "data": {
      "text/html": [
       "<div>\n",
       "<style scoped>\n",
       "    .dataframe tbody tr th:only-of-type {\n",
       "        vertical-align: middle;\n",
       "    }\n",
       "\n",
       "    .dataframe tbody tr th {\n",
       "        vertical-align: top;\n",
       "    }\n",
       "\n",
       "    .dataframe thead th {\n",
       "        text-align: right;\n",
       "    }\n",
       "</style>\n",
       "<table border=\"1\" class=\"dataframe\">\n",
       "  <thead>\n",
       "    <tr style=\"text-align: right;\">\n",
       "      <th></th>\n",
       "      <th>log-prob</th>\n",
       "      <th>positive_feature</th>\n",
       "    </tr>\n",
       "  </thead>\n",
       "  <tbody>\n",
       "    <tr>\n",
       "      <th>53444</th>\n",
       "      <td>-3.735773</td>\n",
       "      <td>not</td>\n",
       "    </tr>\n",
       "    <tr>\n",
       "      <th>45238</th>\n",
       "      <td>-4.574322</td>\n",
       "      <td>like</td>\n",
       "    </tr>\n",
       "    <tr>\n",
       "      <th>33533</th>\n",
       "      <td>-4.687724</td>\n",
       "      <td>good</td>\n",
       "    </tr>\n",
       "    <tr>\n",
       "      <th>34245</th>\n",
       "      <td>-4.756608</td>\n",
       "      <td>great</td>\n",
       "    </tr>\n",
       "    <tr>\n",
       "      <th>55115</th>\n",
       "      <td>-4.913450</td>\n",
       "      <td>one</td>\n",
       "    </tr>\n",
       "    <tr>\n",
       "      <th>78198</th>\n",
       "      <td>-4.970295</td>\n",
       "      <td>taste</td>\n",
       "    </tr>\n",
       "    <tr>\n",
       "      <th>78481</th>\n",
       "      <td>-5.073596</td>\n",
       "      <td>tea</td>\n",
       "    </tr>\n",
       "    <tr>\n",
       "      <th>61931</th>\n",
       "      <td>-5.083465</td>\n",
       "      <td>product</td>\n",
       "    </tr>\n",
       "    <tr>\n",
       "      <th>29567</th>\n",
       "      <td>-5.094024</td>\n",
       "      <td>flavor</td>\n",
       "    </tr>\n",
       "    <tr>\n",
       "      <th>46287</th>\n",
       "      <td>-5.094525</td>\n",
       "      <td>love</td>\n",
       "    </tr>\n",
       "  </tbody>\n",
       "</table>\n",
       "</div>"
      ],
      "text/plain": [
       "       log-prob positive_feature\n",
       "53444 -3.735773              not\n",
       "45238 -4.574322             like\n",
       "33533 -4.687724             good\n",
       "34245 -4.756608            great\n",
       "55115 -4.913450              one\n",
       "78198 -4.970295            taste\n",
       "78481 -5.073596              tea\n",
       "61931 -5.083465          product\n",
       "29567 -5.094024           flavor\n",
       "46287 -5.094525             love"
      ]
     },
     "execution_count": 25,
     "metadata": {},
     "output_type": "execute_result"
    }
   ],
   "source": [
    "# negative feature importance of naive bayes\n",
    "# using log probabilty as original probabilty values are too small\n",
    "\n",
    "max_ind_neg=np.argsort((clf.feature_log_prob_)[1])[::-1][0:10] \n",
    "pd.DataFrame({'log-prob':features.iloc[max_ind_neg,0],'positive_feature':features.iloc[max_ind_neg,1]})"
   ]
  },
  {
   "cell_type": "markdown",
   "metadata": {
    "colab_type": "text",
    "id": "mquFtwF5Jklj"
   },
   "source": [
    "### [5.1.2] Top 10 important features of negative class from<font color='red'> SET 1</font>"
   ]
  },
  {
   "cell_type": "code",
   "execution_count": 28,
   "metadata": {},
   "outputs": [],
   "source": [
    "# (clf.feature_log_prob_)[0] --> '0' for negative class label\n",
    "features=pd.DataFrame({'log-prob':(clf.feature_log_prob_)[0],'feature_name':vectorizor.get_feature_names()})"
   ]
  },
  {
   "cell_type": "code",
   "execution_count": 29,
   "metadata": {},
   "outputs": [
    {
     "data": {
      "text/html": [
       "<div>\n",
       "<style scoped>\n",
       "    .dataframe tbody tr th:only-of-type {\n",
       "        vertical-align: middle;\n",
       "    }\n",
       "\n",
       "    .dataframe tbody tr th {\n",
       "        vertical-align: top;\n",
       "    }\n",
       "\n",
       "    .dataframe thead th {\n",
       "        text-align: right;\n",
       "    }\n",
       "</style>\n",
       "<table border=\"1\" class=\"dataframe\">\n",
       "  <thead>\n",
       "    <tr style=\"text-align: right;\">\n",
       "      <th></th>\n",
       "      <th>log-prob</th>\n",
       "      <th>negative_feature</th>\n",
       "    </tr>\n",
       "  </thead>\n",
       "  <tbody>\n",
       "    <tr>\n",
       "      <th>53444</th>\n",
       "      <td>-3.324656</td>\n",
       "      <td>not</td>\n",
       "    </tr>\n",
       "    <tr>\n",
       "      <th>45238</th>\n",
       "      <td>-4.456015</td>\n",
       "      <td>like</td>\n",
       "    </tr>\n",
       "    <tr>\n",
       "      <th>61931</th>\n",
       "      <td>-4.695314</td>\n",
       "      <td>product</td>\n",
       "    </tr>\n",
       "    <tr>\n",
       "      <th>88476</th>\n",
       "      <td>-4.715379</td>\n",
       "      <td>would</td>\n",
       "    </tr>\n",
       "    <tr>\n",
       "      <th>78198</th>\n",
       "      <td>-4.748106</td>\n",
       "      <td>taste</td>\n",
       "    </tr>\n",
       "    <tr>\n",
       "      <th>55115</th>\n",
       "      <td>-4.929418</td>\n",
       "      <td>one</td>\n",
       "    </tr>\n",
       "    <tr>\n",
       "      <th>53079</th>\n",
       "      <td>-5.180822</td>\n",
       "      <td>no</td>\n",
       "    </tr>\n",
       "    <tr>\n",
       "      <th>33533</th>\n",
       "      <td>-5.180936</td>\n",
       "      <td>good</td>\n",
       "    </tr>\n",
       "    <tr>\n",
       "      <th>29567</th>\n",
       "      <td>-5.220042</td>\n",
       "      <td>flavor</td>\n",
       "    </tr>\n",
       "    <tr>\n",
       "      <th>15557</th>\n",
       "      <td>-5.223142</td>\n",
       "      <td>coffee</td>\n",
       "    </tr>\n",
       "  </tbody>\n",
       "</table>\n",
       "</div>"
      ],
      "text/plain": [
       "       log-prob negative_feature\n",
       "53444 -3.324656              not\n",
       "45238 -4.456015             like\n",
       "61931 -4.695314          product\n",
       "88476 -4.715379            would\n",
       "78198 -4.748106            taste\n",
       "55115 -4.929418              one\n",
       "53079 -5.180822               no\n",
       "33533 -5.180936             good\n",
       "29567 -5.220042           flavor\n",
       "15557 -5.223142           coffee"
      ]
     },
     "execution_count": 29,
     "metadata": {},
     "output_type": "execute_result"
    }
   ],
   "source": [
    "# negative feature importance of naive bayes\n",
    "# using log probabilty as original probabilty values are too small\n",
    "\n",
    "max_ind_neg=np.argsort((clf.feature_log_prob_)[0])[::-1][0:10] \n",
    "pd.DataFrame({'log-prob':features.iloc[max_ind_neg,0],'negative_feature':features.iloc[max_ind_neg,1]})"
   ]
  },
  {
   "cell_type": "markdown",
   "metadata": {
    "colab_type": "text",
    "id": "6bp7BbwCJkll"
   },
   "source": [
    "## [5.2] Applying Naive Bayes on TFIDF,<font color='red'> SET 2</font>"
   ]
  },
  {
   "cell_type": "code",
   "execution_count": 4,
   "metadata": {
    "colab": {},
    "colab_type": "code",
    "id": "oL29fzPFJkll"
   },
   "outputs": [
    {
     "data": {
      "image/png": "[encoded data removed]",
      "text/plain": [
       "<Figure size 432x288 with 1 Axes>"
      ]
     },
     "metadata": {
      "needs_background": "light"
     },
     "output_type": "display_data"
    }
   ],
   "source": [
    "\n",
    "from sklearn.naive_bayes import MultinomialNB\n",
    "from sklearn.metrics import roc_auc_score\n",
    "import matplotlib.pyplot as plt\n",
    "\n",
    "\"\"\"\n",
    "y_true : array, shape = [n_samples] or [n_samples, n_classes]\n",
    "True binary labels or binary label indicators.\n",
    "\n",
    "y_score : array, shape = [n_samples] or [n_samples, n_classes]\n",
    "Target scores, can either be probability estimates of the positive class, confidence values, or non-thresholded measure of\n",
    "decisions (as returned by “decision_function” on some classifiers). \n",
    "For binary y_true, y_score is supposed to be the score of the class with greater label.\n",
    "\n",
    "\"\"\"\n",
    "\n",
    "train_auc = []\n",
    "cv_auc = []\n",
    "K = [10,25,35,50,75,100,125,150]\n",
    "alpha_range = [10e-5,10e-4,10e-3,10e-2,1,10,10e1,10e2,10e3]\n",
    "for i in alpha_range:\n",
    "    mnb=MultinomialNB(alpha=i, fit_prior=True, class_prior=None) \n",
    "    mnb.fit(train_tf_idf, y_train)\n",
    "    # roc_auc_score(y_true, y_score) the 2nd parameter should be probability estimates of the positive class\n",
    "    # not the predicted outputs\n",
    "     \n",
    "    #predicting on train and cv using blocks\n",
    "    y_train_pred = []\n",
    "    for i in range(0, train_tf_idf.shape[0], 1000):\n",
    "        y_train_pred.extend(mnb.predict_proba(train_tf_idf[i:i+1000])[:,1]) \n",
    "\n",
    "    y_cv_pred = []\n",
    "    for i in range(0, cv_tf_idf.shape[0], 1000):\n",
    "        y_cv_pred.extend(mnb.predict_proba(cv_tf_idf[i:i+1000])[:,1]) \n",
    "\n",
    "\n",
    "    train_auc.append(roc_auc_score(y_train,y_train_pred))\n",
    "    cv_auc.append(roc_auc_score(y_cv, y_cv_pred))\n",
    "\n",
    "\n",
    "    \n",
    "    \n",
    "plt.plot(np.arange(1,10,1), train_auc, label='Train AUC')\n",
    "plt.plot(np.arange(1,10,1), cv_auc, label='CV AUC')\n",
    "plt.xticks( np.arange(1,10,1), (10e-5, 10e-4, 10e-3, 10e-2, 10e-1, 10e0, 10e1, 10e2, 10e3))\n",
    "plt.legend()\n",
    "plt.xlabel(\"alpha: hyperparameter\")\n",
    "plt.ylabel(\"AUC\")\n",
    "plt.title(\"ERROR PLOTS\")\n",
    "plt.grid()\n",
    "plt.show()\n"
   ]
  },
  {
   "cell_type": "code",
   "execution_count": 5,
   "metadata": {},
   "outputs": [
    {
     "name": "stdout",
     "output_type": "stream",
     "text": [
      "\n",
      "genearalisation roc_auc on best alpha-value at optimum_alpha = 10 is 0.78\n",
      "\n",
      "misclassification percentage is 0.17%\n"
     ]
    },
    {
     "data": {
      "image/png": "[encoded data removed]",
      "text/plain": [
       "<Figure size 432x288 with 2 Axes>"
      ]
     },
     "metadata": {
      "needs_background": "light"
     },
     "output_type": "display_data"
    },
    {
     "name": "stdout",
     "output_type": "stream",
     "text": [
      "\n",
      "\n",
      "classification report:\n",
      "              precision    recall  f1-score   support\n",
      "\n",
      "          0       0.46      0.65      0.53     11223\n",
      "          1       0.93      0.86      0.89     61428\n",
      "\n",
      "avg / total       0.86      0.83      0.84     72651\n",
      "\n"
     ]
    },
    {
     "data": {
      "image/png": "[encoded data removed]",
      "text/plain": [
       "<Figure size 504x504 with 1 Axes>"
      ]
     },
     "metadata": {
      "needs_background": "light"
     },
     "output_type": "display_data"
    }
   ],
   "source": [
    "# Test dataset\n",
    "\n",
    "from sklearn.naive_bayes import MultinomialNB\n",
    "from sklearn.metrics import roc_auc_score\n",
    "import matplotlib.pyplot as plt\n",
    "\n",
    "\n",
    "#using optimum_k to find generalistion ROC AUC accuracy\n",
    "optimum_alpha=10 #optimum 'alpha'\n",
    "\n",
    "clf=MultinomialNB(alpha=optimum_alpha, fit_prior=True, class_prior=None)\n",
    "clf.fit(train_tf_idf,y_train)\n",
    "\n",
    "\n",
    "y_pred = []\n",
    "for i in range(0, test_tf_idf.shape[0], 1000):\n",
    "    y_pred.extend(clf.predict(test_tf_idf[i:i+1000]))\n",
    "    \n",
    "y_pred_proba = []\n",
    "for i in range(0, test_tf_idf.shape[0], 1000):\n",
    "    y_pred_proba.extend(clf.predict_proba(test_tf_idf[i:i+1000])[:,1])    \n",
    "\n",
    "\n",
    "accuracy=accuracy_score(y_test,y_pred)\n",
    "roc_auc=roc_auc_score(y_test,y_pred_proba)\n",
    "print(f'\\ngenearalisation roc_auc on best alpha-value at optimum_alpha = {optimum_alpha} is {roc_auc:.2f}')\n",
    "print(f'\\nmisclassification percentage is {(1-accuracy):.2f}%')\n",
    "\n",
    "\n",
    "#ploting confusion matrix\n",
    "sn.heatmap(confusion_matrix(y_pred,y_test),annot=True, fmt=\"d\",linewidths=.5)\n",
    "plt.title('Confusion Matrix')\n",
    "plt.xlabel('Predicted values')\n",
    "plt.ylabel('Actual values')\n",
    "plt.show()\n",
    "print(\"\\n\\nclassification report:\\n\",classification_report(y_test,y_pred)) \n",
    "\n",
    "\n",
    "# ROC Curve (reference:stack overflow with little modification)   \n",
    "\n",
    "y_train_pred_proba = []\n",
    "for i in range(0, train_tf_idf.shape[0], 1000):\n",
    "    y_train_pred_proba.extend(clf.predict_proba(train_tf_idf[i:i+1000])[:,1])\n",
    "\n",
    "\n",
    "train_fpr, train_tpr, train_threshold =roc_curve(y_train, y_train_pred_proba)\n",
    "test_fpr, test_tpr, test_threshold =roc_curve(y_test, y_pred_proba)\n",
    "\n",
    "roc_auc_train = roc_auc_score(y_train,y_train_pred_proba)\n",
    "roc_auc_test = roc_auc_score(y_test,y_pred_proba)\n",
    "\n",
    "plt.figure(figsize=(7,7))\n",
    "plt.title('Receiver Operating Characteristic')\n",
    "plt.plot(train_fpr, train_tpr, 'b', label = 'train_AUC = %0.2f' % roc_auc_train)\n",
    "plt.plot(test_fpr, test_tpr, 'r', label = 'test_AUC = %0.2f' % roc_auc_test)\n",
    "plt.legend(loc = 'lower right')\n",
    "plt.plot([0, 1], [0, 1],'k--')\n",
    "plt.xlim([-0.02, 1])\n",
    "plt.ylim([0, 1])\n",
    "plt.ylabel('True Positive Rate')\n",
    "plt.xlabel('False Positive Rate')\n",
    "plt.grid(linestyle='--', linewidth=1)\n",
    "plt.show()\n",
    "\n"
   ]
  },
  {
   "cell_type": "markdown",
   "metadata": {
    "colab_type": "text",
    "id": "Dtpj7iMSJkln"
   },
   "source": [
    "### [5.2.1] Top 10 important features of positive class from<font color='red'> SET 2</font>"
   ]
  },
  {
   "cell_type": "code",
   "execution_count": 13,
   "metadata": {},
   "outputs": [
    {
     "data": {
      "text/plain": [
       "MultinomialNB(alpha=10, class_prior=None, fit_prior=True)"
      ]
     },
     "execution_count": 13,
     "metadata": {},
     "output_type": "execute_result"
    }
   ],
   "source": [
    "\n",
    "from sklearn.naive_bayes import MultinomialNB\n",
    "from sklearn.metrics import roc_auc_score\n",
    "import matplotlib.pyplot as plt\n",
    "\n",
    "n=10\n",
    "vectorizor=tf_idf\n",
    "\n",
    "clf=MultinomialNB(alpha=10, fit_prior=True, class_prior=None) # optimim_alpha=10\n",
    "clf.fit(train_tf_idf,y_train)\n"
   ]
  },
  {
   "cell_type": "code",
   "execution_count": 19,
   "metadata": {},
   "outputs": [],
   "source": [
    "# (clf.feature_log_prob_)[1] --> '1' for positive class label\n",
    "features=pd.DataFrame({'log-prob':(clf.feature_log_prob_)[1],'feature_name':vectorizor.get_feature_names()})"
   ]
  },
  {
   "cell_type": "code",
   "execution_count": 18,
   "metadata": {
    "colab": {},
    "colab_type": "code",
    "id": "g3flcTmmJklo"
   },
   "outputs": [
    {
     "data": {
      "text/html": [
       "<div>\n",
       "<style scoped>\n",
       "    .dataframe tbody tr th:only-of-type {\n",
       "        vertical-align: middle;\n",
       "    }\n",
       "\n",
       "    .dataframe tbody tr th {\n",
       "        vertical-align: top;\n",
       "    }\n",
       "\n",
       "    .dataframe thead th {\n",
       "        text-align: right;\n",
       "    }\n",
       "</style>\n",
       "<table border=\"1\" class=\"dataframe\">\n",
       "  <thead>\n",
       "    <tr style=\"text-align: right;\">\n",
       "      <th></th>\n",
       "      <th>log-prob</th>\n",
       "      <th>positive_word</th>\n",
       "    </tr>\n",
       "  </thead>\n",
       "  <tbody>\n",
       "    <tr>\n",
       "      <th>53444</th>\n",
       "      <td>-6.669028</td>\n",
       "      <td>not</td>\n",
       "    </tr>\n",
       "    <tr>\n",
       "      <th>34245</th>\n",
       "      <td>-7.003078</td>\n",
       "      <td>great</td>\n",
       "    </tr>\n",
       "    <tr>\n",
       "      <th>33533</th>\n",
       "      <td>-7.023746</td>\n",
       "      <td>good</td>\n",
       "    </tr>\n",
       "    <tr>\n",
       "      <th>45238</th>\n",
       "      <td>-7.051448</td>\n",
       "      <td>like</td>\n",
       "    </tr>\n",
       "    <tr>\n",
       "      <th>46287</th>\n",
       "      <td>-7.185567</td>\n",
       "      <td>love</td>\n",
       "    </tr>\n",
       "    <tr>\n",
       "      <th>55115</th>\n",
       "      <td>-7.195117</td>\n",
       "      <td>one</td>\n",
       "    </tr>\n",
       "    <tr>\n",
       "      <th>78198</th>\n",
       "      <td>-7.235129</td>\n",
       "      <td>taste</td>\n",
       "    </tr>\n",
       "    <tr>\n",
       "      <th>29567</th>\n",
       "      <td>-7.281934</td>\n",
       "      <td>flavor</td>\n",
       "    </tr>\n",
       "    <tr>\n",
       "      <th>61931</th>\n",
       "      <td>-7.307256</td>\n",
       "      <td>product</td>\n",
       "    </tr>\n",
       "    <tr>\n",
       "      <th>88476</th>\n",
       "      <td>-7.338337</td>\n",
       "      <td>would</td>\n",
       "    </tr>\n",
       "  </tbody>\n",
       "</table>\n",
       "</div>"
      ],
      "text/plain": [
       "       log-prob positive_word\n",
       "53444 -6.669028           not\n",
       "34245 -7.003078         great\n",
       "33533 -7.023746          good\n",
       "45238 -7.051448          like\n",
       "46287 -7.185567          love\n",
       "55115 -7.195117           one\n",
       "78198 -7.235129         taste\n",
       "29567 -7.281934        flavor\n",
       "61931 -7.307256       product\n",
       "88476 -7.338337         would"
      ]
     },
     "execution_count": 18,
     "metadata": {},
     "output_type": "execute_result"
    }
   ],
   "source": [
    "# positive feature importance of naive bayes\n",
    "# using log probabilty as original probabilty values are too small\n",
    "\n",
    "max_ind_pos=np.argsort((clf.feature_log_prob_)[1])[::-1][0:10] \n",
    "pd.DataFrame({'log-prob':features.iloc[max_ind_pos,0],'positive_word':features.iloc[max_ind_pos,1]})"
   ]
  },
  {
   "cell_type": "markdown",
   "metadata": {
    "colab_type": "text",
    "id": "UovIVRyEJklq"
   },
   "source": [
    "### [5.2.2] Top 10 important features of negative class from<font color='red'> SET 2</font>"
   ]
  },
  {
   "cell_type": "code",
   "execution_count": 21,
   "metadata": {},
   "outputs": [],
   "source": [
    "# (clf.feature_log_prob_)[0] --> '0' for negative class label\n",
    "features=pd.DataFrame({'log-prob':(clf.feature_log_prob_)[0],'feature_name':vectorizor.get_feature_names()})"
   ]
  },
  {
   "cell_type": "code",
   "execution_count": 22,
   "metadata": {
    "scrolled": true
   },
   "outputs": [
    {
     "data": {
      "text/html": [
       "<div>\n",
       "<style scoped>\n",
       "    .dataframe tbody tr th:only-of-type {\n",
       "        vertical-align: middle;\n",
       "    }\n",
       "\n",
       "    .dataframe tbody tr th {\n",
       "        vertical-align: top;\n",
       "    }\n",
       "\n",
       "    .dataframe thead th {\n",
       "        text-align: right;\n",
       "    }\n",
       "</style>\n",
       "<table border=\"1\" class=\"dataframe\">\n",
       "  <thead>\n",
       "    <tr style=\"text-align: right;\">\n",
       "      <th></th>\n",
       "      <th>log-prob</th>\n",
       "      <th>negative_word</th>\n",
       "    </tr>\n",
       "  </thead>\n",
       "  <tbody>\n",
       "    <tr>\n",
       "      <th>53444</th>\n",
       "      <td>-6.254634</td>\n",
       "      <td>not</td>\n",
       "    </tr>\n",
       "    <tr>\n",
       "      <th>88476</th>\n",
       "      <td>-6.976598</td>\n",
       "      <td>would</td>\n",
       "    </tr>\n",
       "    <tr>\n",
       "      <th>45238</th>\n",
       "      <td>-6.977966</td>\n",
       "      <td>like</td>\n",
       "    </tr>\n",
       "    <tr>\n",
       "      <th>78198</th>\n",
       "      <td>-7.066022</td>\n",
       "      <td>taste</td>\n",
       "    </tr>\n",
       "    <tr>\n",
       "      <th>61931</th>\n",
       "      <td>-7.137677</td>\n",
       "      <td>product</td>\n",
       "    </tr>\n",
       "    <tr>\n",
       "      <th>22377</th>\n",
       "      <td>-7.258200</td>\n",
       "      <td>disappointed</td>\n",
       "    </tr>\n",
       "    <tr>\n",
       "      <th>5791</th>\n",
       "      <td>-7.269828</td>\n",
       "      <td>bad</td>\n",
       "    </tr>\n",
       "    <tr>\n",
       "      <th>55115</th>\n",
       "      <td>-7.298566</td>\n",
       "      <td>one</td>\n",
       "    </tr>\n",
       "    <tr>\n",
       "      <th>53079</th>\n",
       "      <td>-7.304793</td>\n",
       "      <td>no</td>\n",
       "    </tr>\n",
       "    <tr>\n",
       "      <th>50646</th>\n",
       "      <td>-7.325043</td>\n",
       "      <td>money</td>\n",
       "    </tr>\n",
       "  </tbody>\n",
       "</table>\n",
       "</div>"
      ],
      "text/plain": [
       "       log-prob negative_word\n",
       "53444 -6.254634           not\n",
       "88476 -6.976598         would\n",
       "45238 -6.977966          like\n",
       "78198 -7.066022         taste\n",
       "61931 -7.137677       product\n",
       "22377 -7.258200  disappointed\n",
       "5791  -7.269828           bad\n",
       "55115 -7.298566           one\n",
       "53079 -7.304793            no\n",
       "50646 -7.325043         money"
      ]
     },
     "execution_count": 22,
     "metadata": {},
     "output_type": "execute_result"
    }
   ],
   "source": [
    "# negative feature importance of naive bayes\n",
    "# using log probabilty as original probabilty values are too small\n",
    "\n",
    "max_ind_neg=np.argsort((clf.feature_log_prob_)[0])[::-1][0:10] \n",
    "pd.DataFrame({'log-prob':features.iloc[max_ind_neg,0],'negative_word':features.iloc[max_ind_neg,1]})"
   ]
  },
  {
   "cell_type": "markdown",
   "metadata": {},
   "source": [
    "# [5.3] Feature Engineering "
   ]
  },
  {
   "cell_type": "markdown",
   "metadata": {},
   "source": [
    "### [5.3.1] Using length of reviews as feature and then check weather this perticular feature effect result of model or not"
   ]
  },
  {
   "cell_type": "markdown",
   "metadata": {},
   "source": [
    "* Using DataFrameMapper from sklean-pandas library to combine length of reviews as additional feature with BOW and TFIDF featurizer"
   ]
  },
  {
   "cell_type": "code",
   "execution_count": 181,
   "metadata": {},
   "outputs": [],
   "source": [
    "from sklearn_pandas import DataFrameMapper\n",
    "\n",
    "# traning Dataframe\n",
    "df_train=pd.DataFrame(x_train)\n",
    "reviews_len_train=df_train[0].str.len() #storing length of reviews from traning reviews\n",
    "df_train['review_len']=reviews_len_train\n",
    "\n",
    "# validation Dataframe\n",
    "df_cv=pd.DataFrame(x_cv)\n",
    "reviews_len_cv=df_cv[0].str.len() #storing length of reviews from validation reviews\n",
    "df_cv['review_len']=reviews_len_cv\n",
    "\n",
    "# testing Dataframe\n",
    "df_test=pd.DataFrame(x_test)\n",
    "reviews_len_test=df_test[0].str.len() #storing length of reviews from validation reviews\n",
    "df_test['review_len']=reviews_len_test"
   ]
  },
  {
   "cell_type": "markdown",
   "metadata": {},
   "source": [
    "### 1. appying naive bayes on(BOW+reviews_length)"
   ]
  },
  {
   "cell_type": "code",
   "execution_count": 182,
   "metadata": {},
   "outputs": [],
   "source": [
    "mapper_bow=DataFrameMapper([(0,CountVectorizer()),\n",
    "                           ('review_len',None)],sparse=True)\n",
    "\n",
    "train_with_len_feat_bow=mapper_bow.fit_transform(df_train)\n",
    "cv_with_len_feat_bow=mapper_bow.transform(df_cv)\n",
    "test_with_len_feat_bow=mapper_bow.transform(df_test)"
   ]
  },
  {
   "cell_type": "code",
   "execution_count": 180,
   "metadata": {
    "scrolled": true
   },
   "outputs": [
    {
     "data": {
      "image/png": "[encoded data removed]",
      "text/plain": [
       "<Figure size 432x288 with 1 Axes>"
      ]
     },
     "metadata": {
      "needs_background": "light"
     },
     "output_type": "display_data"
    }
   ],
   "source": [
    "\n",
    "from sklearn.naive_bayes import MultinomialNB\n",
    "from sklearn.metrics import roc_auc_score\n",
    "import matplotlib.pyplot as plt\n",
    "\n",
    "\"\"\"\n",
    "y_true : array, shape = [n_samples] or [n_samples, n_classes]\n",
    "True binary labels or binary label indicators.\n",
    "\n",
    "y_score : array, shape = [n_samples] or [n_samples, n_classes]\n",
    "Target scores, can either be probability estimates of the positive class, confidence values, or non-thresholded measure of\n",
    "decisions (as returned by “decision_function” on some classifiers). \n",
    "For binary y_true, y_score is supposed to be the score of the class with greater label.\n",
    "\n",
    "\"\"\"\n",
    "\n",
    "train_auc = []\n",
    "cv_auc = []\n",
    "K = [10,25,35,50,75,100,125,150]\n",
    "alpha_range = [10e-5,10e-4,10e-3,10e-2,1,10,10e1,10e2,10e3]\n",
    "for i in alpha_range:\n",
    "    mnb=MultinomialNB(alpha=i, fit_prior=True, class_prior=None) \n",
    "    mnb.fit(train_with_len_feat, y_train)\n",
    "    # roc_auc_score(y_true, y_score) the 2nd parameter should be probability estimates of the positive class\n",
    "    # not the predicted outputs\n",
    "     \n",
    "    #predicting on train and cv using blocks\n",
    "    y_train_pred = []\n",
    "    for i in range(0, train_with_len_feat.shape[0], 1000):\n",
    "        y_train_pred.extend(mnb.predict_proba(train_with_len_feat[i:i+1000])[:,1]) \n",
    "\n",
    "    y_cv_pred = []\n",
    "    for i in range(0, cv_with_len_feat.shape[0], 1000):\n",
    "        y_cv_pred.extend(mnb.predict_proba(cv_with_len_feat[i:i+1000])[:,1]) \n",
    "\n",
    "\n",
    "    train_auc.append(roc_auc_score(y_train,y_train_pred))\n",
    "    cv_auc.append(roc_auc_score(y_cv, y_cv_pred))\n",
    "\n",
    "\n",
    "    \n",
    "    \n",
    "plt.plot(np.arange(1,10,1), train_auc, label='Train AUC')\n",
    "plt.plot(np.arange(1,10,1), cv_auc, label='CV AUC')\n",
    "plt.xticks( np.arange(1,10,1), (10e-5, 10e-4, 10e-3, 10e-2, 10e-1, 10e0, 10e1, 10e2, 10e3))\n",
    "plt.legend()\n",
    "plt.xlabel(\"alpha: hyperparameter\")\n",
    "plt.ylabel(\"AUC\")\n",
    "plt.title(\"ERROR PLOTS\")\n",
    "plt.grid()\n",
    "plt.show()\n"
   ]
  },
  {
   "cell_type": "code",
   "execution_count": 184,
   "metadata": {},
   "outputs": [
    {
     "name": "stdout",
     "output_type": "stream",
     "text": [
      "\n",
      "genearalisation roc_auc on best alpha-value at optimum_alpha = 1 is 0.92\n",
      "\n",
      "misclassification percentage is 0.09%\n"
     ]
    },
    {
     "data": {
      "image/png": "[encoded data removed]",
      "text/plain": [
       "<Figure size 432x288 with 2 Axes>"
      ]
     },
     "metadata": {
      "needs_background": "light"
     },
     "output_type": "display_data"
    },
    {
     "name": "stdout",
     "output_type": "stream",
     "text": [
      "\n",
      "\n",
      "classification report:\n",
      "              precision    recall  f1-score   support\n",
      "\n",
      "          0       0.72      0.67      0.70     11223\n",
      "          1       0.94      0.95      0.95     61428\n",
      "\n",
      "avg / total       0.91      0.91      0.91     72651\n",
      "\n"
     ]
    },
    {
     "data": {
      "image/png": "[encoded data removed]",
      "text/plain": [
       "<Figure size 504x504 with 1 Axes>"
      ]
     },
     "metadata": {
      "needs_background": "light"
     },
     "output_type": "display_data"
    }
   ],
   "source": [
    "# Test dataset\n",
    "\n",
    "from sklearn.naive_bayes import MultinomialNB\n",
    "from sklearn.metrics import roc_auc_score\n",
    "import matplotlib.pyplot as plt\n",
    "\n",
    "\n",
    "#using optimum_k to find generalistion ROC AUC accuracy\n",
    "optimum_alpha=1 #optimum 'alpha'\n",
    "\n",
    "clf=MultinomialNB(alpha=optimum_alpha, fit_prior=True, class_prior=None)\n",
    "clf.fit(train_with_len_feat_bow,y_train)\n",
    "\n",
    "\n",
    "y_pred = []\n",
    "for i in range(0, test_with_len_feat_bow.shape[0], 1000):\n",
    "    y_pred.extend(clf.predict(test_with_len_feat_bow[i:i+1000]))\n",
    "    \n",
    "y_pred_proba = []\n",
    "for i in range(0, test_with_len_feat_bow.shape[0], 1000):\n",
    "    y_pred_proba.extend(clf.predict_proba(test_with_len_feat_bow[i:i+1000])[:,1])    \n",
    "\n",
    "\n",
    "accuracy=accuracy_score(y_test,y_pred)\n",
    "roc_auc=roc_auc_score(y_test,y_pred_proba)\n",
    "print(f'\\ngenearalisation roc_auc on best alpha-value at optimum_alpha = {optimum_alpha} is {roc_auc:.2f}')\n",
    "print(f'\\nmisclassification percentage is {(1-accuracy):.2f}%')\n",
    "\n",
    "\n",
    "#ploting confusion matrix\n",
    "sn.heatmap(confusion_matrix(y_pred,y_test),annot=True, fmt=\"d\",linewidths=.5)\n",
    "plt.title('Confusion Matrix')\n",
    "plt.xlabel('Predicted values')\n",
    "plt.ylabel('Actual values')\n",
    "plt.show()\n",
    "print(\"\\n\\nclassification report:\\n\",classification_report(y_test,y_pred)) \n",
    "\n",
    "\n",
    "# ROC Curve (reference:stack overflow with little modification)   \n",
    "\n",
    "y_train_pred_proba = []\n",
    "for i in range(0, train_with_len_feat_bow.shape[0], 1000):\n",
    "    y_train_pred_proba.extend(clf.predict_proba(train_with_len_feat_bow[i:i+1000])[:,1])\n",
    "\n",
    "\n",
    "train_fpr, train_tpr, train_threshold =roc_curve(y_train, y_train_pred_proba)\n",
    "test_fpr, test_tpr, test_threshold =roc_curve(y_test, y_pred_proba)\n",
    "\n",
    "roc_auc_train = roc_auc_score(y_train,y_train_pred_proba)\n",
    "roc_auc_test = roc_auc_score(y_test,y_pred_proba)\n",
    "\n",
    "plt.figure(figsize=(7,7))\n",
    "plt.title('Receiver Operating Characteristic')\n",
    "plt.plot(train_fpr, train_tpr, 'b', label = 'train_AUC = %0.2f' % roc_auc_train)\n",
    "plt.plot(test_fpr, test_tpr, 'r', label = 'test_AUC = %0.2f' % roc_auc_test)\n",
    "plt.legend(loc = 'lower right')\n",
    "plt.plot([0, 1], [0, 1],'k--')\n",
    "plt.xlim([-0.02, 1])\n",
    "plt.ylim([0, 1])\n",
    "plt.ylabel('True Positive Rate')\n",
    "plt.xlabel('False Positive Rate')\n",
    "plt.grid(linestyle='--', linewidth=1)\n",
    "plt.show()\n",
    "\n"
   ]
  },
  {
   "cell_type": "markdown",
   "metadata": {},
   "source": [
    "### 2. appying naive bayes on (tfidf+reviews_length)"
   ]
  },
  {
   "cell_type": "code",
   "execution_count": 185,
   "metadata": {},
   "outputs": [],
   "source": [
    "mapper_bow=DataFrameMapper([(0,TfidfVectorizer()),\n",
    "                           ('review_len',None)],sparse=True)\n",
    "\n",
    "train_with_len_feat_tfidf=mapper_bow.fit_transform(df_train)\n",
    "cv_with_len_feat_tfidf=mapper_bow.transform(df_cv)\n",
    "test_with_len_feat_tfidf=mapper_bow.transform(df_test)"
   ]
  },
  {
   "cell_type": "code",
   "execution_count": 177,
   "metadata": {
    "scrolled": true
   },
   "outputs": [
    {
     "data": {
      "image/png": "[encoded data removed]",
      "text/plain": [
       "<Figure size 432x288 with 1 Axes>"
      ]
     },
     "metadata": {
      "needs_background": "light"
     },
     "output_type": "display_data"
    }
   ],
   "source": [
    "\n",
    "from sklearn.naive_bayes import MultinomialNB\n",
    "from sklearn.metrics import roc_auc_score\n",
    "import matplotlib.pyplot as plt\n",
    "\n",
    "\"\"\"\n",
    "y_true : array, shape = [n_samples] or [n_samples, n_classes]\n",
    "True binary labels or binary label indicators.\n",
    "\n",
    "y_score : array, shape = [n_samples] or [n_samples, n_classes]\n",
    "Target scores, can either be probability estimates of the positive class, confidence values, or non-thresholded measure of\n",
    "decisions (as returned by “decision_function” on some classifiers). \n",
    "For binary y_true, y_score is supposed to be the score of the class with greater label.\n",
    "\n",
    "\"\"\"\n",
    "\n",
    "train_auc = []\n",
    "cv_auc = []\n",
    "K = [10,25,35,50,75,100,125,150]\n",
    "alpha_range = [10e-5,10e-4,10e-3,10e-2,1,10,10e1,10e2,10e3]\n",
    "for i in alpha_range:\n",
    "    mnb=MultinomialNB(alpha=i, fit_prior=True, class_prior=None) \n",
    "    mnb.fit(train_with_len_feat_tfidf, y_train)\n",
    "    # roc_auc_score(y_true, y_score) the 2nd parameter should be probability estimates of the positive class\n",
    "    # not the predicted outputs\n",
    "     \n",
    "    #predicting on train and cv using blocks\n",
    "    y_train_pred = []\n",
    "    for i in range(0, train_with_len_feat_tfidf.shape[0], 1000):\n",
    "        y_train_pred.extend(mnb.predict_proba(train_with_len_feat_tfidf[i:i+1000])[:,1]) \n",
    "\n",
    "    y_cv_pred = []\n",
    "    for i in range(0, cv_with_len_feat.shape[0], 1000):\n",
    "        y_cv_pred.extend(mnb.predict_proba(cv_with_len_feat_tfidf[i:i+1000])[:,1]) \n",
    "\n",
    "\n",
    "    train_auc.append(roc_auc_score(y_train,y_train_pred))\n",
    "    cv_auc.append(roc_auc_score(y_cv, y_cv_pred))\n",
    "\n",
    "\n",
    "    \n",
    "    \n",
    "plt.plot(np.arange(1,10,1), train_auc, label='Train AUC')\n",
    "plt.plot(np.arange(1,10,1), cv_auc, label='CV AUC')\n",
    "plt.xticks( np.arange(1,10,1), (10e-5, 10e-4, 10e-3, 10e-2, 10e-1, 10e0, 10e1, 10e2, 10e3))\n",
    "plt.legend()\n",
    "plt.xlabel(\"alpha: hyperparameter\")\n",
    "plt.ylabel(\"AUC\")\n",
    "plt.title(\"ERROR PLOTS\")\n",
    "plt.grid()\n",
    "plt.show()\n"
   ]
  },
  {
   "cell_type": "code",
   "execution_count": 186,
   "metadata": {},
   "outputs": [
    {
     "name": "stdout",
     "output_type": "stream",
     "text": [
      "\n",
      "genearalisation roc_auc on best alpha-value at optimum_alpha = 0.1 is 0.93\n",
      "\n",
      "misclassification percentage is 0.12%\n"
     ]
    },
    {
     "data": {
      "image/png": "[encoded data removed]",
      "text/plain": [
       "<Figure size 432x288 with 2 Axes>"
      ]
     },
     "metadata": {
      "needs_background": "light"
     },
     "output_type": "display_data"
    },
    {
     "name": "stdout",
     "output_type": "stream",
     "text": [
      "\n",
      "\n",
      "classification report:\n",
      "              precision    recall  f1-score   support\n",
      "\n",
      "          0       0.86      0.30      0.44     11223\n",
      "          1       0.89      0.99      0.94     61428\n",
      "\n",
      "avg / total       0.88      0.88      0.86     72651\n",
      "\n"
     ]
    },
    {
     "data": {
      "image/png": "[encoded data removed]",
      "text/plain": [
       "<Figure size 504x504 with 1 Axes>"
      ]
     },
     "metadata": {
      "needs_background": "light"
     },
     "output_type": "display_data"
    }
   ],
   "source": [
    "# Test dataset\n",
    "\n",
    "from sklearn.naive_bayes import MultinomialNB\n",
    "from sklearn.metrics import roc_auc_score\n",
    "import matplotlib.pyplot as plt\n",
    "\n",
    "\n",
    "#using optimum_k to find generalistion ROC AUC accuracy\n",
    "optimum_alpha=0.1 #optimum 'alpha'\n",
    "\n",
    "clf=MultinomialNB(alpha=optimum_alpha, fit_prior=True, class_prior=None)\n",
    "clf.fit(train_with_len_feat_tfidf,y_train)\n",
    "\n",
    "\n",
    "y_pred = []\n",
    "for i in range(0, test_with_len_feat_tfidf.shape[0], 1000):\n",
    "    y_pred.extend(clf.predict(test_with_len_feat_tfidf[i:i+1000]))\n",
    "    \n",
    "y_pred_proba = []\n",
    "for i in range(0, test_with_len_feat_tfidf.shape[0], 1000):\n",
    "    y_pred_proba.extend(clf.predict_proba(test_with_len_feat_tfidf[i:i+1000])[:,1])    \n",
    "\n",
    "\n",
    "accuracy=accuracy_score(y_test,y_pred)\n",
    "roc_auc=roc_auc_score(y_test,y_pred_proba)\n",
    "print(f'\\ngenearalisation roc_auc on best alpha-value at optimum_alpha = {optimum_alpha} is {roc_auc:.2f}')\n",
    "print(f'\\nmisclassification percentage is {(1-accuracy):.2f}%')\n",
    "\n",
    "\n",
    "#ploting confusion matrix\n",
    "sn.heatmap(confusion_matrix(y_pred,y_test),annot=True, fmt=\"d\",linewidths=.5)\n",
    "plt.title('Confusion Matrix')\n",
    "plt.xlabel('Predicted values')\n",
    "plt.ylabel('Actual values')\n",
    "plt.show()\n",
    "print(\"\\n\\nclassification report:\\n\",classification_report(y_test,y_pred)) \n",
    "\n",
    "\n",
    "# ROC Curve (reference:stack overflow with little modification)   \n",
    "\n",
    "y_train_pred_proba = []\n",
    "for i in range(0, train_with_len_feat_tfidf.shape[0], 1000):\n",
    "    y_train_pred_proba.extend(clf.predict_proba(train_with_len_feat_tfidf[i:i+1000])[:,1])\n",
    "\n",
    "\n",
    "train_fpr, train_tpr, train_threshold =roc_curve(y_train, y_train_pred_proba)\n",
    "test_fpr, test_tpr, test_threshold =roc_curve(y_test, y_pred_proba)\n",
    "\n",
    "roc_auc_train = roc_auc_score(y_train,y_train_pred_proba)\n",
    "roc_auc_test = roc_auc_score(y_test,y_pred_proba)\n",
    "\n",
    "plt.figure(figsize=(7,7))\n",
    "plt.title('Receiver Operating Characteristic')\n",
    "plt.plot(train_fpr, train_tpr, 'b', label = 'train_AUC = %0.2f' % roc_auc_train)\n",
    "plt.plot(test_fpr, test_tpr, 'r', label = 'test_AUC = %0.2f' % roc_auc_test)\n",
    "plt.legend(loc = 'lower right')\n",
    "plt.plot([0, 1], [0, 1],'k--')\n",
    "plt.xlim([-0.02, 1])\n",
    "plt.ylim([0, 1])\n",
    "plt.ylabel('True Positive Rate')\n",
    "plt.xlabel('False Positive Rate')\n",
    "plt.grid(linestyle='--', linewidth=1)\n",
    "plt.show()\n",
    "\n"
   ]
  },
  {
   "cell_type": "markdown",
   "metadata": {},
   "source": [
    "### observation:\n",
    "\n",
    "* Adding length of reviews as additional feature helps improving performance of model.\n",
    "* length of reviews as additional feature with TF-IDF improved ROC_AUC of model from 78% to 93%.\n"
   ]
  },
  {
   "cell_type": "markdown",
   "metadata": {
    "colab_type": "text",
    "id": "vst5Y7mmJklu"
   },
   "source": [
    "# [6] Conclusions"
   ]
  },
  {
   "cell_type": "code",
   "execution_count": 1,
   "metadata": {
    "colab": {},
    "colab_type": "code",
    "id": "De9HYtIGJklv"
   },
   "outputs": [
    {
     "name": "stdout",
     "output_type": "stream",
     "text": [
      "+-------------------------+---------------+-------------------------------+-----------------------+\n",
      "|    text featurization   | optimum_alpha | generalization ROC AUC(%age)  | algorithm:Naive_bayes |\n",
      "+-------------------------+---------------+-------------------------------+-----------------------+\n",
      "|           BOW           |       1       |               92              |      Multinomial      |\n",
      "|          TF_IDF         |       10      |               78              |      Multinomial      |\n",
      "|   BOW + reviews_length  |       1       |               92              |      Multinomial      |\n",
      "| TF_IDF + reviews_length |      0.1      |               93              |      Multinomial      |\n",
      "+-------------------------+---------------+-------------------------------+-----------------------+\n"
     ]
    }
   ],
   "source": [
    "# Please compare all your models using Prettytable library\n",
    "\n",
    "from prettytable import PrettyTable\n",
    "    \n",
    "x = PrettyTable()\n",
    "\n",
    "x.field_names = [\"text featurization\", \"optimum_alpha\", \"generalization ROC AUC(%age) \", \"algorithm:Naive_bayes\",]\n",
    "\n",
    "x.add_row([\"BOW\", 1,92, \"Multinomial\"])\n",
    "x.add_row([\"TF_IDF\", 10,78, \"Multinomial\"])\n",
    "x.add_row([\"BOW + reviews_length\", 1,92, \"Multinomial\"])\n",
    "x.add_row([\"TF_IDF + reviews_length\", 0.1,93, \"Multinomial\"])\n",
    "\n",
    "print(x)"
   ]
  },
  {
   "cell_type": "markdown",
   "metadata": {},
   "source": [
    "### Observation:\n",
    "1. Runtime of Naive Bayes algorithm is much faster than KNN beacuse runtime complextity of naive Bayes is ~ O(d)\n",
    "2. I am considering ROC AUC metric to compare the performance so best generalization ROC AUC is 93% on (TF_IDF + reviews_length) Featurization\n",
    "3. Adding length of feature improved the result of the model and therefore we can add this feature to improve performance of the model"
   ]
  },
  {
   "cell_type": "code",
   "execution_count": null,
   "metadata": {},
   "outputs": [],
   "source": []
  }
 ],
 "metadata": {
  "colab": {
   "name": "04 Amazon Fine Food Reviews Analysis_NaiveBayes.ipynb",
   "provenance": [],
   "version": "0.3.2"
  },
  "kernelspec": {
   "display_name": "Python 3",
   "language": "python",
   "name": "python3"
  },
  "language_info": {
   "codemirror_mode": {
    "name": "ipython",
    "version": 3
   },
   "file_extension": ".py",
   "mimetype": "text/x-python",
   "name": "python",
   "nbconvert_exporter": "python",
   "pygments_lexer": "ipython3",
   "version": "3.7.0"
  }
 },
 "nbformat": 4,
 "nbformat_minor": 1
}
